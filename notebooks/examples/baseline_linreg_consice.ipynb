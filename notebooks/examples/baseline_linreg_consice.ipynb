{
 "cells": [
  {
   "cell_type": "markdown",
   "source": [
    "# Modality Prediction Consice Baseline\n",
    "This notebook will levarage your expertise by our handy tools"
   ],
   "metadata": {}
  },
  {
   "cell_type": "code",
   "execution_count": 1,
   "source": [
    "from lab_scripts.data import dataloader\n",
    "from lab_scripts.models.baselines import linear_regression\n",
    "from lab_scripts.metrics.mp import mp_metrics\n",
    "from lab_scripts.utils import utils\n",
    "utils.change_directory_to_repo()\n",
    "\n",
    "import logging\n",
    "logging.basicConfig(level=logging.INFO)"
   ],
   "outputs": [],
   "metadata": {}
  },
  {
   "cell_type": "code",
   "execution_count": 2,
   "source": [
    "data = dataloader.load_data('mp/official/gex_to_atac')\n",
    "train_mod1 = data['train_mod1']\n",
    "train_mod2 = data['train_mod2']\n",
    "test_mod1 = data['test_mod1']\n",
    "test_mod2 = data['test_mod2']"
   ],
   "outputs": [],
   "metadata": {}
  },
  {
   "cell_type": "code",
   "execution_count": 5,
   "source": [
    "mod1 = utils.get_mod(train_mod1)\n",
    "mod2 = utils.get_mod(train_mod2)\n",
    "print(f'Modality of train_mod1 is {mod1}')\n",
    "print(f'Modality of train_mod2 is {mod2}')"
   ],
   "outputs": [
    {
     "output_type": "stream",
     "name": "stdout",
     "text": [
      "Modality of train_mod1 is gex\n",
      "Modality of train_mod2 is atac\n"
     ]
    }
   ],
   "metadata": {}
  },
  {
   "cell_type": "code",
   "execution_count": 6,
   "source": [
    "task_type = utils.get_task_type(mod1, mod2)\n",
    "print(f'Current data type is {task_type}')"
   ],
   "outputs": [
    {
     "output_type": "stream",
     "name": "stdout",
     "text": [
      "Current data type is gex_to_atac\n"
     ]
    }
   ],
   "metadata": {}
  },
  {
   "cell_type": "code",
   "execution_count": 7,
   "source": [
    "svd_mod1 = linear_regression.train_svd(train_mod1.X, 50)\n",
    "svd_mod2 = linear_regression.train_svd(train_mod2.X, 200)"
   ],
   "outputs": [],
   "metadata": {}
  },
  {
   "cell_type": "code",
   "execution_count": 8,
   "source": [
    "train_mod1_X = svd_mod1.transform(train_mod1.X)\n",
    "train_mod2_X = svd_mod2.transform(train_mod2.X)\n",
    "test_mod1_X = svd_mod1.transform(test_mod1.X)"
   ],
   "outputs": [],
   "metadata": {}
  },
  {
   "cell_type": "code",
   "execution_count": 9,
   "source": [
    "# Models take config as plain dicts\n",
    "config = {\n",
    "    'alpha': 1.0,\n",
    "    'l1_ratio': 0.5,\n",
    "}"
   ],
   "outputs": [],
   "metadata": {}
  },
  {
   "cell_type": "code",
   "execution_count": 10,
   "source": [
    "regressor = linear_regression.train_regressor(train_mod1_X, train_mod2_X, config)"
   ],
   "outputs": [
    {
     "output_type": "stream",
     "name": "stderr",
     "text": [
      "INFO:linear_regression:Fitting...\n"
     ]
    }
   ],
   "metadata": {}
  },
  {
   "cell_type": "code",
   "execution_count": 11,
   "source": [
    "predictions = linear_regression.predict(test_mod1_X, regressor)"
   ],
   "outputs": [
    {
     "output_type": "stream",
     "name": "stderr",
     "text": [
      "INFO:linear_regression:Predicting...\n"
     ]
    }
   ],
   "metadata": {}
  },
  {
   "cell_type": "code",
   "execution_count": 12,
   "source": [
    "predictions = svd_mod2.inverse_transform(predictions)"
   ],
   "outputs": [],
   "metadata": {}
  },
  {
   "cell_type": "code",
   "execution_count": 13,
   "source": [
    "mp_metrics.calculate_target(predictions, test_mod2)"
   ],
   "outputs": [
    {
     "output_type": "execute_result",
     "data": {
      "text/plain": [
       "0.16060328"
      ]
     },
     "metadata": {},
     "execution_count": 13
    }
   ],
   "metadata": {}
  }
 ],
 "metadata": {
  "orig_nbformat": 4,
  "language_info": {
   "name": "python",
   "version": "3.8.11",
   "mimetype": "text/x-python",
   "codemirror_mode": {
    "name": "ipython",
    "version": 3
   },
   "pygments_lexer": "ipython3",
   "nbconvert_exporter": "python",
   "file_extension": ".py"
  },
  "kernelspec": {
   "name": "python3",
   "display_name": "Python 3.8.11 64-bit ('nips': conda)"
  },
  "interpreter": {
   "hash": "56a7e32d7961928a9f3e18e44fe070068f0318925842ce4245f771b32b697ac8"
  }
 },
 "nbformat": 4,
 "nbformat_minor": 2
}
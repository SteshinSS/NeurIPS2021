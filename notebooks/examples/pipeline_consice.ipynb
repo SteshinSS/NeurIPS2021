{
 "cells": [
  {
   "cell_type": "markdown",
   "source": [
    "# Advanced Tutorial: consice EDA and preprocessing of the totalVI_10x gex dataset\n",
    "In last tutorial we preprocessed gex dataset. But can we do it faster?\n",
    "\n",
    "In future we will find out some new preprocessing nuance and we will want to preprocess the raw dataset again. That is why we have script, so we can do preprocessing quickly."
   ],
   "metadata": {}
  },
  {
   "cell_type": "code",
   "execution_count": 1,
   "source": [
    "import anndata as ad\n",
    "import scanpy as sc\n",
    "import seaborn as sns\n",
    "\n",
    "# Change current directory to repo root\n",
    "# We use this in each notebook\n",
    "from lab_scripts.utils import utils\n",
    "utils.change_directory_to_repo()\n",
    "\n",
    "from lab_scripts.data.preprocessing.common import gex_normalization, gex_qc\n",
    "\n",
    "sc.settings.verbosity = 3  # show info messages\n",
    "sc.set_figure_params(figsize=(5, 3))  # set figsize for plots\n"
   ],
   "outputs": [],
   "metadata": {}
  },
  {
   "cell_type": "code",
   "execution_count": 2,
   "source": [
    "data = ad.read_h5ad(\"data/raw/gex_adt/totalVI_10x_gex.h5ad\")"
   ],
   "outputs": [],
   "metadata": {}
  },
  {
   "cell_type": "markdown",
   "source": [
    "We already know good QC parameters from EDA. Let's apply them."
   ],
   "metadata": {}
  },
  {
   "cell_type": "code",
   "execution_count": 3,
   "source": [
    "qc_parameters = {\n",
    "    # Minimal number of counts in cell\n",
    "    'cell_min_counts': 2200,\n",
    "\n",
    "    # Maximal number of counts in cell\n",
    "    'cell_max_counts': 10000,\n",
    "}\n",
    "\n",
    "data = gex_qc.standard_qc(data, qc_parameters)"
   ],
   "outputs": [
    {
     "output_type": "stream",
     "name": "stdout",
     "text": [
      "filtered out 167 cells that have less than 2200 counts\n",
      "filtered out 199 cells that have more than 10000 counts\n"
     ]
    }
   ],
   "metadata": {}
  },
  {
   "cell_type": "markdown",
   "source": [
    "You can set more parameters. See `lab_scripts/data/preprocessing/common/gex_qc.py`."
   ],
   "metadata": {}
  },
  {
   "cell_type": "code",
   "execution_count": 4,
   "source": [
    "qc_parameters = {\n",
    "    # Remove cells with more than 20% mitochondrial genes\n",
    "    'mito_max_fraction': 0.2,\n",
    "\n",
    "    # Remove cells, expressing less than 100 different genes\n",
    "    'cell_min_genes': 100,\n",
    "\n",
    "    # Remove genes, which are expressed in less than 3 cells\n",
    "    'gene_min_cells': 3,\n",
    "}"
   ],
   "outputs": [],
   "metadata": {}
  },
  {
   "cell_type": "markdown",
   "source": [
    "We won't apply them now."
   ],
   "metadata": {}
  },
  {
   "cell_type": "markdown",
   "source": [
    "## Normalization"
   ],
   "metadata": {}
  },
  {
   "cell_type": "markdown",
   "source": [
    "Remember scary R code from the last tutorial? This is it now. Feel old yet?"
   ],
   "metadata": {}
  },
  {
   "cell_type": "code",
   "execution_count": 5,
   "source": [
    "clusters = gex_normalization.get_clusters(data)\n",
    "data = gex_normalization.calculate_size_factors(data, clusters)\n",
    "data = gex_normalization.normalize(data)"
   ],
   "outputs": [
    {
     "output_type": "stream",
     "name": "stdout",
     "text": [
      "normalizing by total count per cell\n",
      "    finished (0:00:00): normalized adata.X and added    'n_counts', counts per cell before normalization (adata.obs)\n",
      "computing neighbors\n",
      "WARNING: You’re trying to run this on 16659 dimensions of `.X`, if you really want this, set `use_rep='X'`.\n",
      "         Falling back to preprocessing with `sc.pp.pca` and default params.\n",
      "computing PCA\n",
      "    with n_comps=50\n",
      "    finished (0:00:21)\n",
      "    finished: added to `.uns['neighbors']`\n",
      "    `.obsp['distances']`, distances for each pair of neighbors\n",
      "    `.obsp['connectivities']`, weighted adjacency matrix (0:00:24)\n",
      "running Louvain clustering\n",
      "    using the \"louvain\" package of Traag (2017)\n",
      "    finished: found 7 clusters and added\n",
      "    'groups', the cluster labels (adata.obs, categorical) (0:00:00)\n"
     ]
    }
   ],
   "metadata": {}
  },
  {
   "cell_type": "markdown",
   "source": [
    "Read more at `lab_scripts/data/preprocessing/common/gex_normalization.py`"
   ],
   "metadata": {}
  },
  {
   "cell_type": "markdown",
   "source": [],
   "metadata": {}
  }
 ],
 "metadata": {
  "orig_nbformat": 4,
  "language_info": {
   "name": "python",
   "version": "3.8.11",
   "mimetype": "text/x-python",
   "codemirror_mode": {
    "name": "ipython",
    "version": 3
   },
   "pygments_lexer": "ipython3",
   "nbconvert_exporter": "python",
   "file_extension": ".py"
  },
  "kernelspec": {
   "name": "python3",
   "display_name": "Python 3.8.11 64-bit ('nips': conda)"
  },
  "interpreter": {
   "hash": "56a7e32d7961928a9f3e18e44fe070068f0318925842ce4245f771b32b697ac8"
  }
 },
 "nbformat": 4,
 "nbformat_minor": 2
}
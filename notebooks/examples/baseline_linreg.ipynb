{
 "cells": [
  {
   "cell_type": "markdown",
   "source": [
    "# Modality Prediction Baseline ADT to GEX by Linear Regression\n",
    "This notebook show basics of using datasets and making predictions"
   ],
   "metadata": {}
  },
  {
   "cell_type": "code",
   "execution_count": 1,
   "source": [
    "import anndata as ad\n",
    "\n",
    "from sklearn.model_selection import train_test_split\n",
    "from sklearn.linear_model import LinearRegression\n",
    "from sklearn.dummy import DummyRegressor\n",
    "from sklearn.metrics import mean_squared_error"
   ],
   "outputs": [],
   "metadata": {}
  },
  {
   "cell_type": "code",
   "execution_count": 2,
   "source": [
    "# We are always predict mod2 from mod1\n",
    "train_mod1 = ad.read_h5ad(\"data/official/predict_modality/openproblems_bmmc_cite_phase1_mod2/openproblems_bmmc_cite_phase1_mod2.censor_dataset.output_train_mod1.h5ad\")\n",
    "train_mod2 = ad.read_h5ad(\"data/official/predict_modality/openproblems_bmmc_cite_phase1_mod2/openproblems_bmmc_cite_phase1_mod2.censor_dataset.output_train_mod2.h5ad\")\n",
    "test_mod1 = ad.read_h5ad(\"data/official/predict_modality/openproblems_bmmc_cite_phase1_mod2/openproblems_bmmc_cite_phase1_mod2.censor_dataset.output_test_mod1.h5ad\")\n",
    "\n",
    "test_mod2 = ad.read_h5ad(\"data/official/predict_modality/openproblems_bmmc_cite_phase1_mod2/openproblems_bmmc_cite_phase1_mod2.censor_dataset.output_test_mod2.h5ad\")"
   ],
   "outputs": [],
   "metadata": {}
  },
  {
   "cell_type": "code",
   "execution_count": 3,
   "source": [
    "# Let's see inside\n",
    "train_mod1.var"
   ],
   "outputs": [
    {
     "output_type": "execute_result",
     "data": {
      "text/html": [
       "<div>\n",
       "<style scoped>\n",
       "    .dataframe tbody tr th:only-of-type {\n",
       "        vertical-align: middle;\n",
       "    }\n",
       "\n",
       "    .dataframe tbody tr th {\n",
       "        vertical-align: top;\n",
       "    }\n",
       "\n",
       "    .dataframe thead th {\n",
       "        text-align: right;\n",
       "    }\n",
       "</style>\n",
       "<table border=\"1\" class=\"dataframe\">\n",
       "  <thead>\n",
       "    <tr style=\"text-align: right;\">\n",
       "      <th></th>\n",
       "      <th>feature_types</th>\n",
       "    </tr>\n",
       "  </thead>\n",
       "  <tbody>\n",
       "    <tr>\n",
       "      <th>CD86</th>\n",
       "      <td>ADT</td>\n",
       "    </tr>\n",
       "    <tr>\n",
       "      <th>CD274</th>\n",
       "      <td>ADT</td>\n",
       "    </tr>\n",
       "    <tr>\n",
       "      <th>CD270</th>\n",
       "      <td>ADT</td>\n",
       "    </tr>\n",
       "    <tr>\n",
       "      <th>CD155</th>\n",
       "      <td>ADT</td>\n",
       "    </tr>\n",
       "    <tr>\n",
       "      <th>CD112</th>\n",
       "      <td>ADT</td>\n",
       "    </tr>\n",
       "    <tr>\n",
       "      <th>...</th>\n",
       "      <td>...</td>\n",
       "    </tr>\n",
       "    <tr>\n",
       "      <th>HLA-E</th>\n",
       "      <td>ADT</td>\n",
       "    </tr>\n",
       "    <tr>\n",
       "      <th>CD82</th>\n",
       "      <td>ADT</td>\n",
       "    </tr>\n",
       "    <tr>\n",
       "      <th>CD101</th>\n",
       "      <td>ADT</td>\n",
       "    </tr>\n",
       "    <tr>\n",
       "      <th>CD88</th>\n",
       "      <td>ADT</td>\n",
       "    </tr>\n",
       "    <tr>\n",
       "      <th>CD224</th>\n",
       "      <td>ADT</td>\n",
       "    </tr>\n",
       "  </tbody>\n",
       "</table>\n",
       "<p>134 rows × 1 columns</p>\n",
       "</div>"
      ],
      "text/plain": [
       "      feature_types\n",
       "CD86            ADT\n",
       "CD274           ADT\n",
       "CD270           ADT\n",
       "CD155           ADT\n",
       "CD112           ADT\n",
       "...             ...\n",
       "HLA-E           ADT\n",
       "CD82            ADT\n",
       "CD101           ADT\n",
       "CD88            ADT\n",
       "CD224           ADT\n",
       "\n",
       "[134 rows x 1 columns]"
      ]
     },
     "metadata": {},
     "execution_count": 3
    }
   ],
   "metadata": {}
  },
  {
   "cell_type": "code",
   "execution_count": 4,
   "source": [
    "print(f\"train_mod1 has {train_mod1.var['feature_types'][0]} data\")"
   ],
   "outputs": [
    {
     "output_type": "stream",
     "name": "stdout",
     "text": [
      "train_mod1 has ADT data\n"
     ]
    }
   ],
   "metadata": {}
  },
  {
   "cell_type": "code",
   "execution_count": 5,
   "source": [
    "# Rename for convinience\n",
    "all_train_adt = train_mod1\n",
    "test_adt = test_mod1"
   ],
   "outputs": [],
   "metadata": {}
  },
  {
   "cell_type": "code",
   "execution_count": 6,
   "source": [
    "# Let's look into the second dataset\n",
    "train_mod2.var"
   ],
   "outputs": [
    {
     "output_type": "execute_result",
     "data": {
      "text/html": [
       "<div>\n",
       "<style scoped>\n",
       "    .dataframe tbody tr th:only-of-type {\n",
       "        vertical-align: middle;\n",
       "    }\n",
       "\n",
       "    .dataframe tbody tr th {\n",
       "        vertical-align: top;\n",
       "    }\n",
       "\n",
       "    .dataframe thead th {\n",
       "        text-align: right;\n",
       "    }\n",
       "</style>\n",
       "<table border=\"1\" class=\"dataframe\">\n",
       "  <thead>\n",
       "    <tr style=\"text-align: right;\">\n",
       "      <th></th>\n",
       "      <th>gene_ids</th>\n",
       "      <th>feature_types</th>\n",
       "    </tr>\n",
       "  </thead>\n",
       "  <tbody>\n",
       "    <tr>\n",
       "      <th>AL627309.5</th>\n",
       "      <td>ENSG00000241860</td>\n",
       "      <td>GEX</td>\n",
       "    </tr>\n",
       "    <tr>\n",
       "      <th>LINC01409</th>\n",
       "      <td>ENSG00000237491</td>\n",
       "      <td>GEX</td>\n",
       "    </tr>\n",
       "    <tr>\n",
       "      <th>LINC01128</th>\n",
       "      <td>ENSG00000228794</td>\n",
       "      <td>GEX</td>\n",
       "    </tr>\n",
       "    <tr>\n",
       "      <th>LINC00115</th>\n",
       "      <td>ENSG00000225880</td>\n",
       "      <td>GEX</td>\n",
       "    </tr>\n",
       "    <tr>\n",
       "      <th>FAM41C</th>\n",
       "      <td>ENSG00000230368</td>\n",
       "      <td>GEX</td>\n",
       "    </tr>\n",
       "    <tr>\n",
       "      <th>...</th>\n",
       "      <td>...</td>\n",
       "      <td>...</td>\n",
       "    </tr>\n",
       "    <tr>\n",
       "      <th>MT-CYB</th>\n",
       "      <td>ENSG00000198727</td>\n",
       "      <td>GEX</td>\n",
       "    </tr>\n",
       "    <tr>\n",
       "      <th>AC011043.1</th>\n",
       "      <td>ENSG00000276256</td>\n",
       "      <td>GEX</td>\n",
       "    </tr>\n",
       "    <tr>\n",
       "      <th>AL592183.1</th>\n",
       "      <td>ENSG00000273748</td>\n",
       "      <td>GEX</td>\n",
       "    </tr>\n",
       "    <tr>\n",
       "      <th>AC240274.1</th>\n",
       "      <td>ENSG00000271254</td>\n",
       "      <td>GEX</td>\n",
       "    </tr>\n",
       "    <tr>\n",
       "      <th>AC007325.4</th>\n",
       "      <td>ENSG00000278817</td>\n",
       "      <td>GEX</td>\n",
       "    </tr>\n",
       "  </tbody>\n",
       "</table>\n",
       "<p>13953 rows × 2 columns</p>\n",
       "</div>"
      ],
      "text/plain": [
       "                   gene_ids feature_types\n",
       "AL627309.5  ENSG00000241860           GEX\n",
       "LINC01409   ENSG00000237491           GEX\n",
       "LINC01128   ENSG00000228794           GEX\n",
       "LINC00115   ENSG00000225880           GEX\n",
       "FAM41C      ENSG00000230368           GEX\n",
       "...                     ...           ...\n",
       "MT-CYB      ENSG00000198727           GEX\n",
       "AC011043.1  ENSG00000276256           GEX\n",
       "AL592183.1  ENSG00000273748           GEX\n",
       "AC240274.1  ENSG00000271254           GEX\n",
       "AC007325.4  ENSG00000278817           GEX\n",
       "\n",
       "[13953 rows x 2 columns]"
      ]
     },
     "metadata": {},
     "execution_count": 6
    }
   ],
   "metadata": {}
  },
  {
   "cell_type": "code",
   "execution_count": 7,
   "source": [
    "print(f\"train_mod2 has {train_mod2.var['feature_types'][0]} data\")"
   ],
   "outputs": [
    {
     "output_type": "stream",
     "name": "stdout",
     "text": [
      "train_mod2 has GEX data\n"
     ]
    }
   ],
   "metadata": {}
  },
  {
   "cell_type": "code",
   "execution_count": 8,
   "source": [
    "# Rename for convinience\n",
    "all_train_gex = train_mod2\n",
    "test_gex = test_mod2"
   ],
   "outputs": [],
   "metadata": {}
  },
  {
   "cell_type": "code",
   "execution_count": 9,
   "source": [
    "# Each row is an observation of CITE-seq\n",
    "print(all_train_adt.shape)\n",
    "print(all_train_gex.shape)"
   ],
   "outputs": [
    {
     "output_type": "stream",
     "name": "stdout",
     "text": [
      "(29163, 134)\n",
      "(29163, 13953)\n"
     ]
    }
   ],
   "metadata": {}
  },
  {
   "cell_type": "code",
   "execution_count": 10,
   "source": [
    "# Making toy split for demonstration purpouse.\n",
    "# In real experiments we use predefined splits.\n",
    "train_adt, val_adt, train_gex, val_gex = train_test_split(all_train_adt, all_train_gex)"
   ],
   "outputs": [],
   "metadata": {}
  },
  {
   "cell_type": "code",
   "execution_count": 11,
   "source": [
    "# This is sparse matrix\n",
    "train_gex.X"
   ],
   "outputs": [
    {
     "output_type": "execute_result",
     "data": {
      "text/plain": [
       "<21872x13953 sparse matrix of type '<class 'numpy.float32'>'\n",
       "\twith 31181089 stored elements in Compressed Sparse Column format>"
      ]
     },
     "metadata": {},
     "execution_count": 11
    }
   ],
   "metadata": {}
  },
  {
   "cell_type": "code",
   "execution_count": 12,
   "source": [
    "# Let's calculate how much it would take to keep it dense\n",
    "print(train_gex.shape[0] * train_gex.shape[1] * 4)  # 4 byte per float32 "
   ],
   "outputs": [
    {
     "output_type": "stream",
     "name": "stdout",
     "text": [
      "1220720064\n"
     ]
    }
   ],
   "metadata": {}
  },
  {
   "cell_type": "code",
   "execution_count": 13,
   "source": [
    "# It is not that big. Let's convert matrices\n",
    "Y_train = train_gex.X.toarray()\n",
    "Y_val = val_gex.X.toarray()\n",
    "Y_test = test_gex.X.toarray()\n",
    "\n",
    "X_train = train_adt.X.toarray()\n",
    "X_val = val_adt.X.toarray()\n",
    "X_test = test_adt.X.toarray()"
   ],
   "outputs": [],
   "metadata": {}
  },
  {
   "cell_type": "code",
   "execution_count": 14,
   "source": [
    "# Let's fit linear regression\n",
    "lin_reg = LinearRegression()\n",
    "lin_reg.fit(X_train, Y_train)"
   ],
   "outputs": [
    {
     "output_type": "execute_result",
     "data": {
      "text/plain": [
       "LinearRegression()"
      ]
     },
     "metadata": {},
     "execution_count": 14
    }
   ],
   "metadata": {}
  },
  {
   "cell_type": "code",
   "execution_count": 15,
   "source": [
    "Y_val_pred = lin_reg.predict(X_val)"
   ],
   "outputs": [],
   "metadata": {}
  },
  {
   "cell_type": "code",
   "execution_count": 16,
   "source": [
    "Y_val_pred"
   ],
   "outputs": [
    {
     "output_type": "execute_result",
     "data": {
      "text/plain": [
       "array([[ 1.1057407e-03,  9.8647147e-02,  1.8854186e-02, ...,\n",
       "         9.4747081e-02,  2.3247585e-02,  3.1042155e-03],\n",
       "       [-2.6070908e-02,  9.5203608e-02,  6.9537766e-02, ...,\n",
       "         5.8041409e-02,  1.5211878e-02,  1.6670756e-02],\n",
       "       [-2.2585690e-02,  9.0119690e-02, -8.7889712e-03, ...,\n",
       "         1.2738451e-02,  6.2178429e-03,  4.9617011e-03],\n",
       "       ...,\n",
       "       [ 3.4700006e-02,  1.1063051e-01,  8.8005178e-03, ...,\n",
       "         5.0541829e-02,  2.3674514e-02,  1.1761515e-02],\n",
       "       [-1.2393296e-02,  7.9894252e-03,  1.2064542e+00, ...,\n",
       "         1.1657126e-02, -4.8067905e-03,  2.7819213e-03],\n",
       "       [ 9.0695277e-02,  1.0640955e-01,  9.1299877e-02, ...,\n",
       "         7.8473695e-02,  2.0303648e-02,  1.2652895e-02]], dtype=float32)"
      ]
     },
     "metadata": {},
     "execution_count": 16
    }
   ],
   "metadata": {}
  },
  {
   "cell_type": "code",
   "execution_count": 17,
   "source": [
    "mean_squared_error(Y_val, Y_val_pred, squared=False)"
   ],
   "outputs": [
    {
     "output_type": "execute_result",
     "data": {
      "text/plain": [
       "5.54447"
      ]
     },
     "metadata": {},
     "execution_count": 17
    }
   ],
   "metadata": {}
  },
  {
   "cell_type": "code",
   "execution_count": 18,
   "source": [
    "Y_test_pred = lin_reg.predict(X_test)"
   ],
   "outputs": [],
   "metadata": {}
  },
  {
   "cell_type": "code",
   "execution_count": 19,
   "source": [
    "mean_squared_error(Y_test, Y_test_pred, squared=False)"
   ],
   "outputs": [
    {
     "output_type": "execute_result",
     "data": {
      "text/plain": [
       "4.178273"
      ]
     },
     "metadata": {},
     "execution_count": 19
    }
   ],
   "metadata": {}
  },
  {
   "cell_type": "code",
   "execution_count": 20,
   "source": [
    "# Is it really work? It seems strange that RMSE lower on test than on validation.\n",
    "# Let's compare it with dummy regressor, which predict mean values always.\n",
    "\n",
    "dummy_reg = DummyRegressor()\n",
    "dummy_reg.fit(X_train, Y_train)"
   ],
   "outputs": [
    {
     "output_type": "execute_result",
     "data": {
      "text/plain": [
       "DummyRegressor()"
      ]
     },
     "metadata": {},
     "execution_count": 20
    }
   ],
   "metadata": {}
  },
  {
   "cell_type": "code",
   "execution_count": 21,
   "source": [
    "Y_val_pred = dummy_reg.predict(X_val)\n",
    "mean_squared_error(Y_val, Y_val_pred, squared=False)"
   ],
   "outputs": [
    {
     "output_type": "execute_result",
     "data": {
      "text/plain": [
       "6.6551456"
      ]
     },
     "metadata": {},
     "execution_count": 21
    }
   ],
   "metadata": {}
  },
  {
   "cell_type": "code",
   "execution_count": 22,
   "source": [
    "Y_test_pred = dummy_reg.predict(X_test)\n",
    "mean_squared_error(Y_test, Y_test_pred, squared=False)"
   ],
   "outputs": [
    {
     "output_type": "execute_result",
     "data": {
      "text/plain": [
       "5.217001"
      ]
     },
     "metadata": {},
     "execution_count": 22
    }
   ],
   "metadata": {}
  },
  {
   "cell_type": "code",
   "execution_count": null,
   "source": [],
   "outputs": [],
   "metadata": {}
  }
 ],
 "metadata": {
  "orig_nbformat": 4,
  "language_info": {
   "name": "python",
   "version": "3.8.11",
   "mimetype": "text/x-python",
   "codemirror_mode": {
    "name": "ipython",
    "version": 3
   },
   "pygments_lexer": "ipython3",
   "nbconvert_exporter": "python",
   "file_extension": ".py"
  },
  "kernelspec": {
   "name": "python3",
   "display_name": "Python 3.8.11 64-bit ('nips': conda)"
  },
  "interpreter": {
   "hash": "56a7e32d7961928a9f3e18e44fe070068f0318925842ce4245f771b32b697ac8"
  }
 },
 "nbformat": 4,
 "nbformat_minor": 2
}
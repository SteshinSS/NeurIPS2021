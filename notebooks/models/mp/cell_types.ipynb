{
 "cells": [
  {
   "cell_type": "code",
   "execution_count": 1,
   "metadata": {},
   "outputs": [],
   "source": [
    "import anndata as ad\n",
    "import numpy as np\n",
    "import pandas as pd\n",
    "import matplotlib.pyplot as plt\n",
    "import torch\n",
    "import seaborn as sns\n",
    "import scanpy as sc\n",
    "import pytorch_lightning as pl\n",
    "import yaml\n",
    "\n",
    "from lab_scripts.utils import utils\n",
    "utils.change_directory_to_repo()\n",
    "\n",
    "from lab_scripts.data import dataloader\n",
    "from lab_scripts.mains.mp import common, main, preprocessing\n",
    "from lab_scripts.models import mp"
   ]
  },
  {
   "cell_type": "code",
   "execution_count": 2,
   "metadata": {},
   "outputs": [],
   "source": [
    "with open('configs/mp/mp/gex_to_adt.yaml', 'r') as f:\n",
    "    config =yaml.safe_load(f)"
   ]
  },
  {
   "cell_type": "code",
   "execution_count": 3,
   "metadata": {},
   "outputs": [
    {
     "name": "stdout",
     "output_type": "stream",
     "text": [
      "-1.3947728872299194\n"
     ]
    }
   ],
   "source": [
    "data_config = config['data']\n",
    "model_config = config['model']\n",
    "dataset = dataloader.load_data(\n",
    "    data_config[\"dataset_name\"],\n",
    "    val_size=data_config[\"val_size\"],\n",
    "    filter_genes=(data_config[\"gene_fraction\"], \"data/genes.csv\"),\n",
    ")"
   ]
  },
  {
   "cell_type": "code",
   "execution_count": 4,
   "metadata": {},
   "outputs": [],
   "source": [
    "preprocessed_data = preprocessing.preprocess_data(\n",
    "    data_config, dataset, model_config[\"batch_size\"], is_train=False\n",
    ")"
   ]
  },
  {
   "cell_type": "code",
   "execution_count": 5,
   "metadata": {},
   "outputs": [
    {
     "name": "stdout",
     "output_type": "stream",
     "text": [
      "[0.77718379 0.72864876 1.44627935 1.53971616]\n"
     ]
    }
   ],
   "source": [
    "train_dataloader = preprocessed_data[\"train_dataloader\"]\n",
    "test_dataloader = preprocessed_data['test_dataloader']\n",
    "model_config = common.update_model_config(model_config, preprocessed_data)"
   ]
  },
  {
   "cell_type": "code",
   "execution_count": 6,
   "metadata": {},
   "outputs": [],
   "source": [
    "model = mp.Predictor.load_from_checkpoint('checkpoints/mp/mp/gex_to_adt.ckpt', config=model_config)"
   ]
  },
  {
   "cell_type": "code",
   "execution_count": 7,
   "metadata": {},
   "outputs": [
    {
     "name": "stderr",
     "output_type": "stream",
     "text": [
      "GPU available: True, used: True\n",
      "TPU available: False, using: 0 TPU cores\n",
      "IPU available: False, using: 0 IPUs\n"
     ]
    }
   ],
   "source": [
    "trainer = pl.Trainer(gpus=1, logger=False)"
   ]
  },
  {
   "cell_type": "code",
   "execution_count": 8,
   "metadata": {},
   "outputs": [],
   "source": [
    "train_predictions = []\n",
    "for i, batch in enumerate(train_dataloader):\n",
    "    first, _, _ = batch\n",
    "    prediction = model.predict_step(first, i).cpu()\n",
    "    train_predictions.append(prediction)"
   ]
  },
  {
   "cell_type": "code",
   "execution_count": 9,
   "metadata": {},
   "outputs": [],
   "source": [
    "test_predictions = []\n",
    "for i, batch in enumerate(test_dataloader):\n",
    "    first, _, _ = batch\n",
    "    prediction = model.predict_step(first, i).cpu()\n",
    "    test_predictions.append(prediction)"
   ]
  },
  {
   "cell_type": "code",
   "execution_count": 10,
   "metadata": {},
   "outputs": [],
   "source": [
    "train_predictions = torch.cat(train_predictions, dim=0).detach()\n",
    "test_predictions = torch.cat(test_predictions, dim=0).detach()\n"
   ]
  },
  {
   "cell_type": "code",
   "execution_count": 11,
   "metadata": {},
   "outputs": [
    {
     "data": {
      "text/plain": [
       "torch.Size([29076, 134])"
      ]
     },
     "execution_count": 11,
     "metadata": {},
     "output_type": "execute_result"
    }
   ],
   "source": [
    "train_predictions.shape"
   ]
  },
  {
   "cell_type": "code",
   "execution_count": 12,
   "metadata": {},
   "outputs": [
    {
     "data": {
      "text/plain": [
       "torch.Size([1000, 134])"
      ]
     },
     "execution_count": 12,
     "metadata": {},
     "output_type": "execute_result"
    }
   ],
   "source": [
    "test_predictions.shape"
   ]
  },
  {
   "cell_type": "code",
   "execution_count": 13,
   "metadata": {},
   "outputs": [],
   "source": [
    "train_inversed = preprocessed_data['second_train_inverse'](train_predictions)\n",
    "test_inversed = preprocessed_data['second_train_inverse'](test_predictions)"
   ]
  },
  {
   "cell_type": "code",
   "execution_count": 14,
   "metadata": {},
   "outputs": [
    {
     "data": {
      "text/plain": [
       "(29076, 134)"
      ]
     },
     "execution_count": 14,
     "metadata": {},
     "output_type": "execute_result"
    }
   ],
   "source": [
    "dataset['train_mod2'].shape"
   ]
  },
  {
   "cell_type": "code",
   "execution_count": 15,
   "metadata": {},
   "outputs": [
    {
     "data": {
      "text/plain": [
       "(29076, 134)"
      ]
     },
     "execution_count": 15,
     "metadata": {},
     "output_type": "execute_result"
    }
   ],
   "source": [
    "train_inversed.shape"
   ]
  },
  {
   "cell_type": "code",
   "execution_count": 23,
   "metadata": {},
   "outputs": [],
   "source": [
    "train_error = (dataset['train_mod2'].X.toarray() - train_inversed)**2"
   ]
  },
  {
   "cell_type": "code",
   "execution_count": 24,
   "metadata": {},
   "outputs": [],
   "source": [
    "train_error = train_error.mean(axis=1)"
   ]
  },
  {
   "cell_type": "code",
   "execution_count": 27,
   "metadata": {},
   "outputs": [],
   "source": [
    "test_error = (dataset['test_mod2'].X.toarray() - test_inversed)**2"
   ]
  },
  {
   "cell_type": "code",
   "execution_count": 28,
   "metadata": {},
   "outputs": [],
   "source": [
    "test_error = test_error.mean(axis=1)"
   ]
  },
  {
   "cell_type": "code",
   "execution_count": 29,
   "metadata": {},
   "outputs": [],
   "source": [
    "common_data = ad.read_h5ad('data/official/common/openproblems_bmmc_cite_phase1/openproblems_bmmc_cite_phase1.manual_formatting.output_rna.h5ad')"
   ]
  },
  {
   "cell_type": "code",
   "execution_count": 32,
   "metadata": {},
   "outputs": [
    {
     "name": "stderr",
     "output_type": "stream",
     "text": [
      "Trying to set attribute `.obs` of view, copying.\n"
     ]
    }
   ],
   "source": [
    "dataset['train_mod2'].obs['error'] = train_error"
   ]
  },
  {
   "cell_type": "code",
   "execution_count": 33,
   "metadata": {},
   "outputs": [],
   "source": [
    "dataset['test_mod2'].obs['error'] = test_error"
   ]
  },
  {
   "cell_type": "code",
   "execution_count": 35,
   "metadata": {},
   "outputs": [],
   "source": [
    "train_names = set(dataset['train_mod2'].obs.index)"
   ]
  },
  {
   "cell_type": "code",
   "execution_count": 50,
   "metadata": {},
   "outputs": [],
   "source": [
    "common_train = common_data.obs.loc[train_names]"
   ]
  },
  {
   "cell_type": "code",
   "execution_count": 51,
   "metadata": {},
   "outputs": [
    {
     "data": {
      "text/html": [
       "<div>\n",
       "<style scoped>\n",
       "    .dataframe tbody tr th:only-of-type {\n",
       "        vertical-align: middle;\n",
       "    }\n",
       "\n",
       "    .dataframe tbody tr th {\n",
       "        vertical-align: top;\n",
       "    }\n",
       "\n",
       "    .dataframe thead th {\n",
       "        text-align: right;\n",
       "    }\n",
       "</style>\n",
       "<table border=\"1\" class=\"dataframe\">\n",
       "  <thead>\n",
       "    <tr style=\"text-align: right;\">\n",
       "      <th></th>\n",
       "      <th>n_genes_by_counts</th>\n",
       "      <th>pct_counts_mt</th>\n",
       "      <th>size_factors</th>\n",
       "      <th>phase</th>\n",
       "      <th>cell_type</th>\n",
       "      <th>pseudotime_order_GEX</th>\n",
       "      <th>batch</th>\n",
       "      <th>pseudotime_order_ADT</th>\n",
       "      <th>is_train</th>\n",
       "    </tr>\n",
       "  </thead>\n",
       "  <tbody>\n",
       "    <tr>\n",
       "      <th>CTACTATTCAGACAAA-1-s3d6</th>\n",
       "      <td>991</td>\n",
       "      <td>5.773749</td>\n",
       "      <td>0.595354</td>\n",
       "      <td>G2M</td>\n",
       "      <td>Naive CD20+ B IGKC+</td>\n",
       "      <td>NaN</td>\n",
       "      <td>s3d6</td>\n",
       "      <td>NaN</td>\n",
       "      <td>True</td>\n",
       "    </tr>\n",
       "    <tr>\n",
       "      <th>GGTGAAGCAACGGCCT-1-s2d4</th>\n",
       "      <td>5030</td>\n",
       "      <td>5.295238</td>\n",
       "      <td>5.038833</td>\n",
       "      <td>G2M</td>\n",
       "      <td>cDC2</td>\n",
       "      <td>NaN</td>\n",
       "      <td>s2d4</td>\n",
       "      <td>NaN</td>\n",
       "      <td>True</td>\n",
       "    </tr>\n",
       "    <tr>\n",
       "      <th>CATTCCGTCCACGTAA-1-s2d1</th>\n",
       "      <td>1093</td>\n",
       "      <td>13.219831</td>\n",
       "      <td>0.645375</td>\n",
       "      <td>G2M</td>\n",
       "      <td>CD14+ Mono</td>\n",
       "      <td>NaN</td>\n",
       "      <td>s2d1</td>\n",
       "      <td>NaN</td>\n",
       "      <td>True</td>\n",
       "    </tr>\n",
       "    <tr>\n",
       "      <th>ACGATCAGTGAGACCA-1-s2d1</th>\n",
       "      <td>1535</td>\n",
       "      <td>8.755131</td>\n",
       "      <td>1.381448</td>\n",
       "      <td>G2M</td>\n",
       "      <td>CD14+ Mono</td>\n",
       "      <td>NaN</td>\n",
       "      <td>s2d1</td>\n",
       "      <td>NaN</td>\n",
       "      <td>True</td>\n",
       "    </tr>\n",
       "    <tr>\n",
       "      <th>GTAGTACGTGGTAACG-1-s2d1</th>\n",
       "      <td>811</td>\n",
       "      <td>10.875216</td>\n",
       "      <td>0.420653</td>\n",
       "      <td>G2M</td>\n",
       "      <td>CD8+ T naive</td>\n",
       "      <td>NaN</td>\n",
       "      <td>s2d1</td>\n",
       "      <td>NaN</td>\n",
       "      <td>True</td>\n",
       "    </tr>\n",
       "    <tr>\n",
       "      <th>...</th>\n",
       "      <td>...</td>\n",
       "      <td>...</td>\n",
       "      <td>...</td>\n",
       "      <td>...</td>\n",
       "      <td>...</td>\n",
       "      <td>...</td>\n",
       "      <td>...</td>\n",
       "      <td>...</td>\n",
       "      <td>...</td>\n",
       "    </tr>\n",
       "    <tr>\n",
       "      <th>TCATTCAGTCAGTCGC-1-s2d1</th>\n",
       "      <td>1477</td>\n",
       "      <td>6.463696</td>\n",
       "      <td>1.127068</td>\n",
       "      <td>G2M</td>\n",
       "      <td>Plasma cell IGKC+</td>\n",
       "      <td>NaN</td>\n",
       "      <td>s2d1</td>\n",
       "      <td>NaN</td>\n",
       "      <td>True</td>\n",
       "    </tr>\n",
       "    <tr>\n",
       "      <th>CATAGACAGAAGCCAC-1-s2d1</th>\n",
       "      <td>1374</td>\n",
       "      <td>4.017400</td>\n",
       "      <td>1.004874</td>\n",
       "      <td>S</td>\n",
       "      <td>pDC</td>\n",
       "      <td>NaN</td>\n",
       "      <td>s2d1</td>\n",
       "      <td>NaN</td>\n",
       "      <td>True</td>\n",
       "    </tr>\n",
       "    <tr>\n",
       "      <th>TACAGGTAGCCTGGAA-1-s2d1</th>\n",
       "      <td>1600</td>\n",
       "      <td>9.693594</td>\n",
       "      <td>1.292868</td>\n",
       "      <td>G2M</td>\n",
       "      <td>CD14+ Mono</td>\n",
       "      <td>NaN</td>\n",
       "      <td>s2d1</td>\n",
       "      <td>NaN</td>\n",
       "      <td>True</td>\n",
       "    </tr>\n",
       "    <tr>\n",
       "      <th>TCTGGCTGTCCATAGT-1-s3d6</th>\n",
       "      <td>2697</td>\n",
       "      <td>9.870861</td>\n",
       "      <td>2.156510</td>\n",
       "      <td>S</td>\n",
       "      <td>G/M prog</td>\n",
       "      <td>NaN</td>\n",
       "      <td>s3d6</td>\n",
       "      <td>NaN</td>\n",
       "      <td>True</td>\n",
       "    </tr>\n",
       "    <tr>\n",
       "      <th>GACTATGAGCCTGACC-1-s2d1</th>\n",
       "      <td>1254</td>\n",
       "      <td>2.192044</td>\n",
       "      <td>0.837436</td>\n",
       "      <td>S</td>\n",
       "      <td>Erythroblast</td>\n",
       "      <td>0.865934</td>\n",
       "      <td>s2d1</td>\n",
       "      <td>0.970443</td>\n",
       "      <td>True</td>\n",
       "    </tr>\n",
       "  </tbody>\n",
       "</table>\n",
       "<p>29076 rows × 9 columns</p>\n",
       "</div>"
      ],
      "text/plain": [
       "                         n_genes_by_counts  pct_counts_mt  size_factors phase  \\\n",
       "CTACTATTCAGACAAA-1-s3d6                991       5.773749      0.595354   G2M   \n",
       "GGTGAAGCAACGGCCT-1-s2d4               5030       5.295238      5.038833   G2M   \n",
       "CATTCCGTCCACGTAA-1-s2d1               1093      13.219831      0.645375   G2M   \n",
       "ACGATCAGTGAGACCA-1-s2d1               1535       8.755131      1.381448   G2M   \n",
       "GTAGTACGTGGTAACG-1-s2d1                811      10.875216      0.420653   G2M   \n",
       "...                                    ...            ...           ...   ...   \n",
       "TCATTCAGTCAGTCGC-1-s2d1               1477       6.463696      1.127068   G2M   \n",
       "CATAGACAGAAGCCAC-1-s2d1               1374       4.017400      1.004874     S   \n",
       "TACAGGTAGCCTGGAA-1-s2d1               1600       9.693594      1.292868   G2M   \n",
       "TCTGGCTGTCCATAGT-1-s3d6               2697       9.870861      2.156510     S   \n",
       "GACTATGAGCCTGACC-1-s2d1               1254       2.192044      0.837436     S   \n",
       "\n",
       "                                   cell_type  pseudotime_order_GEX batch  \\\n",
       "CTACTATTCAGACAAA-1-s3d6  Naive CD20+ B IGKC+                   NaN  s3d6   \n",
       "GGTGAAGCAACGGCCT-1-s2d4                 cDC2                   NaN  s2d4   \n",
       "CATTCCGTCCACGTAA-1-s2d1           CD14+ Mono                   NaN  s2d1   \n",
       "ACGATCAGTGAGACCA-1-s2d1           CD14+ Mono                   NaN  s2d1   \n",
       "GTAGTACGTGGTAACG-1-s2d1         CD8+ T naive                   NaN  s2d1   \n",
       "...                                      ...                   ...   ...   \n",
       "TCATTCAGTCAGTCGC-1-s2d1    Plasma cell IGKC+                   NaN  s2d1   \n",
       "CATAGACAGAAGCCAC-1-s2d1                  pDC                   NaN  s2d1   \n",
       "TACAGGTAGCCTGGAA-1-s2d1           CD14+ Mono                   NaN  s2d1   \n",
       "TCTGGCTGTCCATAGT-1-s3d6             G/M prog                   NaN  s3d6   \n",
       "GACTATGAGCCTGACC-1-s2d1         Erythroblast              0.865934  s2d1   \n",
       "\n",
       "                         pseudotime_order_ADT  is_train  \n",
       "CTACTATTCAGACAAA-1-s3d6                   NaN      True  \n",
       "GGTGAAGCAACGGCCT-1-s2d4                   NaN      True  \n",
       "CATTCCGTCCACGTAA-1-s2d1                   NaN      True  \n",
       "ACGATCAGTGAGACCA-1-s2d1                   NaN      True  \n",
       "GTAGTACGTGGTAACG-1-s2d1                   NaN      True  \n",
       "...                                       ...       ...  \n",
       "TCATTCAGTCAGTCGC-1-s2d1                   NaN      True  \n",
       "CATAGACAGAAGCCAC-1-s2d1                   NaN      True  \n",
       "TACAGGTAGCCTGGAA-1-s2d1                   NaN      True  \n",
       "TCTGGCTGTCCATAGT-1-s3d6                   NaN      True  \n",
       "GACTATGAGCCTGACC-1-s2d1              0.970443      True  \n",
       "\n",
       "[29076 rows x 9 columns]"
      ]
     },
     "execution_count": 51,
     "metadata": {},
     "output_type": "execute_result"
    }
   ],
   "source": [
    "common_train"
   ]
  },
  {
   "cell_type": "code",
   "execution_count": 52,
   "metadata": {},
   "outputs": [],
   "source": [
    "common_train['error'] = train_error"
   ]
  },
  {
   "cell_type": "code",
   "execution_count": 53,
   "metadata": {},
   "outputs": [],
   "source": [
    "test_names = set(dataset['test_mod2'].obs.index)\n",
    "common_test = common_data.obs.loc[test_names]"
   ]
  },
  {
   "cell_type": "code",
   "execution_count": 55,
   "metadata": {},
   "outputs": [],
   "source": [
    "common_test['error'] = test_error"
   ]
  },
  {
   "cell_type": "code",
   "execution_count": 85,
   "metadata": {},
   "outputs": [
    {
     "data": {
      "text/plain": [
       "cell_type\n",
       "gdT TCRVD2+                         0.103369\n",
       "CD8+ T CD57+ CD45RO+                0.100679\n",
       "ILC1                                0.100366\n",
       "T reg                               0.098807\n",
       "MK/E prog                           0.098627\n",
       "cDC2                                0.098316\n",
       "CD8+ T TIGIT+ CD45RO+               0.098117\n",
       "Normoblast                          0.097912\n",
       "ILC                                 0.097911\n",
       "Erythroblast                        0.097834\n",
       "Naive CD20+ B IGKC-                 0.097499\n",
       "Reticulocyte                        0.097497\n",
       "CD8+ T CD57+ CD45RA+                0.096963\n",
       "Plasmablast IGKC+                   0.096794\n",
       "CD8+ T CD69+ CD45RA+                0.096761\n",
       "CD16+ Mono                          0.096656\n",
       "Proerythroblast                     0.096516\n",
       "CD8+ T naive                        0.096502\n",
       "Naive CD20+ B IGKC+                 0.096497\n",
       "CD8+ T TIGIT+ CD45RA+               0.096470\n",
       "CD4+ T activated                    0.096387\n",
       "CD14+ Mono                          0.096333\n",
       "G/M prog                            0.096150\n",
       "CD4+ T naive                        0.095888\n",
       "B1 B IGKC+                          0.095715\n",
       "NK                                  0.095637\n",
       "CD4+ T activated integrinB7+        0.095591\n",
       "NK CD158e1+                         0.095162\n",
       "pDC                                 0.095071\n",
       "Lymph prog                          0.094897\n",
       "dnT                                 0.094781\n",
       "Plasma cell IGKC+                   0.093867\n",
       "Transitional B                      0.093463\n",
       "CD8+ T CD69+ CD45RO+                0.093446\n",
       "Plasma cell IGKC-                   0.093312\n",
       "CD8+ T CD49f+                       0.093089\n",
       "B1 B IGKC-                          0.092768\n",
       "HSC                                 0.092732\n",
       "Plasmablast IGKC-                   0.089628\n",
       "MAIT                                0.089306\n",
       "CD4+ T CD314+ CD45RA+                    NaN\n",
       "CD8+ T naive CD127+ CD26- CD101-         NaN\n",
       "T prog cycling                           NaN\n",
       "cDC1                                     NaN\n",
       "gdT CD158b+                              NaN\n",
       "Name: error, dtype: float32"
      ]
     },
     "execution_count": 85,
     "metadata": {},
     "output_type": "execute_result"
    }
   ],
   "source": [
    "common_train.groupby(['cell_type']).mean()['error'].sort_values(ascending=False)"
   ]
  },
  {
   "cell_type": "code",
   "execution_count": 78,
   "metadata": {},
   "outputs": [
    {
     "data": {
      "text/html": [
       "<div>\n",
       "<style scoped>\n",
       "    .dataframe tbody tr th:only-of-type {\n",
       "        vertical-align: middle;\n",
       "    }\n",
       "\n",
       "    .dataframe tbody tr th {\n",
       "        vertical-align: top;\n",
       "    }\n",
       "\n",
       "    .dataframe thead th {\n",
       "        text-align: right;\n",
       "    }\n",
       "</style>\n",
       "<table border=\"1\" class=\"dataframe\">\n",
       "  <thead>\n",
       "    <tr style=\"text-align: right;\">\n",
       "      <th></th>\n",
       "      <th>n_genes_by_counts</th>\n",
       "      <th>pct_counts_mt</th>\n",
       "      <th>size_factors</th>\n",
       "      <th>phase</th>\n",
       "      <th>cell_type</th>\n",
       "      <th>pseudotime_order_GEX</th>\n",
       "      <th>batch</th>\n",
       "      <th>pseudotime_order_ADT</th>\n",
       "      <th>is_train</th>\n",
       "      <th>error</th>\n",
       "    </tr>\n",
       "  </thead>\n",
       "  <tbody>\n",
       "    <tr>\n",
       "      <th>CTACTATTCAGACAAA-1-s3d6</th>\n",
       "      <td>991</td>\n",
       "      <td>5.773749</td>\n",
       "      <td>0.595354</td>\n",
       "      <td>G2M</td>\n",
       "      <td>Naive CD20+ B IGKC+</td>\n",
       "      <td>NaN</td>\n",
       "      <td>s3d6</td>\n",
       "      <td>NaN</td>\n",
       "      <td>True</td>\n",
       "      <td>0.125839</td>\n",
       "    </tr>\n",
       "    <tr>\n",
       "      <th>GGTGAAGCAACGGCCT-1-s2d4</th>\n",
       "      <td>5030</td>\n",
       "      <td>5.295238</td>\n",
       "      <td>5.038833</td>\n",
       "      <td>G2M</td>\n",
       "      <td>cDC2</td>\n",
       "      <td>NaN</td>\n",
       "      <td>s2d4</td>\n",
       "      <td>NaN</td>\n",
       "      <td>True</td>\n",
       "      <td>0.077324</td>\n",
       "    </tr>\n",
       "    <tr>\n",
       "      <th>CATTCCGTCCACGTAA-1-s2d1</th>\n",
       "      <td>1093</td>\n",
       "      <td>13.219831</td>\n",
       "      <td>0.645375</td>\n",
       "      <td>G2M</td>\n",
       "      <td>CD14+ Mono</td>\n",
       "      <td>NaN</td>\n",
       "      <td>s2d1</td>\n",
       "      <td>NaN</td>\n",
       "      <td>True</td>\n",
       "      <td>0.107221</td>\n",
       "    </tr>\n",
       "    <tr>\n",
       "      <th>ACGATCAGTGAGACCA-1-s2d1</th>\n",
       "      <td>1535</td>\n",
       "      <td>8.755131</td>\n",
       "      <td>1.381448</td>\n",
       "      <td>G2M</td>\n",
       "      <td>CD14+ Mono</td>\n",
       "      <td>NaN</td>\n",
       "      <td>s2d1</td>\n",
       "      <td>NaN</td>\n",
       "      <td>True</td>\n",
       "      <td>0.064224</td>\n",
       "    </tr>\n",
       "    <tr>\n",
       "      <th>GTAGTACGTGGTAACG-1-s2d1</th>\n",
       "      <td>811</td>\n",
       "      <td>10.875216</td>\n",
       "      <td>0.420653</td>\n",
       "      <td>G2M</td>\n",
       "      <td>CD8+ T naive</td>\n",
       "      <td>NaN</td>\n",
       "      <td>s2d1</td>\n",
       "      <td>NaN</td>\n",
       "      <td>True</td>\n",
       "      <td>0.083815</td>\n",
       "    </tr>\n",
       "    <tr>\n",
       "      <th>...</th>\n",
       "      <td>...</td>\n",
       "      <td>...</td>\n",
       "      <td>...</td>\n",
       "      <td>...</td>\n",
       "      <td>...</td>\n",
       "      <td>...</td>\n",
       "      <td>...</td>\n",
       "      <td>...</td>\n",
       "      <td>...</td>\n",
       "      <td>...</td>\n",
       "    </tr>\n",
       "    <tr>\n",
       "      <th>TCATTCAGTCAGTCGC-1-s2d1</th>\n",
       "      <td>1477</td>\n",
       "      <td>6.463696</td>\n",
       "      <td>1.127068</td>\n",
       "      <td>G2M</td>\n",
       "      <td>Plasma cell IGKC+</td>\n",
       "      <td>NaN</td>\n",
       "      <td>s2d1</td>\n",
       "      <td>NaN</td>\n",
       "      <td>True</td>\n",
       "      <td>0.092654</td>\n",
       "    </tr>\n",
       "    <tr>\n",
       "      <th>CATAGACAGAAGCCAC-1-s2d1</th>\n",
       "      <td>1374</td>\n",
       "      <td>4.017400</td>\n",
       "      <td>1.004874</td>\n",
       "      <td>S</td>\n",
       "      <td>pDC</td>\n",
       "      <td>NaN</td>\n",
       "      <td>s2d1</td>\n",
       "      <td>NaN</td>\n",
       "      <td>True</td>\n",
       "      <td>0.085936</td>\n",
       "    </tr>\n",
       "    <tr>\n",
       "      <th>TACAGGTAGCCTGGAA-1-s2d1</th>\n",
       "      <td>1600</td>\n",
       "      <td>9.693594</td>\n",
       "      <td>1.292868</td>\n",
       "      <td>G2M</td>\n",
       "      <td>CD14+ Mono</td>\n",
       "      <td>NaN</td>\n",
       "      <td>s2d1</td>\n",
       "      <td>NaN</td>\n",
       "      <td>True</td>\n",
       "      <td>0.081339</td>\n",
       "    </tr>\n",
       "    <tr>\n",
       "      <th>TCTGGCTGTCCATAGT-1-s3d6</th>\n",
       "      <td>2697</td>\n",
       "      <td>9.870861</td>\n",
       "      <td>2.156510</td>\n",
       "      <td>S</td>\n",
       "      <td>G/M prog</td>\n",
       "      <td>NaN</td>\n",
       "      <td>s3d6</td>\n",
       "      <td>NaN</td>\n",
       "      <td>True</td>\n",
       "      <td>0.080892</td>\n",
       "    </tr>\n",
       "    <tr>\n",
       "      <th>GACTATGAGCCTGACC-1-s2d1</th>\n",
       "      <td>1254</td>\n",
       "      <td>2.192044</td>\n",
       "      <td>0.837436</td>\n",
       "      <td>S</td>\n",
       "      <td>Erythroblast</td>\n",
       "      <td>0.865934</td>\n",
       "      <td>s2d1</td>\n",
       "      <td>0.970443</td>\n",
       "      <td>True</td>\n",
       "      <td>0.063046</td>\n",
       "    </tr>\n",
       "  </tbody>\n",
       "</table>\n",
       "<p>29076 rows × 10 columns</p>\n",
       "</div>"
      ],
      "text/plain": [
       "                         n_genes_by_counts  pct_counts_mt  size_factors phase  \\\n",
       "CTACTATTCAGACAAA-1-s3d6                991       5.773749      0.595354   G2M   \n",
       "GGTGAAGCAACGGCCT-1-s2d4               5030       5.295238      5.038833   G2M   \n",
       "CATTCCGTCCACGTAA-1-s2d1               1093      13.219831      0.645375   G2M   \n",
       "ACGATCAGTGAGACCA-1-s2d1               1535       8.755131      1.381448   G2M   \n",
       "GTAGTACGTGGTAACG-1-s2d1                811      10.875216      0.420653   G2M   \n",
       "...                                    ...            ...           ...   ...   \n",
       "TCATTCAGTCAGTCGC-1-s2d1               1477       6.463696      1.127068   G2M   \n",
       "CATAGACAGAAGCCAC-1-s2d1               1374       4.017400      1.004874     S   \n",
       "TACAGGTAGCCTGGAA-1-s2d1               1600       9.693594      1.292868   G2M   \n",
       "TCTGGCTGTCCATAGT-1-s3d6               2697       9.870861      2.156510     S   \n",
       "GACTATGAGCCTGACC-1-s2d1               1254       2.192044      0.837436     S   \n",
       "\n",
       "                                   cell_type  pseudotime_order_GEX batch  \\\n",
       "CTACTATTCAGACAAA-1-s3d6  Naive CD20+ B IGKC+                   NaN  s3d6   \n",
       "GGTGAAGCAACGGCCT-1-s2d4                 cDC2                   NaN  s2d4   \n",
       "CATTCCGTCCACGTAA-1-s2d1           CD14+ Mono                   NaN  s2d1   \n",
       "ACGATCAGTGAGACCA-1-s2d1           CD14+ Mono                   NaN  s2d1   \n",
       "GTAGTACGTGGTAACG-1-s2d1         CD8+ T naive                   NaN  s2d1   \n",
       "...                                      ...                   ...   ...   \n",
       "TCATTCAGTCAGTCGC-1-s2d1    Plasma cell IGKC+                   NaN  s2d1   \n",
       "CATAGACAGAAGCCAC-1-s2d1                  pDC                   NaN  s2d1   \n",
       "TACAGGTAGCCTGGAA-1-s2d1           CD14+ Mono                   NaN  s2d1   \n",
       "TCTGGCTGTCCATAGT-1-s3d6             G/M prog                   NaN  s3d6   \n",
       "GACTATGAGCCTGACC-1-s2d1         Erythroblast              0.865934  s2d1   \n",
       "\n",
       "                         pseudotime_order_ADT  is_train     error  \n",
       "CTACTATTCAGACAAA-1-s3d6                   NaN      True  0.125839  \n",
       "GGTGAAGCAACGGCCT-1-s2d4                   NaN      True  0.077324  \n",
       "CATTCCGTCCACGTAA-1-s2d1                   NaN      True  0.107221  \n",
       "ACGATCAGTGAGACCA-1-s2d1                   NaN      True  0.064224  \n",
       "GTAGTACGTGGTAACG-1-s2d1                   NaN      True  0.083815  \n",
       "...                                       ...       ...       ...  \n",
       "TCATTCAGTCAGTCGC-1-s2d1                   NaN      True  0.092654  \n",
       "CATAGACAGAAGCCAC-1-s2d1                   NaN      True  0.085936  \n",
       "TACAGGTAGCCTGGAA-1-s2d1                   NaN      True  0.081339  \n",
       "TCTGGCTGTCCATAGT-1-s3d6                   NaN      True  0.080892  \n",
       "GACTATGAGCCTGACC-1-s2d1              0.970443      True  0.063046  \n",
       "\n",
       "[29076 rows x 10 columns]"
      ]
     },
     "execution_count": 78,
     "metadata": {},
     "output_type": "execute_result"
    }
   ],
   "source": [
    "common_train"
   ]
  },
  {
   "cell_type": "code",
   "execution_count": 84,
   "metadata": {},
   "outputs": [
    {
     "data": {
      "text/plain": [
       "cell_type\n",
       "Naive CD20+ B IGKC+                 0.400538\n",
       "gdT TCRVD2+                         0.369241\n",
       "T reg                               0.360674\n",
       "Plasma cell IGKC+                   0.353652\n",
       "CD4+ T activated integrinB7+        0.352352\n",
       "B1 B IGKC-                          0.351420\n",
       "CD8+ T naive CD127+ CD26- CD101-    0.341787\n",
       "CD4+ T CD314+ CD45RA+               0.335432\n",
       "CD8+ T CD49f+                       0.334932\n",
       "B1 B IGKC+                          0.333384\n",
       "HSC                                 0.331630\n",
       "NK CD158e1+                         0.331544\n",
       "ILC1                                0.331075\n",
       "CD8+ T TIGIT+ CD45RO+               0.330209\n",
       "cDC2                                0.325384\n",
       "CD4+ T activated                    0.323121\n",
       "MAIT                                0.320211\n",
       "CD14+ Mono                          0.320064\n",
       "Naive CD20+ B IGKC-                 0.317276\n",
       "Lymph prog                          0.316022\n",
       "CD8+ T CD57+ CD45RA+                0.313115\n",
       "G/M prog                            0.310430\n",
       "CD16+ Mono                          0.310042\n",
       "gdT CD158b+                         0.306473\n",
       "CD4+ T naive                        0.304816\n",
       "NK                                  0.300162\n",
       "Transitional B                      0.294677\n",
       "Reticulocyte                        0.286533\n",
       "MK/E prog                           0.281628\n",
       "CD8+ T CD57+ CD45RO+                0.281451\n",
       "ILC                                 0.279793\n",
       "Erythroblast                        0.272773\n",
       "CD8+ T naive                        0.269881\n",
       "Normoblast                          0.269499\n",
       "pDC                                 0.256461\n",
       "CD8+ T CD69+ CD45RA+                     NaN\n",
       "CD8+ T CD69+ CD45RO+                     NaN\n",
       "CD8+ T TIGIT+ CD45RA+                    NaN\n",
       "Plasma cell IGKC-                        NaN\n",
       "Plasmablast IGKC+                        NaN\n",
       "Plasmablast IGKC-                        NaN\n",
       "Proerythroblast                          NaN\n",
       "T prog cycling                           NaN\n",
       "cDC1                                     NaN\n",
       "dnT                                      NaN\n",
       "Name: error, dtype: float32"
      ]
     },
     "execution_count": 84,
     "metadata": {},
     "output_type": "execute_result"
    }
   ],
   "source": [
    "common_test.groupby(['cell_type']).mean()['error'].sort_values(ascending=False)"
   ]
  },
  {
   "cell_type": "code",
   "execution_count": 90,
   "metadata": {},
   "outputs": [
    {
     "data": {
      "text/plain": [
       "batch  cell_type                   \n",
       "s1d1   B1 B IGKC+                      0.095102\n",
       "       B1 B IGKC-                      0.084967\n",
       "       CD4+ T CD314+ CD45RA+                NaN\n",
       "       CD4+ T activated                0.095303\n",
       "       CD4+ T activated integrinB7+    0.102362\n",
       "                                         ...   \n",
       "s3d7   cDC2                                 NaN\n",
       "       dnT                                  NaN\n",
       "       gdT CD158b+                          NaN\n",
       "       gdT TCRVD2+                          NaN\n",
       "       pDC                                  NaN\n",
       "Name: error, Length: 270, dtype: float32"
      ]
     },
     "execution_count": 90,
     "metadata": {},
     "output_type": "execute_result"
    }
   ],
   "source": [
    "common_train.groupby(['batch', 'cell_type']).mean()['error']"
   ]
  },
  {
   "cell_type": "code",
   "execution_count": 93,
   "metadata": {},
   "outputs": [
    {
     "data": {
      "text/plain": [
       "s3d6    9976\n",
       "s2d1    9353\n",
       "s2d4    5026\n",
       "s1d1    4721\n",
       "s1d2       0\n",
       "s3d7       0\n",
       "Name: batch, dtype: int64"
      ]
     },
     "execution_count": 93,
     "metadata": {},
     "output_type": "execute_result"
    }
   ],
   "source": [
    "common_train['batch'].value_counts()"
   ]
  },
  {
   "cell_type": "code",
   "execution_count": 114,
   "metadata": {},
   "outputs": [],
   "source": [
    "one_type_train = common_train[common_train['cell_type'] == 'NK']"
   ]
  },
  {
   "cell_type": "code",
   "execution_count": 115,
   "metadata": {},
   "outputs": [
    {
     "data": {
      "text/plain": [
       "(array([ 1.,  4.,  9.,  8., 16., 20., 16., 25., 37., 38., 41., 46., 52.,\n",
       "        41., 45., 53., 46., 41., 41., 44., 25., 25., 13., 17., 16.,  3.,\n",
       "         5., 11., 13., 10.,  4.,  4.,  2.,  3.,  2.,  3.,  3.,  1.,  1.,\n",
       "         0.,  0.,  1.,  2.,  1.,  0.,  1.,  0.,  0.,  0.,  1.]),\n",
       " array([0.0268571 , 0.03128082, 0.03570455, 0.04012828, 0.044552  ,\n",
       "        0.04897573, 0.05339945, 0.05782318, 0.06224691, 0.06667063,\n",
       "        0.07109436, 0.07551809, 0.07994181, 0.08436554, 0.08878926,\n",
       "        0.09321299, 0.09763671, 0.10206044, 0.10648417, 0.1109079 ,\n",
       "        0.11533162, 0.11975535, 0.12417907, 0.1286028 , 0.13302653,\n",
       "        0.13745025, 0.14187397, 0.14629771, 0.15072143, 0.15514515,\n",
       "        0.15956888, 0.16399261, 0.16841634, 0.17284006, 0.17726378,\n",
       "        0.18168752, 0.18611124, 0.19053496, 0.19495869, 0.19938241,\n",
       "        0.20380615, 0.20822987, 0.21265359, 0.21707731, 0.22150105,\n",
       "        0.22592478, 0.2303485 , 0.23477222, 0.23919596, 0.24361968,\n",
       "        0.2480434 ], dtype=float32),\n",
       " <BarContainer object of 50 artists>)"
      ]
     },
     "execution_count": 115,
     "metadata": {},
     "output_type": "execute_result"
    },
    {
     "data": {
      "image/png": "[encoded data removed]",
      "text/plain": [
       "<Figure size 432x288 with 1 Axes>"
      ]
     },
     "metadata": {
      "needs_background": "light"
     },
     "output_type": "display_data"
    }
   ],
   "source": [
    "plt.hist(one_type_train['error'], bins=50)"
   ]
  },
  {
   "cell_type": "code",
   "execution_count": 118,
   "metadata": {},
   "outputs": [],
   "source": [
    "one_type_test = common_test[common_test['cell_type'] == 'CD8+ T naive']"
   ]
  },
  {
   "cell_type": "code",
   "execution_count": 119,
   "metadata": {},
   "outputs": [
    {
     "data": {
      "text/plain": [
       "(array([2., 0., 2., 0., 0., 0., 1., 0., 0., 1., 0., 0., 0., 1., 2., 0., 0.,\n",
       "        0., 0., 0., 0., 1., 1., 0., 0., 3., 0., 1., 1., 1., 0., 0., 1., 1.,\n",
       "        0., 1., 0., 1., 0., 0., 0., 0., 0., 1., 0., 1., 0., 0., 0., 1.]),\n",
       " array([0.11061262, 0.11758145, 0.12455027, 0.1315191 , 0.13848792,\n",
       "        0.14545675, 0.15242557, 0.15939438, 0.16636321, 0.17333204,\n",
       "        0.18030086, 0.18726969, 0.19423851, 0.20120734, 0.20817615,\n",
       "        0.21514498, 0.2221138 , 0.22908263, 0.23605146, 0.24302028,\n",
       "        0.24998909, 0.25695792, 0.26392674, 0.27089557, 0.2778644 ,\n",
       "        0.28483322, 0.29180205, 0.29877087, 0.3057397 , 0.31270853,\n",
       "        0.31967735, 0.32664615, 0.33361498, 0.3405838 , 0.34755263,\n",
       "        0.35452145, 0.36149028, 0.3684591 , 0.37542793, 0.38239676,\n",
       "        0.38936558, 0.3963344 , 0.40330324, 0.41027206, 0.41724086,\n",
       "        0.42420968, 0.4311785 , 0.43814734, 0.44511616, 0.452085  ,\n",
       "        0.4590538 ], dtype=float32),\n",
       " <BarContainer object of 50 artists>)"
      ]
     },
     "execution_count": 119,
     "metadata": {},
     "output_type": "execute_result"
    },
    {
     "data": {
      "image/png": "[encoded data removed]",
      "text/plain": [
       "<Figure size 432x288 with 1 Axes>"
      ]
     },
     "metadata": {
      "needs_background": "light"
     },
     "output_type": "display_data"
    }
   ],
   "source": [
    "plt.hist(one_type_test['error'], bins=50)"
   ]
  }
 ],
 "metadata": {
  "interpreter": {
   "hash": "56a5fcc7b7e2612f6fc27864a94affd768eb55fcd75f3241521b5f5947107b33"
  },
  "kernelspec": {
   "display_name": "Python 3.8.12 64-bit ('nips': conda)",
   "name": "python3"
  },
  "language_info": {
   "codemirror_mode": {
    "name": "ipython",
    "version": 3
   },
   "file_extension": ".py",
   "mimetype": "text/x-python",
   "name": "python",
   "nbconvert_exporter": "python",
   "pygments_lexer": "ipython3",
   "version": "3.8.12"
  },
  "orig_nbformat": 4
 },
 "nbformat": 4,
 "nbformat_minor": 2
}

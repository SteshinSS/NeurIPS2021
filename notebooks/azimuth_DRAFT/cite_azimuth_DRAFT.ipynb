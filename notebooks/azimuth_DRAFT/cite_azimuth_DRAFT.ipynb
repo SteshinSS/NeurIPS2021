{
 "cells": [
  {
   "cell_type": "markdown",
   "id": "6d2cb524",
   "metadata": {},
   "source": [
    "# Downloading requirements"
   ]
  },
  {
   "cell_type": "code",
   "execution_count": 1,
   "id": "b62eda88",
   "metadata": {},
   "outputs": [],
   "source": [
    "import tarfile\n",
    "import urllib.request\n",
    "import tempfile\n",
    "import anndata as ad\n",
    "import scanpy as sc\n",
    "\n",
    "import pandas as pd\n",
    "import numpy as np\n",
    "import seaborn as sb\n",
    "from scipy import io, sparse\n",
    "from scipy.sparse import csr_matrix\n",
    "import matplotlib.pyplot as plt\n",
    "from matplotlib import rcParams\n",
    "from matplotlib import colors\n",
    "\n",
    "import pickle\n",
    "import copy\n",
    "import gzip\n",
    "\n",
    "import logging\n",
    "\n",
    "import rpy2.robjects as ro\n",
    "from rpy2.robjects import numpy2ri, pandas2ri\n",
    "from rpy2.robjects.conversion import localconverter\n",
    "from rpy2.robjects.packages import importr\n",
    "\n",
    "numpy2ri.activate()\n",
    "pandas2ri.activate()\n",
    "%load_ext rpy2.ipython"
   ]
  },
  {
   "cell_type": "code",
   "execution_count": 2,
   "id": "1e6904d7",
   "metadata": {},
   "outputs": [],
   "source": [
    "from lab_scripts.data.preprocessing.common import gex_normalization\n",
    "from data import download_data\n",
    "\n",
    "from lab_script.utils import utils\n",
    "utils.change_\n",
    "\n",
    "#import importlib\n",
    "#importlib.reload(gex_normalization)"
   ]
  },
  {
   "cell_type": "code",
   "execution_count": 3,
   "id": "4e527fbf",
   "metadata": {},
   "outputs": [],
   "source": [
    "%%R\n",
    "old_paths <- .libPaths()[-1]\n",
    "new_paths <- c(\"~/R/nips\", old_paths)\n",
    ".libPaths(new_paths)\n",
    "\n",
    "suppressMessages(library(\"dplyr\"))\n",
    "suppressMessages(library(\"Seurat\"))\n",
    "suppressMessages(library(\"anndata\"))\n",
    "suppressMessages(library(\"SingleCellExperiment\"))\n",
    "suppressMessages(library(\"scran\"))\n",
    "suppressMessages(library(\"Matrix\"))"
   ]
  },
  {
   "cell_type": "markdown",
   "id": "8f08d415",
   "metadata": {},
   "source": [
    "# Initial data load"
   ]
  },
  {
   "cell_type": "code",
   "execution_count": 20,
   "id": "8ae32182",
   "metadata": {},
   "outputs": [
    {
     "name": "stdout",
     "output_type": "stream",
     "text": [
      "Download s3://nips2021/data/raw to data/raw...\n",
      "download: s3://nips2021/data/raw/adt/.gitignore to data/raw/adt/.gitignore\n",
      "download: s3://nips2021/data/raw/gex_adt/.gitignore to data/raw/gex_adt/.gitignore\n",
      "download: s3://nips2021/data/raw/atac/.gitignore to data/raw/atac/.gitignore\n",
      "download: s3://nips2021/data/raw/gex/.gitignore to data/raw/gex/.gitignore\n",
      "download: s3://nips2021/data/raw/gex_atac/.gitignore to data/raw/gex_atac/.gitignore\n",
      "download: s3://nips2021/data/raw/gex_adt/totalVI_10x_adt.h5ad to data/raw/gex_adt/totalVI_10x_adt.h5ad\n",
      "download: s3://nips2021/data/raw/gex_adt/totalVI_10x_gex.h5ad to data/raw/gex_adt/totalVI_10x_gex.h5ad\n",
      "download: s3://nips2021/data/raw/gex_adt/azimuth_adt.h5ad to data/raw/gex_adt/azimuth_adt.h5ad\n",
      "download: s3://nips2021/data/raw/gex_adt/azimuth_gex.h5ad to data/raw/gex_adt/azimuth_gex.h5ad\n",
      "\n"
     ]
    }
   ],
   "source": [
    "download_data.download_raw()"
   ]
  },
  {
   "cell_type": "markdown",
   "id": "bf2425a0",
   "metadata": {},
   "source": [
    "# I. GEX modality"
   ]
  },
  {
   "cell_type": "code",
   "execution_count": 22,
   "id": "7266b9fc",
   "metadata": {},
   "outputs": [],
   "source": [
    "adata_RNA = ad.read_h5ad('/data/raw/gex_adt/azimuth_gex.h5ad')"
   ]
  },
  {
   "cell_type": "markdown",
   "id": "d5d4d240",
   "metadata": {},
   "source": [
    "## 1. QC metrics"
   ]
  },
  {
   "cell_type": "code",
   "execution_count": 4,
   "id": "57ee0d95",
   "metadata": {},
   "outputs": [
    {
     "data": {
      "text/plain": [
       "14.998124"
      ]
     },
     "execution_count": 4,
     "metadata": {},
     "output_type": "execute_result"
    }
   ],
   "source": [
    "# Percentage of mitochondrial counts\n",
    "\n",
    "is_mito = adata_RNA.var_names.str.startswith(\"MT-\")\n",
    "total_mito_genes = np.sum(adata_RNA[:, is_mito].X, axis=1).A1\n",
    "total_all_genes = np.sum(adata_RNA.X, axis=1).A1\n",
    "mito_genes_percent = (total_mito_genes / total_all_genes) * 100.0\n",
    "adata_RNA.obs['pct_counts_mt'] = mito_genes_percent\n",
    "adata_RNA.obs['pct_counts_mt'].max()"
   ]
  },
  {
   "cell_type": "code",
   "execution_count": 5,
   "id": "56aae3e6",
   "metadata": {},
   "outputs": [
    {
     "data": {
      "text/plain": [
       "811.0"
      ]
     },
     "execution_count": 5,
     "metadata": {},
     "output_type": "execute_result"
    }
   ],
   "source": [
    "# UMI counts per cell\n",
    "# asarray convert matrix (n_cells, 1) to array (n_cells,)\n",
    "\n",
    "adata_RNA.obs['n_counts'] = np.asarray(np.sum(adata_RNA.X, axis = 1)).reshape(-1)\n",
    "adata_RNA.obs['n_counts'].min()"
   ]
  },
  {
   "cell_type": "code",
   "execution_count": 6,
   "id": "057143de",
   "metadata": {},
   "outputs": [
    {
     "data": {
      "text/plain": [
       "501"
      ]
     },
     "execution_count": 6,
     "metadata": {},
     "output_type": "execute_result"
    }
   ],
   "source": [
    "# number of genes per cell\n",
    "\n",
    "total_detected_genes = (adata_RNA.X > 0).sum(axis=1)\n",
    "total_detected_genes = np.asarray(total_detected_genes).reshape(-1)\n",
    "adata_RNA.obs['n_genes'] = total_detected_genes\n",
    "adata_RNA.obs['n_genes'].min()"
   ]
  },
  {
   "cell_type": "code",
   "execution_count": 7,
   "id": "28ab69f9",
   "metadata": {},
   "outputs": [
    {
     "name": "stdout",
     "output_type": "stream",
     "text": [
      "Total number of cells: 161764\n",
      "Number of cells after min count filter: 160326\n",
      "Number of cells after max count filter: 160273\n",
      "Number of cells after MT filter: 160273\n",
      "Number of cells after gene filter: 159964\n"
     ]
    }
   ],
   "source": [
    "# Filter cells according to identified QC thresholds:\n",
    "\n",
    "print('Total number of cells: {:d}'.format(adata_RNA.n_obs))\n",
    "\n",
    "sc.pp.filter_cells(adata_RNA, min_counts = 1500)\n",
    "\n",
    "print('Number of cells after min count filter: {:d}'.format(adata_RNA.n_obs))\n",
    "\n",
    "sc.pp.filter_cells(adata_RNA, max_counts = 40000)\n",
    "print('Number of cells after max count filter: {:d}'.format(adata_RNA.n_obs))\n",
    "\n",
    "adata_RNA_filtered = adata_RNA[adata_RNA.obs['pct_counts_mt'] < 20]\n",
    "print('Number of cells after MT filter: {:d}'.format(adata_RNA.n_obs))\n",
    "\n",
    "sc.pp.filter_cells(adata_RNA, min_genes = 700)\n",
    "print('Number of cells after gene filter: {:d}'.format(adata_RNA.n_obs))"
   ]
  },
  {
   "cell_type": "code",
   "execution_count": 8,
   "id": "e9372a63",
   "metadata": {},
   "outputs": [
    {
     "name": "stdout",
     "output_type": "stream",
     "text": [
      "Total number of genes: 33538\n",
      "Number of genes after cell filter: 21358\n"
     ]
    }
   ],
   "source": [
    "# Filter genes\n",
    "\n",
    "print('Total number of genes: {:d}'.format(adata_RNA.n_vars))\n",
    "sc.pp.filter_genes(adata_RNA, min_cells=20)\n",
    "print('Number of genes after cell filter: {:d}'.format(adata_RNA.n_vars))\n",
    "adata_RNA.write('./adata_RNA_filtered.h5ad')"
   ]
  },
  {
   "cell_type": "markdown",
   "id": "413f4829",
   "metadata": {},
   "source": [
    "## 2. Normalization (size factors)"
   ]
  },
  {
   "cell_type": "code",
   "execution_count": null,
   "id": "8f9879f1",
   "metadata": {},
   "outputs": [
    {
     "name": "stdout",
     "output_type": "stream",
     "text": [
      "0\n",
      "WARNING: You’re trying to run this on 21358 dimensions of `.X`, if you really want this, set `use_rep='X'`.\n",
      "         Falling back to preprocessing with `sc.pp.pca` and default params.\n"
     ]
    }
   ],
   "source": [
    "batches = sorted(adata_RNA.obs['batch'].value_counts().index.tolist())\n",
    "del adata_RNA\n",
    "\n",
    "for i in range(len(batches)):\n",
    "        print(i)\n",
    "        adata_RNA = ad.read_h5ad('./adata_RNA_filtered.h5ad')\n",
    "        batch = adata_RNA[adata_RNA.obs['batch'] == batches[i]].copy()\n",
    "        del adata_RNA\n",
    "        batch_processed = gex_normalization.standard_normalization(batch, {})\n",
    "        batch_processed.write_h5ad(par['./batch_processed{0}'.format(i+1)], compression = \"gzip\")\n",
    "        del batch_processed"
   ]
  },
  {
   "cell_type": "code",
   "execution_count": null,
   "id": "3b4bb6d4",
   "metadata": {},
   "outputs": [],
   "source": [
    "# Keep the count data in a counts layer\n",
    "adata_RNA.layers[\"counts\"] = adata_RNA.X.copy()\n",
    "\n",
    "# Normalize & Log-transform \n",
    "adata_RNA.X /= adata_RNA.obs['size_factors'].values[:,None]\n",
    "adata_RNA.X = sc.pp.log1p(adata_RNA.X)\n",
    "adata_RNA.write('./adata_RNA_final.h5ad')"
   ]
  },
  {
   "cell_type": "markdown",
   "id": "f022bb35",
   "metadata": {},
   "source": [
    "# II. ADT"
   ]
  },
  {
   "cell_type": "code",
   "execution_count": 4,
   "id": "40399ca9",
   "metadata": {},
   "outputs": [],
   "source": [
    "# Inner load\n",
    "\n",
    "adata_ADT = ad.read_h5ad('./data/raw/gex_adt/azimuth_adt.h5ad')"
   ]
  },
  {
   "cell_type": "code",
   "execution_count": 5,
   "id": "c0af2449",
   "metadata": {},
   "outputs": [
    {
     "data": {
      "text/plain": [
       "228"
      ]
     },
     "execution_count": 5,
     "metadata": {},
     "output_type": "execute_result"
    }
   ],
   "source": [
    "protein_names = adata_ADT.var.index.tolist()\n",
    "len(protein_names)"
   ]
  },
  {
   "cell_type": "code",
   "execution_count": 6,
   "id": "58ef1acd",
   "metadata": {},
   "outputs": [
    {
     "data": {
      "text/plain": [
       "134"
      ]
     },
     "execution_count": 6,
     "metadata": {},
     "output_type": "execute_result"
    }
   ],
   "source": [
    "# Download protein names from example dataset\n",
    "\n",
    "file = open('/home/alina/Desktop/neurips/notebooks/protein_names_explore', 'rb')\n",
    "protein_names_explore = pickle.load(file)\n",
    "file.close()\n",
    "len(protein_names_explore)"
   ]
  },
  {
   "cell_type": "code",
   "execution_count": 7,
   "id": "ba1822c9",
   "metadata": {},
   "outputs": [
    {
     "data": {
      "text/plain": [
       "34"
      ]
     },
     "execution_count": 7,
     "metadata": {},
     "output_type": "execute_result"
    }
   ],
   "source": [
    "outersect = set(protein_names_explore) - set(protein_names)\n",
    "len(outersect)"
   ]
  },
  {
   "cell_type": "markdown",
   "id": "82ab47b2",
   "metadata": {},
   "source": [
    "Azimuth ADT dataset contains 228 proteins.\n",
    "<br>Example ADT dataset contains 134 proteins.\n",
    "<br>34 proteins from example dataset are not in azimuth dataset."
   ]
  },
  {
   "cell_type": "markdown",
   "id": "2ba3ea8d",
   "metadata": {},
   "source": [
    "# 1. QC metrics"
   ]
  },
  {
   "cell_type": "markdown",
   "id": "20aebf9c",
   "metadata": {},
   "source": [
    "## Isotypic proteins counts per cell"
   ]
  },
  {
   "cell_type": "markdown",
   "id": "b5ba364e",
   "metadata": {},
   "source": [
    "Isotypic proteins are controls which do not target any human proteins and their expression should be considered background. \n",
    "<br>Here 4 rat proteins are observed. It is needed to relocate their matrix to another layes & remove them from adata.X and adata.var."
   ]
  },
  {
   "cell_type": "code",
   "execution_count": 8,
   "id": "70e5b8df",
   "metadata": {},
   "outputs": [
    {
     "name": "stdout",
     "output_type": "stream",
     "text": [
      "Rat-IgG1-1    Index: 1\n",
      "Rat-IgG2b    Index: 19\n",
      "Rat-IgG1-2    Index: 37\n",
      "Rag-IgG2c    Index: 54\n"
     ]
    }
   ],
   "source": [
    "# Find rat proteins\n",
    "\n",
    "for i in range(len(protein_names)):\n",
    "    if protein_names[i][0:2] == 'Ra':\n",
    "        print(protein_names[i], '   Index:', i)\n",
    "    else:\n",
    "        continue"
   ]
  },
  {
   "cell_type": "code",
   "execution_count": 9,
   "id": "c17f29f4",
   "metadata": {},
   "outputs": [],
   "source": [
    "# Create df from sparse matrix\n",
    "# Extract only columns with isoproteins from df\n",
    "# Add columns to adata.obsm layer\n",
    "\n",
    "isotype_df = pd.DataFrame.sparse.from_spmatrix(adata_ADT.X)\n",
    "isotype_df.index = adata_ADT.obs.index\n",
    "isotype_df.columns = adata_ADT.var.index\n",
    "\n",
    "isotype_proteins = ['Rat-IgG1-1', 'Rat-IgG2b', 'Rat-IgG1-2', 'Rag-IgG2c']\n",
    "isotype_df = isotype_df[isotype_proteins]\n",
    "adata_ADT.obsm['isotype_controls'] = isotype_df"
   ]
  },
  {
   "cell_type": "code",
   "execution_count": 10,
   "id": "ecb446a5",
   "metadata": {},
   "outputs": [],
   "source": [
    "# Filter out isoproteins from adata.var\n",
    "\n",
    "adata_ADT.var_filtered = adata_ADT.var.drop(index=isotype_proteins)"
   ]
  },
  {
   "cell_type": "code",
   "execution_count": 11,
   "id": "f9cc0251",
   "metadata": {},
   "outputs": [
    {
     "data": {
      "text/plain": [
       "AnnData object with n_obs × n_vars = 161764 × 228\n",
       "    obs: 'nCount_ADT', 'nFeature_ADT', 'orig.ident', 'lane', 'batch', 'time', 'celltype.l1', 'celltype.l2', 'celltype.l3', 'Phase', 'seq_batch', 'cell_type'\n",
       "    var: 'names', 'feature_types'\n",
       "    uns: 'dataset_id', 'organism'\n",
       "    obsm: 'isotype_controls'"
      ]
     },
     "execution_count": 11,
     "metadata": {},
     "output_type": "execute_result"
    }
   ],
   "source": [
    "adata_ADT"
   ]
  },
  {
   "cell_type": "code",
   "execution_count": 12,
   "id": "d9af9d21",
   "metadata": {},
   "outputs": [],
   "source": [
    "# Filter out isoproteins from adata.X\n",
    "\n",
    "all_cols = np.arange(adata_ADT.X.shape[1])\n",
    "cols_to_remove = [1, 19, 37, 54]\n",
    "cols_to_keep = list(set(all_cols) - set(cols_to_remove))\n",
    "adata_ADT.X_filtered = adata_ADT.X[:, cols_to_keep]"
   ]
  },
  {
   "cell_type": "code",
   "execution_count": 13,
   "id": "1817f510",
   "metadata": {},
   "outputs": [],
   "source": [
    "adata_ADT_new =  ad.AnnData(\n",
    "    X = adata_ADT.X_filtered,\n",
    "    var = adata_ADT.var_filtered,\n",
    "    obs = adata_ADT.obs,\n",
    "    uns = adata_ADT.uns,\n",
    "    obsm = adata_ADT.obsm)"
   ]
  },
  {
   "cell_type": "code",
   "execution_count": 14,
   "id": "e860de06",
   "metadata": {},
   "outputs": [
    {
     "data": {
      "text/plain": [
       "(0.0, 2568.0)"
      ]
     },
     "execution_count": 14,
     "metadata": {},
     "output_type": "execute_result"
    }
   ],
   "source": [
    "# Sum of counts in 4 isotypic proteins per cell\n",
    "# Range of isotypic counts under filtration in explore dataset is (1, 100) for 6 isoproteins\n",
    "# Here we have 4 proteins, so the proportion of 100 is ~67\n",
    "# Thresholds should be (1, 67)\n",
    "\n",
    "adata_ADT_new.obs['iso_count'] = np.asarray(np.sum(adata_ADT_new.obsm['isotype_controls'], axis = 1)).reshape(-1)\n",
    "(adata_ADT_new.obs['iso_count'].min(), adata_ADT_new.obs['iso_count'].max())"
   ]
  },
  {
   "cell_type": "markdown",
   "id": "779cef2a",
   "metadata": {},
   "source": [
    "## Total counts per cell"
   ]
  },
  {
   "cell_type": "code",
   "execution_count": 17,
   "id": "a0b77b13",
   "metadata": {},
   "outputs": [
    {
     "data": {
      "text/plain": [
       "(953.0, 49287.0)"
      ]
     },
     "execution_count": 17,
     "metadata": {},
     "output_type": "execute_result"
    }
   ],
   "source": [
    "# ADT counts per cell\n",
    "# Same thresholds as in example dataset: (1100, 24000)\n",
    "\n",
    "adata_ADT_new.obs['total_counts'] = np.asarray(np.sum(adata_ADT_new.X, axis = 1)).reshape(-1)\n",
    "(adata_ADT_new.obs['total_counts'].min(), adata_ADT_new.obs['total_counts'].max())"
   ]
  },
  {
   "cell_type": "markdown",
   "id": "677b71c9",
   "metadata": {},
   "source": [
    "## Proteins per cell"
   ]
  },
  {
   "cell_type": "code",
   "execution_count": 21,
   "id": "9e8cc83c",
   "metadata": {},
   "outputs": [
    {
     "data": {
      "text/plain": [
       "(103, 224)"
      ]
     },
     "execution_count": 21,
     "metadata": {},
     "output_type": "execute_result"
    }
   ],
   "source": [
    "# Number of proteins per cell; Total number = 228\n",
    "# total_number*0.6 is a threshold in example dataset\n",
    "# Here it is equal to 134 proteins, but is seems not enough strict (see EDA),\n",
    "# so 170 is taken as thresholds\n",
    "\n",
    "adata_ADT_new.obs['n_antibodies_by_counts'] = np.asarray((adata_ADT_new.X > 0).sum(axis=1)).reshape(-1)\n",
    "(adata_ADT_new.obs['n_antibodies_by_counts'].min(), adata_ADT_new.obs['n_antibodies_by_counts'].max())"
   ]
  },
  {
   "cell_type": "markdown",
   "id": "11ac0f25",
   "metadata": {},
   "source": [
    "## Filtering"
   ]
  },
  {
   "cell_type": "code",
   "execution_count": 24,
   "id": "5073b5d2",
   "metadata": {},
   "outputs": [
    {
     "name": "stderr",
     "output_type": "stream",
     "text": [
      "Trying to set attribute `.obs` of view, copying.\n"
     ]
    },
    {
     "name": "stdout",
     "output_type": "stream",
     "text": [
      "Total number of cells: 161764\n",
      "Number of cells after min isocount filter: 161450\n",
      "Number of cells after max isocount filter: 160582\n",
      "Number of cells after min count filter: 160377\n",
      "Number of cells after max count filter: 159998\n",
      "Number of cells after protein number filter: 158187\n"
     ]
    }
   ],
   "source": [
    "# Filter cells according to identified QC thresholds:\n",
    "\n",
    "print('Total number of cells: {:d}'.format(adata_ADT_new.n_obs))\n",
    "\n",
    "adata_ADT_new = adata_ADT_new[adata_ADT_new.obs['iso_count'] > 1]\n",
    "print('Number of cells after min isocount filter: {:d}'.format(adata_ADT_new.n_obs))\n",
    "\n",
    "adata_ADT_new = adata_ADT_new[adata_ADT_new.obs['iso_count'] < 67]\n",
    "print('Number of cells after max isocount filter: {:d}'.format(adata_ADT_new.n_obs))\n",
    "\n",
    "sc.pp.filter_cells(adata_ADT_new, min_counts = 1100)\n",
    "print('Number of cells after min count filter: {:d}'.format(adata_ADT_new.n_obs))\n",
    "\n",
    "sc.pp.filter_cells(adata_ADT_new, max_counts = 24000)\n",
    "print('Number of cells after max count filter: {:d}'.format(adata_ADT_new.n_obs))\n",
    "\n",
    "sc.pp.filter_cells(adata_ADT_new, min_genes = 170)  # 60% of n_genes\n",
    "print('Number of cells after protein number filter: {:d}'.format(adata_ADT_new.n_obs))"
   ]
  },
  {
   "cell_type": "code",
   "execution_count": 25,
   "id": "f7e50753",
   "metadata": {},
   "outputs": [
    {
     "name": "stdout",
     "output_type": "stream",
     "text": [
      "Total number of genes: 224\n",
      "Number of genes after cell filter: 224\n"
     ]
    }
   ],
   "source": [
    "# Filter genes\n",
    "\n",
    "print('Total number of genes: {:d}'.format(adata_ADT_new.n_vars))\n",
    "sc.pp.filter_genes(adata_ADT_new, min_cells=40)\n",
    "\n",
    "print('Number of genes after cell filter: {:d}'.format(adata_ADT_new.n_vars))\n",
    "adata_ADT.write('./adata_ADT_filtered.h5ad')"
   ]
  },
  {
   "cell_type": "markdown",
   "id": "d8df4e5d",
   "metadata": {},
   "source": [
    "## 2. Normalization"
   ]
  },
  {
   "cell_type": "code",
   "execution_count": 26,
   "id": "ab1839c6",
   "metadata": {},
   "outputs": [],
   "source": [
    "# Keep the count data in a counts layer\n",
    "\n",
    "adata_ADT_new.layers[\"counts\"] = adata_ADT_new.X.copy()"
   ]
  },
  {
   "cell_type": "code",
   "execution_count": 27,
   "id": "b40a5b5e",
   "metadata": {},
   "outputs": [],
   "source": [
    "# Reimplemented in Python\n",
    "\n",
    "def CLR_transform(sparse):\n",
    "    array = sparse.toarray()\n",
    "    logn1 = np.log(array+1)\n",
    "    mean = np.nanmean(logn1, axis = 1)\n",
    "    exponent = np.exp(mean)\n",
    "    ratio = (array/exponent[:,None]) + 1\n",
    "    T_clr = np.log(ratio)\n",
    "    transformed = csr_matrix(T_clr)\n",
    "    return transformed"
   ]
  },
  {
   "cell_type": "code",
   "execution_count": 29,
   "id": "bdfc5b3f",
   "metadata": {},
   "outputs": [
    {
     "data": {
      "text/plain": [
       "AnnData object with n_obs × n_vars = 158187 × 224\n",
       "    obs: 'nCount_ADT', 'nFeature_ADT', 'orig.ident', 'lane', 'batch', 'time', 'celltype.l1', 'celltype.l2', 'celltype.l3', 'Phase', 'seq_batch', 'cell_type', 'iso_count', 'total_counts', 'n_antibodies_by_counts', 'n_counts', 'n_genes'\n",
       "    var: 'names', 'feature_types', 'n_cells'\n",
       "    uns: 'dataset_id', 'organism'\n",
       "    obsm: 'isotype_controls'\n",
       "    layers: 'counts'"
      ]
     },
     "execution_count": 29,
     "metadata": {},
     "output_type": "execute_result"
    }
   ],
   "source": [
    "adata_ADT_new"
   ]
  },
  {
   "cell_type": "code",
   "execution_count": 30,
   "id": "bac51554",
   "metadata": {},
   "outputs": [
    {
     "name": "stdout",
     "output_type": "stream",
     "text": [
      "['P1', 'P2', 'P3', 'P4', 'P5', 'P6', 'P7', 'P8']\n"
     ]
    }
   ],
   "source": [
    "batches = sorted(adata_ADT_new.obs['batch'].value_counts().index.tolist())\n",
    "var = adata_ADT_new.var\n",
    "uns = adata_ADT_new.uns\n",
    "print(batches)"
   ]
  },
  {
   "cell_type": "code",
   "execution_count": 31,
   "id": "b4e774e6",
   "metadata": {},
   "outputs": [],
   "source": [
    "for i in range(len(batches)):\n",
    "    if i==0:\n",
    "        batch = adata_ADT_new[adata_ADT_new.obs['batch'] == batches[i]].copy()\n",
    "        del adata_ADT_new\n",
    "        batch.X = CLR_transform(batch.X)\n",
    "        adata_ADT_final = batch\n",
    "    else:\n",
    "        adata_ADT_new = ad.read_h5ad('./adata_ADT_filtered.h5ad')\n",
    "        batch = adata_ADT_new[adata_ADT_new.obs['batch'] == batches[i]].copy()\n",
    "        del adata_ADT_new\n",
    "        batch.X = CLR_transform(batch.X)\n",
    "        adata_ADT_final = ad.concat([adata_ADT_final, batch], axis=0)"
   ]
  },
  {
   "cell_type": "code",
   "execution_count": 32,
   "id": "0028e041",
   "metadata": {},
   "outputs": [
    {
     "data": {
      "text/plain": [
       "AnnData object with n_obs × n_vars = 161375 × 224\n",
       "    obs: 'nCount_ADT', 'nFeature_ADT', 'orig.ident', 'lane', 'batch', 'time', 'celltype.l1', 'celltype.l2', 'celltype.l3', 'Phase', 'seq_batch', 'cell_type'\n",
       "    var: 'names', 'feature_types', 'n_cells'\n",
       "    uns: 'dataset_id', 'organism'\n",
       "    obsm: 'isotype_controls'"
      ]
     },
     "execution_count": 32,
     "metadata": {},
     "output_type": "execute_result"
    }
   ],
   "source": [
    "adata_ADT_final.var = var\n",
    "adata_ADT_final.uns = uns\n",
    "adata_ADT_final"
   ]
  },
  {
   "cell_type": "code",
   "execution_count": 35,
   "id": "2f95973c",
   "metadata": {},
   "outputs": [],
   "source": [
    "adata_ADT_final.write_h5ad(\"adata_ADT_final.h5ad\")"
   ]
  }
 ],
 "metadata": {
  "kernelspec": {
   "display_name": "Python 3 (ipykernel)",
   "language": "python",
   "name": "python3"
  },
  "language_info": {
   "codemirror_mode": {
    "name": "ipython",
    "version": 3
   },
   "file_extension": ".py",
   "mimetype": "text/x-python",
   "name": "python",
   "nbconvert_exporter": "python",
   "pygments_lexer": "ipython3",
   "version": "3.8.11"
  }
 },
 "nbformat": 4,
 "nbformat_minor": 5
}

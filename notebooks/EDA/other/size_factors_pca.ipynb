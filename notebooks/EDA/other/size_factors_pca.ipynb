{
 "cells": [
  {
   "cell_type": "code",
   "execution_count": 1,
   "metadata": {
    "scrolled": true
   },
   "outputs": [],
   "source": [
    "import tarfile\n",
    "import urllib.request\n",
    "import tempfile\n",
    "import anndata as ad\n",
    "import scanpy as sc\n",
    "\n",
    "import pandas as pd\n",
    "import numpy as np\n",
    "import seaborn as sb\n",
    "from scipy import io\n",
    "import matplotlib.pyplot as plt\n",
    "from matplotlib import rcParams\n",
    "from matplotlib import colors\n",
    "import pickle\n",
    "import copy\n",
    "\n",
    "import rpy2.rinterface_lib.callbacks\n",
    "import logging\n",
    "from rpy2.robjects import pandas2ri\n",
    "%load_ext rpy2.ipython"
   ]
  },
  {
   "cell_type": "code",
   "execution_count": 2,
   "metadata": {},
   "outputs": [],
   "source": [
    "%%R\n",
    "old_paths <- .libPaths()[-1]\n",
    "new_paths <- c(\"~/R/nips\", old_paths)\n",
    ".libPaths(new_paths)\n",
    "\n",
    "suppressMessages(library(\"dplyr\"))\n",
    "suppressMessages(library(\"Seurat\"))\n",
    "suppressMessages(library(\"anndata\"))\n",
    "suppressMessages(library(\"SingleCellExperiment\"))\n",
    "suppressMessages(library(\"scran\"))\n",
    "suppressMessages(library(\"Matrix\"))"
   ]
  },
  {
   "cell_type": "code",
   "execution_count": 3,
   "metadata": {},
   "outputs": [],
   "source": [
    "## VIASH START\n",
    "\n",
    "par = {\n",
    "    \"id\": \"babel_GM12878\",\n",
    "    \"input\": \"https://www.ncbi.nlm.nih.gov/geo/download/?acc=GSE166797&format=file\",\n",
    "    \"organism\": \"human\",\n",
    "    \"output_rna\": \"output_rna.h5ad\",\n",
    "    \"output_mod2\": \"output_mod2.h5ad\",\n",
    "    \"rep_n\": 1\n",
    "}\n",
    "\n",
    "## VIASH END"
   ]
  },
  {
   "cell_type": "code",
   "execution_count": 4,
   "metadata": {},
   "outputs": [
    {
     "name": "stdout",
     "output_type": "stream",
     "text": [
      "Reading sample h5\n"
     ]
    },
    {
     "name": "stderr",
     "output_type": "stream",
     "text": [
      "Variable names are not unique. To make them unique, call `.var_names_make_unique`.\n",
      "Variable names are not unique. To make them unique, call `.var_names_make_unique`.\n"
     ]
    },
    {
     "name": "stdout",
     "output_type": "stream",
     "text": [
      "Merging into one AnnData object\n",
      "Splitting up into GEX and ATAC\n"
     ]
    },
    {
     "name": "stderr",
     "output_type": "stream",
     "text": [
      "/home/alina/Downloads/ENTER/envs/nips/lib/python3.8/site-packages/anndata/_core/anndata.py:1220: FutureWarning: The `inplace` parameter in pandas.Categorical.reorder_categories is deprecated and will be removed in a future version. Removing unused categories will always return a new Categorical object.\n",
      "  c.reorder_categories(natsorted(c.categories), inplace=True)\n",
      "... storing 'feature_types' as categorical\n",
      "/home/alina/Downloads/ENTER/envs/nips/lib/python3.8/site-packages/anndata/_core/anndata.py:1220: FutureWarning: The `inplace` parameter in pandas.Categorical.reorder_categories is deprecated and will be removed in a future version. Removing unused categories will always return a new Categorical object.\n",
      "  c.reorder_categories(natsorted(c.categories), inplace=True)\n",
      "... storing 'genome' as categorical\n"
     ]
    },
    {
     "name": "stdout",
     "output_type": "stream",
     "text": [
      "Writing output\n"
     ]
    },
    {
     "name": "stderr",
     "output_type": "stream",
     "text": [
      "/home/alina/Downloads/ENTER/envs/nips/lib/python3.8/site-packages/anndata/_core/anndata.py:1220: FutureWarning: The `inplace` parameter in pandas.Categorical.reorder_categories is deprecated and will be removed in a future version. Removing unused categories will always return a new Categorical object.\n",
      "  c.reorder_categories(natsorted(c.categories), inplace=True)\n",
      "... storing 'feature_types' as categorical\n",
      "/home/alina/Downloads/ENTER/envs/nips/lib/python3.8/site-packages/anndata/_core/anndata.py:1220: FutureWarning: The `inplace` parameter in pandas.Categorical.reorder_categories is deprecated and will be removed in a future version. Removing unused categories will always return a new Categorical object.\n",
      "  c.reorder_categories(natsorted(c.categories), inplace=True)\n",
      "... storing 'genome' as categorical\n"
     ]
    }
   ],
   "source": [
    "tempdir = '/home/alina/Desktop/neurips/data/babel_data'\n",
    "\n",
    "print(\"Reading sample h5\")\n",
    "ad_rep1 = sc.read_10x_h5(tempdir + '/GSM5085810_GM12878_rep1_filtered_feature_bc_matrix.h5', gex_only = False)\n",
    "ad_rep2 = sc.read_10x_h5(tempdir + '/GSM5085812_GM12878_rep2_filtered_feature_bc_matrix.h5', gex_only = False)\n",
    "\n",
    "ad_rep1.var_names_make_unique()\n",
    "ad_rep2.var_names_make_unique()\n",
    "\n",
    "print(\"Merging into one AnnData object\")\n",
    "comb = ad.concat(\n",
    "    {\"rep1\": ad_rep1, \"rep2\": ad_rep2},\n",
    "    axis=0,\n",
    "    join=\"outer\",\n",
    "    label=\"batch\",\n",
    "    fill_value=0,\n",
    "    index_unique=\"-\"\n",
    ")\n",
    "catvar = pd.concat([ad_rep1.var, ad_rep2.var]).drop_duplicates()\n",
    "comb.var = catvar.loc[comb.var_names]\n",
    "\n",
    "print(\"Splitting up into GEX and ATAC\")\n",
    "adata_RNA = comb[:, comb.var.feature_types == \"Gene Expression\"].copy()\n",
    "adata_ATAC = comb[:, comb.var.feature_types == \"Peaks\"].copy()\n",
    "\n",
    "adata_RNA.var.feature_types = 'GEX'\n",
    "adata_ATAC.var.feature_types = 'ATAC'\n",
    "\n",
    "uns = { \"dataset_id\" : par[\"id\"], \"organism\" : par[\"organism\"] }\n",
    "adata_RNA.uns = uns\n",
    "adata_ATAC.uns = uns\n",
    "\n",
    "print(\"Writing output\")\n",
    "adata_RNA.write_h5ad(par['output_rna'], compression = \"gzip\")\n",
    "adata_ATAC.write_h5ad(par['output_mod2'], compression = \"gzip\")"
   ]
  },
  {
   "cell_type": "markdown",
   "metadata": {},
   "source": [
    "# Quality Control metrics"
   ]
  },
  {
   "cell_type": "code",
   "execution_count": 5,
   "metadata": {},
   "outputs": [
    {
     "data": {
      "text/plain": [
       "88.26816"
      ]
     },
     "execution_count": 5,
     "metadata": {},
     "output_type": "execute_result"
    }
   ],
   "source": [
    "# percent_mito\n",
    "mito_genes = adata_RNA.var_names.str.startswith('MT-')\n",
    "adata_RNA.obs['pct_counts_mt'] = (np.sum(adata_RNA[:, mito_genes].X, axis=1).A1 / np.sum(adata_RNA.X, axis=1).A1)*100\n",
    "adata_RNA.obs['pct_counts_mt'].max()"
   ]
  },
  {
   "cell_type": "code",
   "execution_count": 6,
   "metadata": {},
   "outputs": [
    {
     "data": {
      "text/plain": [
       "1.0"
      ]
     },
     "execution_count": 6,
     "metadata": {},
     "output_type": "execute_result"
    }
   ],
   "source": [
    "# UMI counts per cell\n",
    "# rows: n of cells = 7361; columns: n of genes = 36601\n",
    "# asarray convert matrix (7361, 1) to array (7361,)\n",
    "adata_RNA.obs['n_counts'] = np.asarray(np.sum(adata_RNA.X, axis = 1)).reshape(-1)\n",
    "adata_RNA.obs['n_counts'].min()"
   ]
  },
  {
   "cell_type": "code",
   "execution_count": 7,
   "metadata": {},
   "outputs": [
    {
     "data": {
      "text/plain": [
       "9421"
      ]
     },
     "execution_count": 7,
     "metadata": {},
     "output_type": "execute_result"
    }
   ],
   "source": [
    "# n of genes per cell\n",
    "adata_RNA.obs['n_genes'] = np.asarray((adata_RNA.X > 0).sum(axis=1)).reshape(-1)\n",
    "adata_RNA.obs['n_genes'].max()"
   ]
  },
  {
   "cell_type": "code",
   "execution_count": 8,
   "metadata": {},
   "outputs": [
    {
     "name": "stdout",
     "output_type": "stream",
     "text": [
      "Total number of cells: 7361\n",
      "Number of cells after min count filter: 6773\n",
      "Number of cells after max count filter: 6653\n",
      "Number of cells after MT filter: 6653\n",
      "Number of cells after gene filter: 6613\n"
     ]
    }
   ],
   "source": [
    "# Filter cells according to identified QC thresholds:\n",
    "\n",
    "print('Total number of cells: {:d}'.format(adata_RNA.n_obs))\n",
    "\n",
    "sc.pp.filter_cells(adata_RNA, min_counts = 1500)\n",
    "\n",
    "print('Number of cells after min count filter: {:d}'.format(adata_RNA.n_obs))\n",
    "\n",
    "sc.pp.filter_cells(adata_RNA, max_counts = 40000)\n",
    "print('Number of cells after max count filter: {:d}'.format(adata_RNA.n_obs))\n",
    "\n",
    "adata_RNA_filtered = adata_RNA[adata_RNA.obs['pct_counts_mt'] < 20]\n",
    "print('Number of cells after MT filter: {:d}'.format(adata_RNA.n_obs))\n",
    "\n",
    "sc.pp.filter_cells(adata_RNA, min_genes = 700)\n",
    "print('Number of cells after gene filter: {:d}'.format(adata_RNA.n_obs))"
   ]
  },
  {
   "cell_type": "code",
   "execution_count": 9,
   "metadata": {},
   "outputs": [
    {
     "name": "stdout",
     "output_type": "stream",
     "text": [
      "Total number of genes: 36601\n",
      "Number of genes after cell filter: 15970\n"
     ]
    }
   ],
   "source": [
    "# Filter genes\n",
    "\n",
    "print('Total number of genes: {:d}'.format(adata_RNA.n_vars))\n",
    "sc.pp.filter_genes(adata_RNA, min_cells=20)\n",
    "print('Number of genes after cell filter: {:d}'.format(adata_RNA.n_vars))\n",
    "adata_RNA.write('./adata_RNA_filtered.h5ad')"
   ]
  },
  {
   "cell_type": "markdown",
   "metadata": {},
   "source": [
    "# Normalization with PCA (size factors)"
   ]
  },
  {
   "cell_type": "code",
   "execution_count": 10,
   "metadata": {},
   "outputs": [],
   "source": [
    "adata_RNA_pca = adata_RNA.copy()"
   ]
  },
  {
   "cell_type": "code",
   "execution_count": 11,
   "metadata": {},
   "outputs": [],
   "source": [
    "# Perform a clustering for scran normalization in clusters\n",
    "\n",
    "adata_pp = adata_RNA_pca.copy()\n",
    "\n",
    "sc.pp.normalize_per_cell(adata_pp, counts_per_cell_after=1e6)\n",
    "sc.pp.log1p(adata_pp)\n",
    "sc.pp.pca(adata_pp, n_comps=50)\n",
    "sc.pp.neighbors(adata_pp)\n",
    "sc.tl.louvain(adata_pp, key_added='groups', resolution=0.5)"
   ]
  },
  {
   "cell_type": "code",
   "execution_count": 12,
   "metadata": {},
   "outputs": [],
   "source": [
    "# Preprocess variables for scran normalization\n",
    "\n",
    "input_groups_pca = adata_pp.obs['groups']\n",
    "del adata_pp\n",
    "data_mat_pca = adata_RNA_pca.X.T\n",
    "io.mmwrite(\"data_mat_pca.mtx\", data_mat_pca, comment='', field=None, precision=None, symmetry=None)"
   ]
  },
  {
   "cell_type": "code",
   "execution_count": 13,
   "metadata": {},
   "outputs": [],
   "source": [
    "%%R -i input_groups_pca -o size_factors_pca\n",
    "\n",
    "data_mat_pca <- readMM(\"./data_mat_pca.mtx\")\n",
    "size_factors_pca = calculateSumFactors(data_mat_pca, clusters=input_groups_pca, min.mean=0.1)"
   ]
  },
  {
   "cell_type": "code",
   "execution_count": 14,
   "metadata": {},
   "outputs": [],
   "source": [
    "# Keep the count data in a counts layer\n",
    "adata_RNA_pca.layers[\"counts\"] = adata_RNA_pca.X.copy()"
   ]
  },
  {
   "cell_type": "code",
   "execution_count": 15,
   "metadata": {},
   "outputs": [],
   "source": [
    "# Normalize & Log-transform \n",
    "adata_RNA_pca.obs['size_factors'] = size_factors_pca\n",
    "adata_RNA_pca.X /= adata_RNA_pca.obs['size_factors'].values[:,None]\n",
    "adata_RNA_pca.layers[\"log_norm\"] = sc.pp.log1p(adata_RNA_pca.X)"
   ]
  },
  {
   "cell_type": "markdown",
   "metadata": {},
   "source": [
    "# Normalization without PCA (size factors)"
   ]
  },
  {
   "cell_type": "code",
   "execution_count": 16,
   "metadata": {},
   "outputs": [
    {
     "name": "stdout",
     "output_type": "stream",
     "text": [
      "WARNING: You’re trying to run this on 15970 dimensions of `.X`, if you really want this, set `use_rep='X'`.\n",
      "         Falling back to preprocessing with `sc.pp.pca` and default params.\n"
     ]
    }
   ],
   "source": [
    "# Perform a clustering for scran normalization in clusters\n",
    "\n",
    "adata_pp = adata_RNA.copy()\n",
    "\n",
    "sc.pp.normalize_per_cell(adata_pp, counts_per_cell_after=1e6)\n",
    "sc.pp.log1p(adata_pp)\n",
    "sc.pp.neighbors(adata_pp)\n",
    "sc.tl.louvain(adata_pp, key_added='groups', resolution=0.5)"
   ]
  },
  {
   "cell_type": "code",
   "execution_count": 17,
   "metadata": {},
   "outputs": [],
   "source": [
    "# Preprocess variables for scran normalization\n",
    "\n",
    "input_groups = adata_pp.obs['groups']\n",
    "del adata_pp\n",
    "data_mat = adata_RNA.X.T\n",
    "io.mmwrite(\"data_mat.mtx\", data_mat, comment='', field=None, precision=None, symmetry=None)"
   ]
  },
  {
   "cell_type": "code",
   "execution_count": 18,
   "metadata": {},
   "outputs": [],
   "source": [
    "%%R -i input_groups -o size_factors\n",
    "\n",
    "data_mat <- readMM(\"./data_mat.mtx\")\n",
    "size_factors = calculateSumFactors(data_mat, clusters=input_groups, min.mean=0.1)"
   ]
  },
  {
   "cell_type": "code",
   "execution_count": 19,
   "metadata": {},
   "outputs": [],
   "source": [
    "# Keep the count data in a counts layer\n",
    "adata_RNA.layers[\"counts\"] = adata_RNA.X.copy()"
   ]
  },
  {
   "cell_type": "code",
   "execution_count": 20,
   "metadata": {},
   "outputs": [],
   "source": [
    "# Normalize & Log-transform \n",
    "adata_RNA.obs['size_factors'] = size_factors\n",
    "adata_RNA.X /= adata_RNA.obs['size_factors'].values[:,None]\n",
    "adata_RNA.layers[\"log_norm\"] = sc.pp.log1p(adata_RNA.X)"
   ]
  },
  {
   "cell_type": "markdown",
   "metadata": {},
   "source": [
    "# Integration"
   ]
  },
  {
   "cell_type": "code",
   "execution_count": 32,
   "metadata": {},
   "outputs": [
    {
     "data": {
      "text/plain": [
       "AAACAGCCAAGCGATG-1-rep1    1.246474\n",
       "AAACATGCACACAATT-1-rep1    1.304942\n",
       "AAACCGAAGTTAACCA-1-rep1    1.424063\n",
       "AAACCGCGTCAAGTAT-1-rep1    0.638786\n",
       "AAACCGGCACCATATG-1-rep1    0.111328\n",
       "                             ...   \n",
       "TTTGTGAAGGTCAAAG-1-rep2    2.913116\n",
       "TTTGTGGCAATAATGG-1-rep2    2.834000\n",
       "TTTGTGGCATTGTGCA-1-rep2    0.847679\n",
       "TTTGTGTTCGAGGTGG-1-rep2    1.751037\n",
       "TTTGTGTTCGCATCCT-1-rep2    1.431803\n",
       "Name: size_factors, Length: 6613, dtype: float64"
      ]
     },
     "execution_count": 32,
     "metadata": {},
     "output_type": "execute_result"
    }
   ],
   "source": [
    "# with PCA\n",
    "adata_RNA_pca.obs['size_factors']"
   ]
  },
  {
   "cell_type": "code",
   "execution_count": 33,
   "metadata": {},
   "outputs": [
    {
     "data": {
      "text/plain": [
       "AAACAGCCAAGCGATG-1-rep1    1.246474\n",
       "AAACATGCACACAATT-1-rep1    1.304942\n",
       "AAACCGAAGTTAACCA-1-rep1    1.424063\n",
       "AAACCGCGTCAAGTAT-1-rep1    0.638786\n",
       "AAACCGGCACCATATG-1-rep1    0.111328\n",
       "                             ...   \n",
       "TTTGTGAAGGTCAAAG-1-rep2    2.913116\n",
       "TTTGTGGCAATAATGG-1-rep2    2.834000\n",
       "TTTGTGGCATTGTGCA-1-rep2    0.847679\n",
       "TTTGTGTTCGAGGTGG-1-rep2    1.751037\n",
       "TTTGTGTTCGCATCCT-1-rep2    1.431803\n",
       "Name: size_factors, Length: 6613, dtype: float64"
      ]
     },
     "execution_count": 33,
     "metadata": {},
     "output_type": "execute_result"
    }
   ],
   "source": [
    "# without PCA\n",
    "adata_RNA.obs['size_factors']"
   ]
  },
  {
   "cell_type": "code",
   "execution_count": 30,
   "metadata": {},
   "outputs": [
    {
     "data": {
      "text/plain": [
       "(0.9999999999999999, 0.0)"
      ]
     },
     "execution_count": 30,
     "metadata": {},
     "output_type": "execute_result"
    }
   ],
   "source": [
    "from scipy.stats import pearsonr\n",
    "\n",
    "pearsonr(adata_RNA_pca.obs['size_factors'], adata_RNA.obs['size_factors'])"
   ]
  }
 ],
 "metadata": {
  "kernelspec": {
   "display_name": "Python 3 (ipykernel)",
   "language": "python",
   "name": "python3"
  },
  "language_info": {
   "codemirror_mode": {
    "name": "ipython",
    "version": 3
   },
   "file_extension": ".py",
   "mimetype": "text/x-python",
   "name": "python",
   "nbconvert_exporter": "python",
   "pygments_lexer": "ipython3",
   "version": "3.8.11"
  }
 },
 "nbformat": 4,
 "nbformat_minor": 4
}

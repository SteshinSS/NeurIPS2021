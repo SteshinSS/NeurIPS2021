{
 "cells": [
  {
   "cell_type": "code",
   "execution_count": 46,
   "metadata": {},
   "outputs": [],
   "source": [
    "import anndata as ad\n",
    "import pandas as pd\n",
    "import matplotlib.pyplot as plt\n",
    "import seaborn as sns\n",
    "import numpy as np\n",
    "import torch\n",
    "\n",
    "from lab_scripts.utils import utils\n",
    "utils.change_directory_to_repo()\n",
    "\n",
    "from lab_scripts.data import dataloader"
   ]
  },
  {
   "cell_type": "code",
   "execution_count": 2,
   "metadata": {},
   "outputs": [],
   "source": [
    "data = dataloader.load_mm_data('mm/official/gex_to_adt')"
   ]
  },
  {
   "cell_type": "code",
   "execution_count": 8,
   "metadata": {},
   "outputs": [
    {
     "data": {
      "text/plain": [
       "s3d7    10362\n",
       "s1d2     4451\n",
       "Name: batch, dtype: int64"
      ]
     },
     "execution_count": 8,
     "metadata": {},
     "output_type": "execute_result"
    }
   ],
   "source": [
    "data['test_mod1'].obs['batch'].value_counts()"
   ]
  },
  {
   "cell_type": "code",
   "execution_count": 72,
   "metadata": {},
   "outputs": [],
   "source": [
    "import pytorch_lightning as pl\n",
    "from torch import nn\n",
    "import torch\n",
    "\n",
    "class TempModule(nn.Module):\n",
    "    def __init__(self, l, k):\n",
    "        super().__init__()\n",
    "        self.register_buffer('l', torch.tensor(l))\n",
    "        self.k = k\n",
    "        self.t = nn.Parameter(torch.zeros([]))\n",
    "    \n",
    "    def forward(self):\n",
    "        loss = torch.softmax(self.l * torch.exp(self.t), dim=0)\n",
    "        return -loss[self.k]\n",
    "\n",
    "temp = TempModule([0.01, 0.02, 0.01, 0.03, 0.02, 0.01, 0.01, 0.01, 0.01, 0.01], 1)\n",
    "    "
   ]
  },
  {
   "cell_type": "code",
   "execution_count": 73,
   "metadata": {},
   "outputs": [],
   "source": [
    "optimizer = torch.optim.SGD(temp.parameters(), lr=1.0)"
   ]
  },
  {
   "cell_type": "code",
   "execution_count": 74,
   "metadata": {},
   "outputs": [
    {
     "name": "stdout",
     "output_type": "stream",
     "text": [
      "-0.10059957951307297\n",
      "-0.10059994459152222\n",
      "-0.10060030966997147\n",
      "-0.10060065239667892\n",
      "-0.10060102492570877\n",
      "-0.10060138255357742\n",
      "-0.10060174018144608\n",
      "-0.10060211271047592\n",
      "-0.10060246288776398\n",
      "-0.10060283541679382\n",
      "-0.10060319304466248\n",
      "-0.10060356557369232\n",
      "-0.10060393065214157\n",
      "-0.10060428828001022\n",
      "-0.10060464590787888\n",
      "-0.10060502588748932\n",
      "-0.10060537606477737\n",
      "-0.10060574859380722\n",
      "-0.10060610622167587\n",
      "-0.10060648620128632\n",
      "-0.10060684382915497\n",
      "-0.10060721635818481\n",
      "-0.10060758888721466\n",
      "-0.10060795396566391\n",
      "-0.10060831904411316\n",
      "-0.1006086990237236\n",
      "-0.10060905665159225\n",
      "-0.1006094366312027\n",
      "-0.10060980916023254\n",
      "-0.10061018168926239\n",
      "-0.10061054676771164\n",
      "-0.10061091929674149\n",
      "-0.10061129182577133\n",
      "-0.10061167180538177\n",
      "-0.10061202943325043\n",
      "-0.10061240941286087\n",
      "-0.10061278194189072\n",
      "-0.10061316937208176\n",
      "-0.1006135419011116\n",
      "-0.10061392933130264\n",
      "-0.10061430186033249\n",
      "-0.10061467438936234\n",
      "-0.10061505436897278\n",
      "-0.10061542689800262\n",
      "-0.10061579197645187\n",
      "-0.10061617940664291\n",
      "-0.10061655193567276\n",
      "-0.1006169319152832\n",
      "-0.10061731934547424\n",
      "-0.10061769932508469\n"
     ]
    }
   ],
   "source": [
    "from torch.nn import functional as F\n",
    "\n",
    "for i in range(50):\n",
    "    pred = temp()\n",
    "    optimizer.zero_grad()\n",
    "    pred.backward()\n",
    "    optimizer.step()\n",
    "    print(pred.item())"
   ]
  },
  {
   "cell_type": "code",
   "execution_count": 75,
   "metadata": {},
   "outputs": [
    {
     "data": {
      "text/plain": [
       "Parameter containing:\n",
       "tensor(0.0304, requires_grad=True)"
      ]
     },
     "execution_count": 75,
     "metadata": {},
     "output_type": "execute_result"
    }
   ],
   "source": [
    "temp.t"
   ]
  },
  {
   "cell_type": "code",
   "execution_count": null,
   "metadata": {},
   "outputs": [],
   "source": []
  }
 ],
 "metadata": {
  "interpreter": {
   "hash": "56a5fcc7b7e2612f6fc27864a94affd768eb55fcd75f3241521b5f5947107b33"
  },
  "kernelspec": {
   "display_name": "Python 3.8.12 64-bit ('nips': conda)",
   "name": "python3"
  },
  "language_info": {
   "codemirror_mode": {
    "name": "ipython",
    "version": 3
   },
   "file_extension": ".py",
   "mimetype": "text/x-python",
   "name": "python",
   "nbconvert_exporter": "python",
   "pygments_lexer": "ipython3",
   "version": "3.8.12"
  },
  "orig_nbformat": 4
 },
 "nbformat": 4,
 "nbformat_minor": 2
}

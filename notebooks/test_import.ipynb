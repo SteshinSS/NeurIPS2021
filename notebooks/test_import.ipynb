{
 "cells": [
  {
   "cell_type": "code",
   "execution_count": 2,
   "source": [
    "import numpy as np\n",
    "import pandas as pd\n",
    "import logging\n",
    "from sklearn.decomposition import TruncatedSVD\n",
    "from sklearn.linear_model import LinearRegression\n",
    "from sklearn.metrics import mean_squared_error\n",
    "\n",
    "import scanpy as sc\n",
    "import anndata as ad\n",
    "import matplotlib.pyplot as plt\n",
    "\n",
    "from lab_scripts.models.baselines import baseline_linear\n",
    "from lab_scripts.models.baselines import baseline_mean"
   ],
   "outputs": [],
   "metadata": {}
  },
  {
   "cell_type": "code",
   "execution_count": 3,
   "source": [
    "adata_gex = ad.read_h5ad(\"data/official/explore/multiome/multiome_gex_processed_training.h5ad\")\n",
    "adata_atac = ad.read_h5ad(\"data/official/explore/multiome/multiome_atac_processed_training.h5ad\")"
   ],
   "outputs": [],
   "metadata": {}
  },
  {
   "cell_type": "code",
   "execution_count": 4,
   "source": [
    "train_cells = adata_gex.obs_names[adata_gex.obs[\"batch\"] != \"s2d4\"]\n",
    "test_cells  = adata_gex.obs_names[adata_gex.obs[\"batch\"] == \"s2d4\"]"
   ],
   "outputs": [],
   "metadata": {}
  },
  {
   "cell_type": "code",
   "execution_count": 5,
   "source": [
    "# This will get passed to the method\n",
    "input_train_mod1 = adata_atac[train_cells]\n",
    "input_train_mod2 = adata_gex[train_cells]\n",
    "input_test_mod1 =  adata_atac[test_cells]\n",
    "\n",
    "# This will get passed to the metric\n",
    "true_test_mod2 =  adata_gex[test_cells]"
   ],
   "outputs": [],
   "metadata": {}
  },
  {
   "cell_type": "code",
   "execution_count": 6,
   "source": [
    "pred_test_mod2 = baseline_linear.fit_predict(input_train_mod1, input_train_mod2, input_test_mod1)"
   ],
   "outputs": [],
   "metadata": {}
  },
  {
   "cell_type": "code",
   "execution_count": 7,
   "source": [
    "pred_test_mod2.X.toarray()"
   ],
   "outputs": [
    {
     "output_type": "execute_result",
     "data": {
      "text/plain": [
       "array([[0.01849598, 0.05648608, 0.12098093, ..., 2.9789195 , 0.16666089,\n",
       "        0.01165176],\n",
       "       [0.0088969 , 0.0592952 , 0.09541178, ..., 3.0214188 , 0.14971086,\n",
       "        0.00796152],\n",
       "       [0.01026978, 0.05236913, 0.09989016, ..., 3.1053221 , 0.13488059,\n",
       "        0.00804165],\n",
       "       ...,\n",
       "       [0.01445955, 0.0459733 , 0.2051502 , ..., 3.4173088 , 0.1045588 ,\n",
       "        0.00479589],\n",
       "       [0.02190602, 0.05895532, 0.13886905, ..., 2.695336  , 0.14503315,\n",
       "        0.00887601],\n",
       "       [0.02549585, 0.0608732 , 0.13784692, ..., 2.7734642 , 0.1414175 ,\n",
       "        0.00894089]], dtype=float32)"
      ]
     },
     "metadata": {},
     "execution_count": 7
    }
   ],
   "metadata": {}
  },
  {
   "cell_type": "code",
   "execution_count": 8,
   "source": [
    "def calculate_rmse(true_test_mod2, pred_test_mod2):\n",
    "    try:\n",
    "        X = pred_test_mod2.X.toarray()\n",
    "    except:\n",
    "        X = pred_test_mod2.X\n",
    "    if pred_test_mod2.var[\"feature_types\"][0] == \"GEX\":\n",
    "        return  mean_squared_error(true_test_mod2.layers[\"log_norm\"].toarray(), X, squared=False)\n",
    "    else:\n",
    "        raise NotImplementedError(\"Only set up to calculate RMSE for GEX data\")"
   ],
   "outputs": [],
   "metadata": {}
  },
  {
   "cell_type": "code",
   "execution_count": 9,
   "source": [
    "for method in [baseline_linear.fit_predict, baseline_mean.fit_predict]:\n",
    "    # Run prediction\n",
    "    pred_test_mod2 = method(input_train_mod1, input_train_mod2, input_test_mod1)\n",
    "    # Calculate RMSE\n",
    "    rmse = calculate_rmse(true_test_mod2, pred_test_mod2)\n",
    "    # Print results\n",
    "    print(f' had a RMSE of {rmse:.4f}')"
   ],
   "outputs": [
    {
     "output_type": "stream",
     "name": "stdout",
     "text": [
      " had a RMSE of 0.3955\n",
      " had a RMSE of 0.2535\n"
     ]
    }
   ],
   "metadata": {}
  },
  {
   "cell_type": "code",
   "execution_count": null,
   "source": [],
   "outputs": [],
   "metadata": {}
  }
 ],
 "metadata": {
  "orig_nbformat": 4,
  "language_info": {
   "name": "python",
   "version": "3.8.11",
   "mimetype": "text/x-python",
   "codemirror_mode": {
    "name": "ipython",
    "version": 3
   },
   "pygments_lexer": "ipython3",
   "nbconvert_exporter": "python",
   "file_extension": ".py"
  },
  "kernelspec": {
   "name": "python3",
   "display_name": "Python 3.8.11 64-bit ('nips': conda)"
  },
  "interpreter": {
   "hash": "56a7e32d7961928a9f3e18e44fe070068f0318925842ce4245f771b32b697ac8"
  }
 },
 "nbformat": 4,
 "nbformat_minor": 2
}
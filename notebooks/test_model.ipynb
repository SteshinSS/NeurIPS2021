{
 "cells": [
  {
   "cell_type": "code",
   "execution_count": 1,
   "source": [
    "import numpy as np\n",
    "import pandas as pd\n",
    "import logging\n",
    "from sklearn.decomposition import TruncatedSVD\n",
    "from sklearn.linear_model import LinearRegression\n",
    "from sklearn.metrics import mean_squared_error\n",
    "\n",
    "import scanpy as sc\n",
    "import anndata as ad\n",
    "import matplotlib.pyplot as plt"
   ],
   "outputs": [],
   "metadata": {}
  },
  {
   "cell_type": "code",
   "execution_count": 2,
   "source": [
    "adata_gex = ad.read_h5ad(\"data/official/explore/multiome/multiome_gex_processed_training.h5ad\")\n",
    "adata_atac = ad.read_h5ad(\"data/official/explore/multiome/multiome_atac_processed_training.h5ad\")"
   ],
   "outputs": [],
   "metadata": {}
  },
  {
   "cell_type": "code",
   "execution_count": 3,
   "source": [
    "train_cells = adata_gex.obs_names[adata_gex.obs[\"batch\"] != \"s2d4\"]\n",
    "test_cells  = adata_gex.obs_names[adata_gex.obs[\"batch\"] == \"s2d4\"]"
   ],
   "outputs": [],
   "metadata": {}
  },
  {
   "cell_type": "code",
   "execution_count": 4,
   "source": [
    "# This will get passed to the method\n",
    "input_train_mod1 = adata_atac[train_cells]\n",
    "input_train_mod2 = adata_gex[train_cells]\n",
    "input_test_mod1 =  adata_atac[test_cells]\n",
    "\n",
    "# This will get passed to the metric\n",
    "true_test_mod2 =  adata_gex[test_cells]"
   ],
   "outputs": [],
   "metadata": {}
  },
  {
   "cell_type": "code",
   "execution_count": 5,
   "source": [
    "def calculate_rmse(true_test_mod2, pred_test_mod2):\n",
    "    if pred_test_mod2.var[\"feature_types\"][0] == \"GEX\":\n",
    "        return  mean_squared_error(true_test_mod2.layers[\"log_norm\"].toarray(), pred_test_mod2.X, squared=False)\n",
    "    else:\n",
    "        raise NotImplementedError(\"Only set up to calculate RMSE for GEX data\")"
   ],
   "outputs": [],
   "metadata": {}
  },
  {
   "cell_type": "code",
   "execution_count": 6,
   "source": [
    "def baseline_linear(input_train_mod1, input_train_mod2, input_test_mod1):\n",
    "    '''Baseline method training a linear regressor on the input data'''\n",
    "    input_mod1 = ad.concat(\n",
    "        {\"train\": input_train_mod1, \"test\": input_test_mod1},\n",
    "        axis=0,\n",
    "        join=\"outer\",\n",
    "        label=\"group\",\n",
    "        fill_value=0,\n",
    "        index_unique=\"-\", \n",
    "    )\n",
    "    \n",
    "    # Binarize ATAC \n",
    "    if input_train_mod1.var[\"feature_types\"][0] == \"ATAC\":\n",
    "        input_mod1.X[input_mod1.X > 1] = 1\n",
    "    elif input_train_mod2.var[\"feature_types\"][0] == \"ATAC\":\n",
    "        input_train_mod2.X[input_mod1.X > 1] = 1\n",
    "    \n",
    "    # Do PCA on the input data\n",
    "    logging.info('Performing dimensionality reduction on modality 1 values...')\n",
    "    embedder_mod1 = TruncatedSVD(n_components=50)\n",
    "    mod1_pca = embedder_mod1.fit_transform(input_mod1.X)\n",
    "    \n",
    "    logging.info('Performing dimensionality reduction on modality 2 values...')\n",
    "    embedder_mod2 = TruncatedSVD(n_components=50)\n",
    "    mod2_pca = embedder_mod2.fit_transform(input_train_mod2.layers[\"log_norm\"])\n",
    "    \n",
    "    # split dimred mod 1 back up for training\n",
    "    X_train = mod1_pca[input_mod1.obs['group'] == 'train']\n",
    "    X_test = mod1_pca[input_mod1.obs['group'] == 'test']\n",
    "    y_train = mod2_pca\n",
    "    \n",
    "    assert len(X_train) + len(X_test) == len(mod1_pca)\n",
    "    \n",
    "    logging.info('Running Linear regression...')\n",
    "    \n",
    "    reg = LinearRegression()\n",
    "    \n",
    "    # Train the model on the PCA reduced modality 1 and 2 data\n",
    "    reg.fit(X_train, y_train)\n",
    "    y_pred = reg.predict(X_test)\n",
    "    \n",
    "    # Project the predictions back to the modality 2 feature space\n",
    "    y_pred = y_pred @ embedder_mod2.components_\n",
    "    \n",
    "    pred_test_mod2 = ad.AnnData(\n",
    "        X = y_pred,\n",
    "        obs = input_test_mod1.obs,\n",
    "        var = input_train_mod2.var,\n",
    "    \n",
    "    )\n",
    "    \n",
    "    # Add the name of the method to the result\n",
    "    pred_test_mod2.uns[\"method\"] = \"linear\"\n",
    "    \n",
    "    return pred_test_mod2"
   ],
   "outputs": [],
   "metadata": {}
  },
  {
   "cell_type": "code",
   "execution_count": 7,
   "source": [
    "def baseline_mean(input_train_mod1, input_train_mod2, input_test_mod1):\n",
    "    '''Dummy method that predicts mean(input_train_mod2) for all cells'''\n",
    "    logging.info('Calculate mean of the training data modality 2...')\n",
    "    y_pred = np.repeat(input_train_mod2.layers[\"log_norm\"].mean(axis=0).reshape(-1,1).T, input_test_mod1.shape[0], axis=0)\n",
    "    \n",
    "    # Prepare the ouput data object\n",
    "    pred_test_mod2 = ad.AnnData(\n",
    "        X=y_pred,\n",
    "        obs=input_test_mod1.obs,\n",
    "        var=input_train_mod2.var,\n",
    "    )\n",
    "    \n",
    "    pred_test_mod2.uns[\"method\"] = \"mean\"\n",
    "\n",
    "    return pred_test_mod2"
   ],
   "outputs": [],
   "metadata": {}
  },
  {
   "cell_type": "code",
   "execution_count": 8,
   "source": [
    "for method in [baseline_linear, baseline_mean]:\n",
    "    # Run prediction\n",
    "    pred_test_mod2 = method(input_train_mod1, input_train_mod2, input_test_mod1)\n",
    "    # Calculate RMSE\n",
    "    rmse = calculate_rmse(true_test_mod2, pred_test_mod2)\n",
    "    # Print results\n",
    "    print(f'{pred_test_mod2.uns[\"method\"]} had a RMSE of {rmse:.4f}')"
   ],
   "outputs": [
    {
     "output_type": "stream",
     "name": "stdout",
     "text": [
      "linear had a RMSE of 0.2469\n",
      "mean had a RMSE of 0.2535\n"
     ]
    }
   ],
   "metadata": {}
  },
  {
   "cell_type": "code",
   "execution_count": null,
   "source": [],
   "outputs": [],
   "metadata": {}
  }
 ],
 "metadata": {
  "orig_nbformat": 4,
  "language_info": {
   "name": "python",
   "version": "3.8.11",
   "mimetype": "text/x-python",
   "codemirror_mode": {
    "name": "ipython",
    "version": 3
   },
   "pygments_lexer": "ipython3",
   "nbconvert_exporter": "python",
   "file_extension": ".py"
  },
  "kernelspec": {
   "name": "python3",
   "display_name": "Python 3.8.11 64-bit ('nips': conda)"
  },
  "interpreter": {
   "hash": "56a7e32d7961928a9f3e18e44fe070068f0318925842ce4245f771b32b697ac8"
  }
 },
 "nbformat": 4,
 "nbformat_minor": 2
}
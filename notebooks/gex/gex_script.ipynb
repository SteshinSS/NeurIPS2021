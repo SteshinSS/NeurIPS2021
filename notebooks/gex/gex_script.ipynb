{
 "cells": [
  {
   "cell_type": "code",
   "execution_count": 1,
   "metadata": {},
   "outputs": [],
   "source": [
    "import tarfile\n",
    "import urllib.request\n",
    "import tempfile\n",
    "import anndata as ad\n",
    "import scanpy as sc\n",
    "\n",
    "import pandas as pd\n",
    "import numpy as np\n",
    "import seaborn as sb\n",
    "from scipy import io, sparse\n",
    "import matplotlib.pyplot as plt\n",
    "from matplotlib import rcParams\n",
    "from matplotlib import colors\n",
    "import pickle\n",
    "import copy\n",
    "\n",
    "import rpy2.rinterface_lib.callbacks\n",
    "import logging\n",
    "from rpy2.robjects import pandas2ri\n",
    "import anndata2ri\n",
    "%load_ext rpy2.ipython"
   ]
  },
  {
   "cell_type": "code",
   "execution_count": 2,
   "metadata": {},
   "outputs": [],
   "source": [
    "%%R\n",
    "suppressMessages(library(\"dplyr\"))\n",
    "suppressMessages(library(\"Seurat\"))\n",
    "suppressMessages(library(\"anndata\"))\n",
    "suppressMessages(library(\"SingleCellExperiment\"))\n",
    "suppressMessages(library(\"scran\"))\n",
    "suppressMessages(library(\"Matrix\"))"
   ]
  },
  {
   "cell_type": "code",
   "execution_count": 3,
   "metadata": {},
   "outputs": [
    {
     "name": "stdout",
     "output_type": "stream",
     "text": [
      "Downloading file from https://github.com/YosefLab/totalVI_reproducibility/raw/master/data/malt_10k_protein_v3.h5ad\n",
      "Reading h5ad file\n",
      "Extracting RNA counts\n",
      "Extracting ADT counts\n"
     ]
    },
    {
     "name": "stderr",
     "output_type": "stream",
     "text": [
      "/home/alina/Downloads/ENTER/lib/python3.7/site-packages/anndata/_core/anndata.py:1220: FutureWarning: The `inplace` parameter in pandas.Categorical.reorder_categories is deprecated and will be removed in a future version. Removing unused categories will always return a new Categorical object.\n",
      "  c.reorder_categories(natsorted(c.categories), inplace=True)\n",
      "... storing 'feature_types' as categorical\n"
     ]
    },
    {
     "name": "stdout",
     "output_type": "stream",
     "text": [
      "Saving output\n"
     ]
    },
    {
     "name": "stderr",
     "output_type": "stream",
     "text": [
      "/home/alina/Downloads/ENTER/lib/python3.7/site-packages/anndata/_core/anndata.py:1220: FutureWarning: The `inplace` parameter in pandas.Categorical.reorder_categories is deprecated and will be removed in a future version. Removing unused categories will always return a new Categorical object.\n",
      "  c.reorder_categories(natsorted(c.categories), inplace=True)\n",
      "... storing 'feature_types' as categorical\n"
     ]
    }
   ],
   "source": [
    "## VIASH START\n",
    "par = {\n",
    "    \"id\": \"totalVI_x_malt_k\",\n",
    "    \"input\": \"https://github.com/YosefLab/totalVI_reproducibility/raw/master/data/malt_10k_protein_v3.h5ad\",\n",
    "    \"organism\": \"human\",\n",
    "    \"output_rna\": \"output_rna.h5ad\",\n",
    "    \"output_mod2\": \"output_mod2.h5ad\"\n",
    "}\n",
    "## VIASH END\n",
    "\n",
    "###############################################################################\n",
    "###                     DOWNLOAD AND READ DATA.                             ###\n",
    "###############################################################################\n",
    "print(\"Downloading file from\", par['input'])\n",
    "h5ad_temp = tempfile.NamedTemporaryFile()\n",
    "url = par['input']\n",
    "urllib.request.urlretrieve(url, h5ad_temp.name)\n",
    "\n",
    "print(\"Reading h5ad file\")\n",
    "adata = sc.read_h5ad(h5ad_temp.name)\n",
    "h5ad_temp.close()\n",
    "\n",
    "###############################################################################\n",
    "###                     CREATE H5AD FOR BOTH MODALITIES                     ###\n",
    "###############################################################################\n",
    "uns = { \"dataset_id\" : par[\"id\"], \"organism\" : par[\"organism\"] }\n",
    "\n",
    "print(\"Extracting RNA counts\")\n",
    "adata_RNA = ad.AnnData(\n",
    "    X=adata.X,\n",
    "    obs=adata.obs.loc[:,['n_genes', 'percent_mito', 'n_counts']],\n",
    "    var=adata.var,\n",
    "    uns=uns\n",
    ")\n",
    "\n",
    "adata_RNA.var['feature_types'] = \"GEX\"\n",
    "\n",
    "print(\"Extracting ADT counts\")\n",
    "adata_ADT = ad.AnnData(\n",
    "    X=adata.obsm['protein_expression'],\n",
    "    var=pd.DataFrame(index=list(adata.uns['protein_names'])),\n",
    "    uns=uns\n",
    ")\n",
    "\n",
    "adata_ADT.obs.index = adata.obs.index\n",
    "adata_ADT.var['feature_types'] = \"ADT\"\n",
    "\n",
    "###############################################################################\n",
    "###                             SAVE OUTPUT                                 ###\n",
    "###############################################################################\n",
    "\n",
    "# Convert to sparse matrices\n",
    "adata_RNA.X = sparse.csr_matrix(adata_RNA.X)\n",
    "adata_ADT.X = sparse.csr_matrix(adata_ADT.X)\n",
    "\n",
    "print(\"Saving output\")\n",
    "adata_RNA.write_h5ad(par['output_rna'], compression = \"gzip\")\n",
    "adata_ADT.write_h5ad(par['output_mod2'], compression = \"gzip\")"
   ]
  },
  {
   "cell_type": "markdown",
   "metadata": {},
   "source": [
    "# Quality Control metrics"
   ]
  },
  {
   "cell_type": "code",
   "execution_count": 4,
   "metadata": {},
   "outputs": [
    {
     "data": {
      "text/plain": [
       "14.99221134185791"
      ]
     },
     "execution_count": 4,
     "metadata": {},
     "output_type": "execute_result"
    }
   ],
   "source": [
    "# pct_counts_mt\n",
    "mito_genes = adata_RNA.var_names.str.startswith('MT-')\n",
    "adata_RNA.obs['pct_counts_mt'] = (np.sum(adata_RNA[:, mito_genes].X, axis=1).A1 / np.sum(adata_RNA.X, axis=1).A1)*100\n",
    "adata_RNA.obs['pct_counts_mt'].max()"
   ]
  },
  {
   "cell_type": "code",
   "execution_count": 5,
   "metadata": {},
   "outputs": [
    {
     "data": {
      "text/plain": [
       "590.0"
      ]
     },
     "execution_count": 5,
     "metadata": {},
     "output_type": "execute_result"
    }
   ],
   "source": [
    "# UMI counts per cell\n",
    "# rows: n of cells = 7361; columns: n of genes = 36601\n",
    "# asarray convert matrix (7361, 1) to array (7361,)\n",
    "adata_RNA.obs['n_counts'] = np.asarray(np.sum(adata_RNA.X, axis = 1)).reshape(-1)\n",
    "adata_RNA.obs['n_counts'].min()"
   ]
  },
  {
   "cell_type": "code",
   "execution_count": 6,
   "metadata": {},
   "outputs": [
    {
     "data": {
      "text/plain": [
       "337"
      ]
     },
     "execution_count": 6,
     "metadata": {},
     "output_type": "execute_result"
    }
   ],
   "source": [
    "# n of genes per cell\n",
    "adata_RNA.obs['n_genes'] = np.asarray((adata_RNA.X > 0).sum(axis=1)).reshape(-1)\n",
    "adata_RNA.obs['n_genes'].min()"
   ]
  },
  {
   "cell_type": "code",
   "execution_count": 8,
   "metadata": {},
   "outputs": [
    {
     "data": {
      "text/plain": [
       "(6838, 16659)"
      ]
     },
     "execution_count": 8,
     "metadata": {},
     "output_type": "execute_result"
    }
   ],
   "source": [
    "# Copy AnnData object\n",
    "\n",
    "adata_RNA_filtered = copy.copy(adata_RNA)\n",
    "adata_RNA_filtered.shape"
   ]
  },
  {
   "cell_type": "code",
   "execution_count": 9,
   "metadata": {},
   "outputs": [
    {
     "name": "stderr",
     "output_type": "stream",
     "text": [
      "Trying to set attribute `.obs` of view, copying.\n"
     ]
    },
    {
     "name": "stdout",
     "output_type": "stream",
     "text": [
      "Total number of cells: 6838\n",
      "Number of cells after min count filter: 6781\n",
      "Number of cells after max count filter: 6781\n",
      "Number of cells after MT filter: 6781\n",
      "Number of cells after gene filter: 6765\n"
     ]
    }
   ],
   "source": [
    "# Filter cells according to identified QC thresholds:\n",
    "\n",
    "print('Total number of cells: {:d}'.format(adata_RNA_filtered.n_obs))\n",
    "\n",
    "sc.pp.filter_cells(adata_RNA_filtered, min_counts = 1500)\n",
    "\n",
    "print('Number of cells after min count filter: {:d}'.format(adata_RNA_filtered.n_obs))\n",
    "\n",
    "sc.pp.filter_cells(adata_RNA_filtered, max_counts = 40000)\n",
    "print('Number of cells after max count filter: {:d}'.format(adata_RNA_filtered.n_obs))\n",
    "\n",
    "adata_RNA_filtered = adata_RNA_filtered[adata_RNA_filtered.obs['pct_counts_mt'] < 20]\n",
    "print('Number of cells after MT filter: {:d}'.format(adata_RNA_filtered.n_obs))\n",
    "\n",
    "sc.pp.filter_cells(adata_RNA_filtered, min_genes = 700)\n",
    "print('Number of cells after gene filter: {:d}'.format(adata_RNA_filtered.n_obs))"
   ]
  },
  {
   "cell_type": "code",
   "execution_count": 10,
   "metadata": {},
   "outputs": [
    {
     "name": "stdout",
     "output_type": "stream",
     "text": [
      "Total number of genes: 16659\n"
     ]
    }
   ],
   "source": [
    "# Filter genes\n",
    "\n",
    "print('Total number of genes: {:d}'.format(adata_RNA.n_vars))"
   ]
  },
  {
   "cell_type": "code",
   "execution_count": 11,
   "metadata": {},
   "outputs": [
    {
     "name": "stdout",
     "output_type": "stream",
     "text": [
      "Number of genes after cell filter: 12629\n"
     ]
    }
   ],
   "source": [
    "# Min 20 cells: filters out 0 count genes\n",
    "\n",
    "sc.pp.filter_genes(adata_RNA_filtered, min_cells=20)\n",
    "print('Number of genes after cell filter: {:d}'.format(adata_RNA_filtered.n_vars))"
   ]
  },
  {
   "cell_type": "code",
   "execution_count": 12,
   "metadata": {},
   "outputs": [],
   "source": [
    "adata_RNA.write('./adata_RNA_mt.h5ad')\n",
    "adata_RNA_filtered.write('./adata_RNA_filtered.h5ad')"
   ]
  },
  {
   "cell_type": "markdown",
   "metadata": {},
   "source": [
    "# Normalization (size factors)"
   ]
  },
  {
   "cell_type": "code",
   "execution_count": 13,
   "metadata": {},
   "outputs": [],
   "source": [
    "# Perform a clustering for scran normalization in clusters\n",
    "\n",
    "adata_pp = adata_RNA_filtered.copy()\n",
    "\n",
    "sc.pp.normalize_per_cell(adata_pp, counts_per_cell_after=1e6)\n",
    "sc.pp.log1p(adata_pp)\n",
    "sc.pp.pca(adata_pp, n_comps=15)\n",
    "sc.pp.neighbors(adata_pp)\n",
    "sc.tl.louvain(adata_pp, key_added='groups', resolution=0.5)"
   ]
  },
  {
   "cell_type": "code",
   "execution_count": 14,
   "metadata": {},
   "outputs": [],
   "source": [
    "# Preprocess variables for scran normalization\n",
    "\n",
    "input_groups = adata_pp.obs['groups']\n",
    "data_mat = adata_RNA_filtered.X.T\n",
    "io.mmwrite(\"data_mat.mtx\", data_mat, comment='', field=None, precision=None, symmetry=None)"
   ]
  },
  {
   "cell_type": "code",
   "execution_count": 15,
   "metadata": {},
   "outputs": [],
   "source": [
    "%%R -i input_groups -o size_factors\n",
    "\n",
    "data_mat <- readMM(\"./data_mat.mtx\")\n",
    "size_factors = calculateSumFactors(data_mat, clusters=input_groups, min.mean=0.1)"
   ]
  },
  {
   "cell_type": "code",
   "execution_count": 16,
   "metadata": {},
   "outputs": [],
   "source": [
    "adata_RNA_filtered.obs['size_factors'] = size_factors"
   ]
  },
  {
   "cell_type": "code",
   "execution_count": 17,
   "metadata": {},
   "outputs": [],
   "source": [
    "# Keep the count data in a counts layer\n",
    "adata_RNA_filtered.layers[\"counts\"] = adata_RNA_filtered.X.copy()"
   ]
  },
  {
   "cell_type": "code",
   "execution_count": 18,
   "metadata": {},
   "outputs": [],
   "source": [
    "# Normalize & Log-transform \n",
    "adata_RNA_filtered.X /= adata_RNA_filtered.obs['size_factors'].values[:,None]\n",
    "adata_RNA_filtered.layers[\"log_norm\"] = sc.pp.log1p(adata_RNA_filtered.X)"
   ]
  },
  {
   "cell_type": "code",
   "execution_count": 19,
   "metadata": {},
   "outputs": [
    {
     "data": {
      "text/plain": [
       "AnnData object with n_obs × n_vars = 6765 × 12629\n",
       "    obs: 'n_genes', 'percent_mito', 'n_counts', 'pct_counts_mt', 'size_factors'\n",
       "    var: 'n_cells', 'highly_variable', 'feature_types'\n",
       "    uns: 'dataset_id', 'organism'\n",
       "    layers: 'counts', 'log_norm'"
      ]
     },
     "execution_count": 19,
     "metadata": {},
     "output_type": "execute_result"
    }
   ],
   "source": [
    "adata_RNA_filtered"
   ]
  },
  {
   "cell_type": "code",
   "execution_count": 63,
   "metadata": {},
   "outputs": [],
   "source": [
    "adata_RNA_filtered.write(\"adata_RNA_filtered\")"
   ]
  }
 ],
 "metadata": {
  "kernelspec": {
   "display_name": "Python 3 (ipykernel)",
   "language": "python",
   "name": "python3"
  },
  "language_info": {
   "codemirror_mode": {
    "name": "ipython",
    "version": 3
   },
   "file_extension": ".py",
   "mimetype": "text/x-python",
   "name": "python",
   "nbconvert_exporter": "python",
   "pygments_lexer": "ipython3",
   "version": "3.7.6"
  }
 },
 "nbformat": 4,
 "nbformat_minor": 4
}

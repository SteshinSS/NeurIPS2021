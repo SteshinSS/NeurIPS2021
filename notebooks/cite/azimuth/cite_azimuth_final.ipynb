{
 "cells": [
  {
   "cell_type": "markdown",
   "id": "6d2cb524",
   "metadata": {},
   "source": [
    "# Downloading requirements"
   ]
  },
  {
   "cell_type": "code",
   "execution_count": 1,
   "id": "b62eda88",
   "metadata": {},
   "outputs": [],
   "source": [
    "import tarfile\n",
    "import urllib.request\n",
    "import tempfile\n",
    "import anndata as ad\n",
    "import scanpy as sc\n",
    "\n",
    "import pandas as pd\n",
    "import numpy as np\n",
    "import seaborn as sb\n",
    "from scipy import io, sparse\n",
    "import matplotlib.pyplot as plt\n",
    "from matplotlib import rcParams\n",
    "from matplotlib import colors\n",
    "\n",
    "import pickle\n",
    "import copy\n",
    "import gzip\n",
    "\n",
    "import rpy2.rinterface_lib.callbacks\n",
    "import logging\n",
    "from rpy2.robjects import pandas2ri\n",
    "%load_ext rpy2.ipython"
   ]
  },
  {
   "cell_type": "code",
   "execution_count": 2,
   "id": "4e527fbf",
   "metadata": {},
   "outputs": [],
   "source": [
    "%%R\n",
    "old_paths <- .libPaths()[-1]\n",
    "new_paths <- c(\"~/R/nips\", old_paths)\n",
    ".libPaths(new_paths)\n",
    "\n",
    "suppressMessages(library(\"dplyr\"))\n",
    "suppressMessages(library(\"Seurat\"))\n",
    "suppressMessages(library(\"anndata\"))\n",
    "suppressMessages(library(\"SingleCellExperiment\"))\n",
    "suppressMessages(library(\"scran\"))\n",
    "suppressMessages(library(\"Matrix\"))"
   ]
  },
  {
   "cell_type": "markdown",
   "id": "8f08d415",
   "metadata": {},
   "source": [
    "# Initial data load"
   ]
  },
  {
   "cell_type": "code",
   "execution_count": 3,
   "id": "653d7b94",
   "metadata": {},
   "outputs": [],
   "source": [
    "## VIASH START\n",
    "par = {\n",
    "    \"id\": \"azimuth_ref\",\n",
    "    \"input_count\": \"https://www.ncbi.nlm.nih.gov/geo/download/?acc=GSE164378&format=file\",\n",
    "    \"input_meta\": \"https://www.ncbi.nlm.nih.gov/geo/download/?acc=GSE164378&format=file&file=GSE164378%5Fsc%2Emeta%2Edata%5F3P%2Ecsv%2Egz\",\n",
    "    \"organism\": \"human\",\n",
    "    \"output_rna\": \"output_rna.h5ad\",\n",
    "    \"output_mod2\": \"output_mod2.h5ad\"\n",
    "}\n",
    "## VIASH END"
   ]
  },
  {
   "cell_type": "code",
   "execution_count": 4,
   "id": "7db7ddfb",
   "metadata": {},
   "outputs": [
    {
     "name": "stdout",
     "output_type": "stream",
     "text": [
      "Downloading file from https://www.ncbi.nlm.nih.gov/geo/download/?acc=GSE164378&format=file\n"
     ]
    },
    {
     "ename": "KeyboardInterrupt",
     "evalue": "",
     "output_type": "error",
     "traceback": [
      "\u001b[0;31m---------------------------------------------------------------------------\u001b[0m",
      "\u001b[0;31mKeyboardInterrupt\u001b[0m                         Traceback (most recent call last)",
      "\u001b[0;32m/tmp/ipykernel_298219/34182964.py\u001b[0m in \u001b[0;36m<module>\u001b[0;34m\u001b[0m\n\u001b[1;32m      5\u001b[0m \u001b[0mtar_temp\u001b[0m \u001b[0;34m=\u001b[0m \u001b[0mtempfile\u001b[0m\u001b[0;34m.\u001b[0m\u001b[0mNamedTemporaryFile\u001b[0m\u001b[0;34m(\u001b[0m\u001b[0;34m)\u001b[0m\u001b[0;34m\u001b[0m\u001b[0;34m\u001b[0m\u001b[0m\n\u001b[1;32m      6\u001b[0m \u001b[0murl\u001b[0m \u001b[0;34m=\u001b[0m \u001b[0mpar\u001b[0m\u001b[0;34m[\u001b[0m\u001b[0;34m'input_count'\u001b[0m\u001b[0;34m]\u001b[0m\u001b[0;34m\u001b[0m\u001b[0;34m\u001b[0m\u001b[0m\n\u001b[0;32m----> 7\u001b[0;31m \u001b[0murllib\u001b[0m\u001b[0;34m.\u001b[0m\u001b[0mrequest\u001b[0m\u001b[0;34m.\u001b[0m\u001b[0murlretrieve\u001b[0m\u001b[0;34m(\u001b[0m\u001b[0murl\u001b[0m\u001b[0;34m,\u001b[0m \u001b[0mtar_temp\u001b[0m\u001b[0;34m.\u001b[0m\u001b[0mname\u001b[0m\u001b[0;34m)\u001b[0m\u001b[0;34m\u001b[0m\u001b[0;34m\u001b[0m\u001b[0m\n\u001b[0m\u001b[1;32m      8\u001b[0m \u001b[0;34m\u001b[0m\u001b[0m\n\u001b[1;32m      9\u001b[0m \u001b[0mprint\u001b[0m\u001b[0;34m(\u001b[0m\u001b[0;34m\"Downloading meta data from\"\u001b[0m\u001b[0;34m,\u001b[0m \u001b[0mpar\u001b[0m\u001b[0;34m[\u001b[0m\u001b[0;34m'input_meta'\u001b[0m\u001b[0;34m]\u001b[0m\u001b[0;34m)\u001b[0m\u001b[0;34m\u001b[0m\u001b[0;34m\u001b[0m\u001b[0m\n",
      "\u001b[0;32m~/Downloads/ENTER/envs/nips/lib/python3.8/urllib/request.py\u001b[0m in \u001b[0;36murlretrieve\u001b[0;34m(url, filename, reporthook, data)\u001b[0m\n\u001b[1;32m    274\u001b[0m \u001b[0;34m\u001b[0m\u001b[0m\n\u001b[1;32m    275\u001b[0m             \u001b[0;32mwhile\u001b[0m \u001b[0;32mTrue\u001b[0m\u001b[0;34m:\u001b[0m\u001b[0;34m\u001b[0m\u001b[0;34m\u001b[0m\u001b[0m\n\u001b[0;32m--> 276\u001b[0;31m                 \u001b[0mblock\u001b[0m \u001b[0;34m=\u001b[0m \u001b[0mfp\u001b[0m\u001b[0;34m.\u001b[0m\u001b[0mread\u001b[0m\u001b[0;34m(\u001b[0m\u001b[0mbs\u001b[0m\u001b[0;34m)\u001b[0m\u001b[0;34m\u001b[0m\u001b[0;34m\u001b[0m\u001b[0m\n\u001b[0m\u001b[1;32m    277\u001b[0m                 \u001b[0;32mif\u001b[0m \u001b[0;32mnot\u001b[0m \u001b[0mblock\u001b[0m\u001b[0;34m:\u001b[0m\u001b[0;34m\u001b[0m\u001b[0;34m\u001b[0m\u001b[0m\n\u001b[1;32m    278\u001b[0m                     \u001b[0;32mbreak\u001b[0m\u001b[0;34m\u001b[0m\u001b[0;34m\u001b[0m\u001b[0m\n",
      "\u001b[0;32m~/Downloads/ENTER/envs/nips/lib/python3.8/http/client.py\u001b[0m in \u001b[0;36mread\u001b[0;34m(self, amt)\u001b[0m\n\u001b[1;32m    457\u001b[0m             \u001b[0;31m# Amount is given, implement using readinto\u001b[0m\u001b[0;34m\u001b[0m\u001b[0;34m\u001b[0m\u001b[0;34m\u001b[0m\u001b[0m\n\u001b[1;32m    458\u001b[0m             \u001b[0mb\u001b[0m \u001b[0;34m=\u001b[0m \u001b[0mbytearray\u001b[0m\u001b[0;34m(\u001b[0m\u001b[0mamt\u001b[0m\u001b[0;34m)\u001b[0m\u001b[0;34m\u001b[0m\u001b[0;34m\u001b[0m\u001b[0m\n\u001b[0;32m--> 459\u001b[0;31m             \u001b[0mn\u001b[0m \u001b[0;34m=\u001b[0m \u001b[0mself\u001b[0m\u001b[0;34m.\u001b[0m\u001b[0mreadinto\u001b[0m\u001b[0;34m(\u001b[0m\u001b[0mb\u001b[0m\u001b[0;34m)\u001b[0m\u001b[0;34m\u001b[0m\u001b[0;34m\u001b[0m\u001b[0m\n\u001b[0m\u001b[1;32m    460\u001b[0m             \u001b[0;32mreturn\u001b[0m \u001b[0mmemoryview\u001b[0m\u001b[0;34m(\u001b[0m\u001b[0mb\u001b[0m\u001b[0;34m)\u001b[0m\u001b[0;34m[\u001b[0m\u001b[0;34m:\u001b[0m\u001b[0mn\u001b[0m\u001b[0;34m]\u001b[0m\u001b[0;34m.\u001b[0m\u001b[0mtobytes\u001b[0m\u001b[0;34m(\u001b[0m\u001b[0;34m)\u001b[0m\u001b[0;34m\u001b[0m\u001b[0;34m\u001b[0m\u001b[0m\n\u001b[1;32m    461\u001b[0m         \u001b[0;32melse\u001b[0m\u001b[0;34m:\u001b[0m\u001b[0;34m\u001b[0m\u001b[0;34m\u001b[0m\u001b[0m\n",
      "\u001b[0;32m~/Downloads/ENTER/envs/nips/lib/python3.8/http/client.py\u001b[0m in \u001b[0;36mreadinto\u001b[0;34m(self, b)\u001b[0m\n\u001b[1;32m    501\u001b[0m         \u001b[0;31m# connection, and the user is reading more bytes than will be provided\u001b[0m\u001b[0;34m\u001b[0m\u001b[0;34m\u001b[0m\u001b[0;34m\u001b[0m\u001b[0m\n\u001b[1;32m    502\u001b[0m         \u001b[0;31m# (for example, reading in 1k chunks)\u001b[0m\u001b[0;34m\u001b[0m\u001b[0;34m\u001b[0m\u001b[0;34m\u001b[0m\u001b[0m\n\u001b[0;32m--> 503\u001b[0;31m         \u001b[0mn\u001b[0m \u001b[0;34m=\u001b[0m \u001b[0mself\u001b[0m\u001b[0;34m.\u001b[0m\u001b[0mfp\u001b[0m\u001b[0;34m.\u001b[0m\u001b[0mreadinto\u001b[0m\u001b[0;34m(\u001b[0m\u001b[0mb\u001b[0m\u001b[0;34m)\u001b[0m\u001b[0;34m\u001b[0m\u001b[0;34m\u001b[0m\u001b[0m\n\u001b[0m\u001b[1;32m    504\u001b[0m         \u001b[0;32mif\u001b[0m \u001b[0;32mnot\u001b[0m \u001b[0mn\u001b[0m \u001b[0;32mand\u001b[0m \u001b[0mb\u001b[0m\u001b[0;34m:\u001b[0m\u001b[0;34m\u001b[0m\u001b[0;34m\u001b[0m\u001b[0m\n\u001b[1;32m    505\u001b[0m             \u001b[0;31m# Ideally, we would raise IncompleteRead if the content-length\u001b[0m\u001b[0;34m\u001b[0m\u001b[0;34m\u001b[0m\u001b[0;34m\u001b[0m\u001b[0m\n",
      "\u001b[0;32m~/Downloads/ENTER/envs/nips/lib/python3.8/socket.py\u001b[0m in \u001b[0;36mreadinto\u001b[0;34m(self, b)\u001b[0m\n\u001b[1;32m    667\u001b[0m         \u001b[0;32mwhile\u001b[0m \u001b[0;32mTrue\u001b[0m\u001b[0;34m:\u001b[0m\u001b[0;34m\u001b[0m\u001b[0;34m\u001b[0m\u001b[0m\n\u001b[1;32m    668\u001b[0m             \u001b[0;32mtry\u001b[0m\u001b[0;34m:\u001b[0m\u001b[0;34m\u001b[0m\u001b[0;34m\u001b[0m\u001b[0m\n\u001b[0;32m--> 669\u001b[0;31m                 \u001b[0;32mreturn\u001b[0m \u001b[0mself\u001b[0m\u001b[0;34m.\u001b[0m\u001b[0m_sock\u001b[0m\u001b[0;34m.\u001b[0m\u001b[0mrecv_into\u001b[0m\u001b[0;34m(\u001b[0m\u001b[0mb\u001b[0m\u001b[0;34m)\u001b[0m\u001b[0;34m\u001b[0m\u001b[0;34m\u001b[0m\u001b[0m\n\u001b[0m\u001b[1;32m    670\u001b[0m             \u001b[0;32mexcept\u001b[0m \u001b[0mtimeout\u001b[0m\u001b[0;34m:\u001b[0m\u001b[0;34m\u001b[0m\u001b[0;34m\u001b[0m\u001b[0m\n\u001b[1;32m    671\u001b[0m                 \u001b[0mself\u001b[0m\u001b[0;34m.\u001b[0m\u001b[0m_timeout_occurred\u001b[0m \u001b[0;34m=\u001b[0m \u001b[0;32mTrue\u001b[0m\u001b[0;34m\u001b[0m\u001b[0;34m\u001b[0m\u001b[0m\n",
      "\u001b[0;32m~/Downloads/ENTER/envs/nips/lib/python3.8/ssl.py\u001b[0m in \u001b[0;36mrecv_into\u001b[0;34m(self, buffer, nbytes, flags)\u001b[0m\n\u001b[1;32m   1239\u001b[0m                   \u001b[0;34m\"non-zero flags not allowed in calls to recv_into() on %s\"\u001b[0m \u001b[0;34m%\u001b[0m\u001b[0;34m\u001b[0m\u001b[0;34m\u001b[0m\u001b[0m\n\u001b[1;32m   1240\u001b[0m                   self.__class__)\n\u001b[0;32m-> 1241\u001b[0;31m             \u001b[0;32mreturn\u001b[0m \u001b[0mself\u001b[0m\u001b[0;34m.\u001b[0m\u001b[0mread\u001b[0m\u001b[0;34m(\u001b[0m\u001b[0mnbytes\u001b[0m\u001b[0;34m,\u001b[0m \u001b[0mbuffer\u001b[0m\u001b[0;34m)\u001b[0m\u001b[0;34m\u001b[0m\u001b[0;34m\u001b[0m\u001b[0m\n\u001b[0m\u001b[1;32m   1242\u001b[0m         \u001b[0;32melse\u001b[0m\u001b[0;34m:\u001b[0m\u001b[0;34m\u001b[0m\u001b[0;34m\u001b[0m\u001b[0m\n\u001b[1;32m   1243\u001b[0m             \u001b[0;32mreturn\u001b[0m \u001b[0msuper\u001b[0m\u001b[0;34m(\u001b[0m\u001b[0;34m)\u001b[0m\u001b[0;34m.\u001b[0m\u001b[0mrecv_into\u001b[0m\u001b[0;34m(\u001b[0m\u001b[0mbuffer\u001b[0m\u001b[0;34m,\u001b[0m \u001b[0mnbytes\u001b[0m\u001b[0;34m,\u001b[0m \u001b[0mflags\u001b[0m\u001b[0;34m)\u001b[0m\u001b[0;34m\u001b[0m\u001b[0;34m\u001b[0m\u001b[0m\n",
      "\u001b[0;32m~/Downloads/ENTER/envs/nips/lib/python3.8/ssl.py\u001b[0m in \u001b[0;36mread\u001b[0;34m(self, len, buffer)\u001b[0m\n\u001b[1;32m   1097\u001b[0m         \u001b[0;32mtry\u001b[0m\u001b[0;34m:\u001b[0m\u001b[0;34m\u001b[0m\u001b[0;34m\u001b[0m\u001b[0m\n\u001b[1;32m   1098\u001b[0m             \u001b[0;32mif\u001b[0m \u001b[0mbuffer\u001b[0m \u001b[0;32mis\u001b[0m \u001b[0;32mnot\u001b[0m \u001b[0;32mNone\u001b[0m\u001b[0;34m:\u001b[0m\u001b[0;34m\u001b[0m\u001b[0;34m\u001b[0m\u001b[0m\n\u001b[0;32m-> 1099\u001b[0;31m                 \u001b[0;32mreturn\u001b[0m \u001b[0mself\u001b[0m\u001b[0;34m.\u001b[0m\u001b[0m_sslobj\u001b[0m\u001b[0;34m.\u001b[0m\u001b[0mread\u001b[0m\u001b[0;34m(\u001b[0m\u001b[0mlen\u001b[0m\u001b[0;34m,\u001b[0m \u001b[0mbuffer\u001b[0m\u001b[0;34m)\u001b[0m\u001b[0;34m\u001b[0m\u001b[0;34m\u001b[0m\u001b[0m\n\u001b[0m\u001b[1;32m   1100\u001b[0m             \u001b[0;32melse\u001b[0m\u001b[0;34m:\u001b[0m\u001b[0;34m\u001b[0m\u001b[0;34m\u001b[0m\u001b[0m\n\u001b[1;32m   1101\u001b[0m                 \u001b[0;32mreturn\u001b[0m \u001b[0mself\u001b[0m\u001b[0;34m.\u001b[0m\u001b[0m_sslobj\u001b[0m\u001b[0;34m.\u001b[0m\u001b[0mread\u001b[0m\u001b[0;34m(\u001b[0m\u001b[0mlen\u001b[0m\u001b[0;34m)\u001b[0m\u001b[0;34m\u001b[0m\u001b[0;34m\u001b[0m\u001b[0m\n",
      "\u001b[0;31mKeyboardInterrupt\u001b[0m: "
     ]
    }
   ],
   "source": [
    "###############################################################################\n",
    "###                     DOWNLOAD AND READ DATA.                             ###\n",
    "###############################################################################\n",
    "print(\"Downloading file from\", par['input_count'])\n",
    "tar_temp = tempfile.NamedTemporaryFile()\n",
    "url = par['input_count']\n",
    "urllib.request.urlretrieve(url, tar_temp.name)\n",
    "\n",
    "print(\"Downloading meta data from\", par['input_meta'])\n",
    "meta_temp = tempfile.NamedTemporaryFile()\n",
    "url = par['input_meta']\n",
    "urllib.request.urlretrieve(url, meta_temp.name)\n",
    "\n",
    "###############################################################################\n",
    "###                      EXTRACT AND CREATE H5ADs                           ###\n",
    "###############################################################################\n",
    "\n",
    "print(\"Extracting and create h5ads\")\n",
    "samples = ['GSM5008737_RNA_3P', 'GSM5008738_ADT_3P'] # first sample is rna, second is protein data\n",
    "adatas = []        \n",
    "\n",
    "with tarfile.open(tar_temp.name, 'r') as tar:\n",
    "    for sample in samples:\n",
    "        print(\"Processing sample \" + sample)\n",
    "        with gzip.open(tar.extractfile(sample + '-matrix.mtx.gz'), 'rb') as mm:\n",
    "            print('Loading matrix')\n",
    "            X = io.mmread(mm).T.tocsr()\n",
    "        obs = pd.read_csv(\n",
    "            tar.extractfile(sample + '-barcodes.tsv.gz'), \n",
    "            compression='gzip',\n",
    "            header=None, \n",
    "            sep='\\t',\n",
    "            index_col=0\n",
    "        )\n",
    "        obs.index.name = None\n",
    "        var = pd.read_csv(\n",
    "            tar.extractfile(sample + '-features.tsv.gz'), \n",
    "            compression='gzip',\n",
    "            header=None, \n",
    "            sep='\\t'\n",
    "        ).iloc[:, :1]\n",
    "        var.columns = ['names']\n",
    "        var.index = var['names'].values\n",
    "        adata = ad.AnnData(X=X, obs=obs, var=var)\n",
    "\n",
    "        adata.var_names_make_unique()\n",
    "        adatas.append(adata)\n",
    "\n",
    "    tar.close()\n",
    "\n",
    "adata_RNA = adatas[0]\n",
    "adata_ADT = adatas[1]\n",
    "\n",
    "###############################################################################\n",
    "###                            POST PROCESS                                 ###\n",
    "###############################################################################\n",
    "print(\"Reading metadata\")\n",
    "meta = pd.read_csv(meta_temp.name, index_col = 0, compression = \"gzip\")\n",
    "meta_adt = meta.loc[:,~meta.columns.str.endswith('RNA')]\n",
    "meta_rna = meta.loc[:,~meta.columns.str.endswith('ADT')]\n",
    "\n",
    "print(\"Setting additional output fields\")\n",
    "# set obs\n",
    "adata_RNA.obs = adata_RNA.obs.join(meta_rna).rename(columns = {'Batch':'seq_batch', 'donor':'batch'})\n",
    "adata_RNA.obs['cell_type'] = adata_RNA.obs['celltype.l2']\n",
    "\n",
    "adata_ADT.obs = adata_ADT.obs.join(meta_adt).rename(columns = {'Batch':'seq_batch', 'donor':'batch'})\n",
    "adata_ADT.obs['cell_type'] = adata_ADT.obs['celltype.l2']\n",
    "\n",
    "#  set var\n",
    "adata_RNA.var['feature_types'] = \"GEX\"\n",
    "adata_ADT.var['feature_types'] = \"ADT\"\n",
    "\n",
    "# set uns \n",
    "uns = { \"dataset_id\" : par[\"id\"], \"organism\" : par[\"organism\"] }\n",
    "adata_RNA.uns = uns\n",
    "adata_ADT.uns = uns\n",
    "\n",
    "\n",
    "###############################################################################\n",
    "###                             SAVE OUTPUT                                 ###\n",
    "###############################################################################\n",
    "print(\"Saving output\")\n",
    "adata_RNA.write_h5ad(par['output_rna'], compression = \"gzip\")\n",
    "adata_ADT.write_h5ad(par['output_mod2'], compression = \"gzip\")"
   ]
  },
  {
   "cell_type": "markdown",
   "id": "bf2425a0",
   "metadata": {},
   "source": [
    "# I. GEX modality"
   ]
  },
  {
   "cell_type": "markdown",
   "id": "d5d4d240",
   "metadata": {},
   "source": [
    "## 1. QC metrics"
   ]
  },
  {
   "cell_type": "code",
   "execution_count": 5,
   "id": "57ee0d95",
   "metadata": {},
   "outputs": [
    {
     "data": {
      "text/plain": [
       "14.998124"
      ]
     },
     "execution_count": 5,
     "metadata": {},
     "output_type": "execute_result"
    }
   ],
   "source": [
    "# Percentage of mitochondrial counts\n",
    "\n",
    "is_mito = adata_RNA.var_names.str.startswith(\"MT-\")\n",
    "total_mito_genes = np.sum(adata_RNA[:, is_mito].X, axis=1).A1\n",
    "total_all_genes = np.sum(adata_RNA.X, axis=1).A1\n",
    "mito_genes_percent = (total_mito_genes / total_all_genes) * 100.0\n",
    "adata_RNA.obs['pct_counts_mt'] = mito_genes_percent\n",
    "adata_RNA.obs['pct_counts_mt'].max()"
   ]
  },
  {
   "cell_type": "code",
   "execution_count": 6,
   "id": "56aae3e6",
   "metadata": {},
   "outputs": [
    {
     "data": {
      "text/plain": [
       "811.0"
      ]
     },
     "execution_count": 6,
     "metadata": {},
     "output_type": "execute_result"
    }
   ],
   "source": [
    "# UMI counts per cell\n",
    "# asarray convert matrix (n_cells, 1) to array (n_cells,)\n",
    "\n",
    "adata_RNA.obs['n_counts'] = np.asarray(np.sum(adata_RNA.X, axis = 1)).reshape(-1)\n",
    "adata_RNA.obs['n_counts'].min()"
   ]
  },
  {
   "cell_type": "code",
   "execution_count": 7,
   "id": "057143de",
   "metadata": {},
   "outputs": [
    {
     "data": {
      "text/plain": [
       "501"
      ]
     },
     "execution_count": 7,
     "metadata": {},
     "output_type": "execute_result"
    }
   ],
   "source": [
    "# number of genes per cell\n",
    "\n",
    "total_detected_genes = (adata_RNA.X > 0).sum(axis=1)\n",
    "total_detected_genes = np.asarray(total_detected_genes).reshape(-1)\n",
    "adata_RNA.obs['n_genes'] = total_detected_genes\n",
    "adata_RNA.obs['n_genes'].min()"
   ]
  },
  {
   "cell_type": "code",
   "execution_count": 9,
   "id": "28ab69f9",
   "metadata": {},
   "outputs": [
    {
     "name": "stdout",
     "output_type": "stream",
     "text": [
      "Total number of cells: 161764\n",
      "Number of cells after min count filter: 160326\n",
      "Number of cells after max count filter: 160273\n",
      "Number of cells after MT filter: 160273\n",
      "Number of cells after gene filter: 159964\n"
     ]
    }
   ],
   "source": [
    "# Filter cells according to identified QC thresholds:\n",
    "\n",
    "print('Total number of cells: {:d}'.format(adata_RNA.n_obs))\n",
    "\n",
    "sc.pp.filter_cells(adata_RNA, min_counts = 1500)\n",
    "\n",
    "print('Number of cells after min count filter: {:d}'.format(adata_RNA.n_obs))\n",
    "\n",
    "sc.pp.filter_cells(adata_RNA, max_counts = 40000)\n",
    "print('Number of cells after max count filter: {:d}'.format(adata_RNA.n_obs))\n",
    "\n",
    "adata_RNA_filtered = adata_RNA[adata_RNA.obs['pct_counts_mt'] < 20]\n",
    "print('Number of cells after MT filter: {:d}'.format(adata_RNA.n_obs))\n",
    "\n",
    "sc.pp.filter_cells(adata_RNA, min_genes = 700)\n",
    "print('Number of cells after gene filter: {:d}'.format(adata_RNA.n_obs))"
   ]
  },
  {
   "cell_type": "code",
   "execution_count": 10,
   "id": "e9372a63",
   "metadata": {},
   "outputs": [
    {
     "name": "stdout",
     "output_type": "stream",
     "text": [
      "Total number of genes: 33538\n",
      "Number of genes after cell filter: 21358\n"
     ]
    }
   ],
   "source": [
    "# Filter genes\n",
    "\n",
    "print('Total number of genes: {:d}'.format(adata_RNA.n_vars))\n",
    "sc.pp.filter_genes(adata_RNA, min_cells=20)\n",
    "print('Number of genes after cell filter: {:d}'.format(adata_RNA.n_vars))\n",
    "adata_RNA.write('./adata_RNA_filtered.h5ad')"
   ]
  },
  {
   "cell_type": "markdown",
   "id": "413f4829",
   "metadata": {},
   "source": [
    "## 2. Normalization (size factors)"
   ]
  },
  {
   "cell_type": "code",
   "execution_count": 5,
   "id": "7d029224",
   "metadata": {},
   "outputs": [],
   "source": [
    "# Perform a clustering for scran normalization in clusters\n",
    "\n",
    "adata_pp = adata_RNA.copy()\n",
    "\n",
    "sc.pp.normalize_per_cell(adata_pp, counts_per_cell_after=1e6)\n",
    "sc.pp.log1p(adata_pp)\n",
    "#sc.pp.pca(adata_pp, n_comps=50)\n",
    "sc.pp.neighbors(adata_pp)\n",
    "sc.tl.louvain(adata_pp, key_added='groups', resolution=0.5)"
   ]
  },
  {
   "cell_type": "code",
   "execution_count": null,
   "id": "be926998",
   "metadata": {},
   "outputs": [],
   "source": [
    "# Preprocess variables for scran normalization\n",
    "\n",
    "input_groups = adata_pp.obs['groups']\n",
    "del adata_pp\n",
    "data_mat = adata_RNA.X.T\n",
    "io.mmwrite(\"data_mat.mtx\", data_mat, comment='', field=None, precision=None, symmetry=None)"
   ]
  },
  {
   "cell_type": "code",
   "execution_count": null,
   "id": "9acfa29b",
   "metadata": {},
   "outputs": [],
   "source": [
    "%%R -i input_groups -o size_factors\n",
    "\n",
    "data_mat <- readMM(\"./data_mat.mtx\")\n",
    "size_factors = calculateSumFactors(data_mat, clusters=input_groups, min.mean=0.1)"
   ]
  },
  {
   "cell_type": "code",
   "execution_count": null,
   "id": "3b4bb6d4",
   "metadata": {},
   "outputs": [],
   "source": [
    "# Keep the count data in a counts layer\n",
    "adata_RNA.layers[\"counts\"] = adata_RNA.X.copy()\n",
    "\n",
    "# Normalize & Log-transform \n",
    "adata_RNA.X /= adata_RNA.obs['size_factors'].values[:,None]\n",
    "adata_RNA.layers[\"log_norm\"] = sc.pp.log1p(adata_RNA.X)\n",
    "adata_RNA.write('./adata_RNA_final.h5ad')"
   ]
  },
  {
   "cell_type": "markdown",
   "id": "f022bb35",
   "metadata": {},
   "source": [
    "# II. ADT"
   ]
  },
  {
   "cell_type": "markdown",
   "id": "2ba3ea8d",
   "metadata": {},
   "source": [
    "# 1. QC metrics"
   ]
  },
  {
   "cell_type": "code",
   "execution_count": 11,
   "id": "a0b77b13",
   "metadata": {},
   "outputs": [
    {
     "data": {
      "text/plain": [
       "961.0"
      ]
     },
     "execution_count": 11,
     "metadata": {},
     "output_type": "execute_result"
    }
   ],
   "source": [
    "# ADT counts per cell\n",
    "\n",
    "adata_ADT.obs['total_counts'] = np.asarray(np.sum(adata_ADT.X, axis = 1)).reshape(-1)\n",
    "adata_ADT.obs['total_counts'].min()"
   ]
  },
  {
   "cell_type": "code",
   "execution_count": 13,
   "id": "9e8cc83c",
   "metadata": {},
   "outputs": [
    {
     "data": {
      "text/plain": [
       "105"
      ]
     },
     "execution_count": 13,
     "metadata": {},
     "output_type": "execute_result"
    }
   ],
   "source": [
    "# Number of proteins per cell\n",
    "# Total number = 228\n",
    "\n",
    "adata_ADT.obs['n_genes'] = np.asarray((adata_ADT.X > 0).sum(axis=1)).reshape(-1)\n",
    "adata_ADT.obs['n_genes'].min()"
   ]
  },
  {
   "cell_type": "code",
   "execution_count": 28,
   "id": "5073b5d2",
   "metadata": {},
   "outputs": [
    {
     "name": "stdout",
     "output_type": "stream",
     "text": [
      "Total number of cells: 161764\n",
      "Number of cells after min count filter: 161541\n",
      "Number of cells after max count filter: 160899\n",
      "Number of cells after protein number filter: 160786\n"
     ]
    }
   ],
   "source": [
    "# Filter cells according to identified QC thresholds:\n",
    "\n",
    "print('Total number of cells: {:d}'.format(adata_ADT.n_obs))\n",
    "\n",
    "sc.pp.filter_cells(adata_ADT, min_counts = 1100)\n",
    "\n",
    "print('Number of cells after min count filter: {:d}'.format(adata_ADT.n_obs))\n",
    "\n",
    "sc.pp.filter_cells(adata_ADT, max_counts = 24000)\n",
    "print('Number of cells after max count filter: {:d}'.format(adata_ADT.n_obs))\n",
    "\n",
    "sc.pp.filter_cells(adata_ADT, min_genes = round(len(adata_ADT.var)*0.6, 0))  # 60% of n_genes\n",
    "print('Number of cells after protein number filter: {:d}'.format(adata_ADT.n_obs))"
   ]
  },
  {
   "cell_type": "code",
   "execution_count": 30,
   "id": "f7e50753",
   "metadata": {},
   "outputs": [
    {
     "name": "stdout",
     "output_type": "stream",
     "text": [
      "Total number of genes: 228\n",
      "Number of genes after cell filter: 228\n"
     ]
    }
   ],
   "source": [
    "# Filter genes\n",
    "\n",
    "print('Total number of genes: {:d}'.format(adata_ADT.n_vars))\n",
    "sc.pp.filter_genes(adata_ADT, min_cells=20)\n",
    "print('Number of genes after cell filter: {:d}'.format(adata_ADT.n_vars))\n",
    "adata_ADT.write('./adata_ADT_filtered.h5ad')"
   ]
  },
  {
   "cell_type": "markdown",
   "id": "d8df4e5d",
   "metadata": {},
   "source": [
    "## 2. Normalization"
   ]
  },
  {
   "cell_type": "code",
   "execution_count": 33,
   "id": "ab1839c6",
   "metadata": {},
   "outputs": [],
   "source": [
    "# Keep the count data in a counts layer\n",
    "\n",
    "adata_ADT.layers[\"counts\"] = adata_ADT.X.copy()"
   ]
  },
  {
   "cell_type": "code",
   "execution_count": 34,
   "id": "78229d53",
   "metadata": {},
   "outputs": [],
   "source": [
    "def CLR_transform(sparse):\n",
    "    '''\n",
    "    implements the CLR transform used in CITEseq (need to confirm in Seurat's code)\n",
    "    https://doi.org/10.1038/nmeth.4380\n",
    "    source: https://github.com/theislab/scanpy/pull/1117\n",
    "    '''\n",
    "    df = pd.DataFrame.sparse.from_spmatrix(sparse)\n",
    "    logn1 = np.log(df + 1)\n",
    "    T_clr = logn1.sub(logn1.mean(axis=1), axis=0)\n",
    "    return T_clr"
   ]
  },
  {
   "cell_type": "code",
   "execution_count": 36,
   "id": "7d95f3a9",
   "metadata": {},
   "outputs": [],
   "source": [
    "# Perform centre log ratio (CLR) transformation\n",
    "# Store transformed data in adata.X\n",
    "\n",
    "adata_ADT.X = CLR_transform(adata_ADT.X)\n",
    "adata_ADT.write(\"adata_ADT_final.h5ad\")"
   ]
  }
 ],
 "metadata": {
  "kernelspec": {
   "display_name": "Python 3 (ipykernel)",
   "language": "python",
   "name": "python3"
  },
  "language_info": {
   "codemirror_mode": {
    "name": "ipython",
    "version": 3
   },
   "file_extension": ".py",
   "mimetype": "text/x-python",
   "name": "python",
   "nbconvert_exporter": "python",
   "pygments_lexer": "ipython3",
   "version": "3.8.11"
  }
 },
 "nbformat": 4,
 "nbformat_minor": 5
}

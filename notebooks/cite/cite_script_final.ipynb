{
 "cells": [
  {
   "cell_type": "code",
   "execution_count": 1,
   "metadata": {},
   "outputs": [],
   "source": [
    "import tarfile\n",
    "import urllib.request\n",
    "import tempfile\n",
    "import anndata as ad\n",
    "import scanpy as sc\n",
    "\n",
    "import pandas as pd\n",
    "import numpy as np\n",
    "import seaborn as sb\n",
    "from scipy import io, sparse\n",
    "import matplotlib.pyplot as plt\n",
    "from matplotlib import rcParams\n",
    "from matplotlib import colors\n",
    "import pickle\n",
    "import copy\n",
    "\n",
    "import rpy2.rinterface_lib.callbacks\n",
    "import logging\n",
    "from rpy2.robjects import pandas2ri\n",
    "%load_ext rpy2.ipython"
   ]
  },
  {
   "cell_type": "code",
   "execution_count": 57,
   "metadata": {},
   "outputs": [],
   "source": [
    "%%R\n",
    "old_paths <- .libPaths()[-1]\n",
    "new_paths <- c(\"~/R/nips\", old_paths)\n",
    ".libPaths(new_paths)\n",
    "\n",
    "suppressMessages(library(\"dplyr\"))\n",
    "suppressMessages(library(\"Seurat\"))\n",
    "suppressMessages(library(\"anndata\"))\n",
    "suppressMessages(library(\"SingleCellExperiment\"))\n",
    "suppressMessages(library(\"scran\"))\n",
    "suppressMessages(library(\"Matrix\"))"
   ]
  },
  {
   "cell_type": "code",
   "execution_count": 3,
   "metadata": {},
   "outputs": [
    {
     "name": "stdout",
     "output_type": "stream",
     "text": [
      "Downloading file from https://github.com/YosefLab/totalVI_reproducibility/raw/master/data/malt_10k_protein_v3.h5ad\n",
      "Reading h5ad file\n",
      "Extracting RNA counts\n",
      "Extracting ADT counts\n"
     ]
    },
    {
     "name": "stderr",
     "output_type": "stream",
     "text": [
      "/home/alina/Downloads/ENTER/envs/nips/lib/python3.8/site-packages/anndata/_core/anndata.py:1220: FutureWarning: The `inplace` parameter in pandas.Categorical.reorder_categories is deprecated and will be removed in a future version. Removing unused categories will always return a new Categorical object.\n",
      "  c.reorder_categories(natsorted(c.categories), inplace=True)\n",
      "... storing 'feature_types' as categorical\n"
     ]
    },
    {
     "name": "stdout",
     "output_type": "stream",
     "text": [
      "Saving output\n"
     ]
    },
    {
     "name": "stderr",
     "output_type": "stream",
     "text": [
      "/home/alina/Downloads/ENTER/envs/nips/lib/python3.8/site-packages/anndata/_core/anndata.py:1220: FutureWarning: The `inplace` parameter in pandas.Categorical.reorder_categories is deprecated and will be removed in a future version. Removing unused categories will always return a new Categorical object.\n",
      "  c.reorder_categories(natsorted(c.categories), inplace=True)\n",
      "... storing 'feature_types' as categorical\n"
     ]
    }
   ],
   "source": [
    "## VIASH START\n",
    "par = {\n",
    "    \"id\": \"totalVI_x_malt_k\",\n",
    "    \"input\": \"https://github.com/YosefLab/totalVI_reproducibility/raw/master/data/malt_10k_protein_v3.h5ad\",\n",
    "    \"organism\": \"human\",\n",
    "    \"output_rna\": \"output_rna.h5ad\",\n",
    "    \"output_mod2\": \"output_mod2.h5ad\"\n",
    "}\n",
    "## VIASH END\n",
    "\n",
    "###############################################################################\n",
    "###                     DOWNLOAD AND READ DATA.                             ###\n",
    "###############################################################################\n",
    "print(\"Downloading file from\", par['input'])\n",
    "h5ad_temp = tempfile.NamedTemporaryFile()\n",
    "url = par['input']\n",
    "urllib.request.urlretrieve(url, h5ad_temp.name)\n",
    "\n",
    "print(\"Reading h5ad file\")\n",
    "adata = sc.read_h5ad(h5ad_temp.name)\n",
    "h5ad_temp.close()\n",
    "\n",
    "###############################################################################\n",
    "###                     CREATE H5AD FOR BOTH MODALITIES                     ###\n",
    "###############################################################################\n",
    "uns = { \"dataset_id\" : par[\"id\"], \"organism\" : par[\"organism\"] }\n",
    "\n",
    "print(\"Extracting RNA counts\")\n",
    "adata_RNA = ad.AnnData(\n",
    "    X=adata.X,\n",
    "    obs=adata.obs.loc[:,['n_genes', 'percent_mito', 'n_counts']],\n",
    "    var=adata.var,\n",
    "    uns=uns\n",
    ")\n",
    "\n",
    "adata_RNA.var['feature_types'] = \"GEX\"\n",
    "\n",
    "print(\"Extracting ADT counts\")\n",
    "adata_ADT = ad.AnnData(\n",
    "    X=adata.obsm['protein_expression'],\n",
    "    var=pd.DataFrame(index=list(adata.uns['protein_names'])),\n",
    "    uns=uns\n",
    ")\n",
    "\n",
    "adata_ADT.obs.index = adata.obs.index\n",
    "adata_ADT.var['feature_types'] = \"ADT\"\n",
    "\n",
    "###############################################################################\n",
    "###                             SAVE OUTPUT                                 ###\n",
    "###############################################################################\n",
    "\n",
    "# Convert to sparse matrices\n",
    "adata_RNA.X = sparse.csr_matrix(adata_RNA.X)\n",
    "adata_ADT.X = sparse.csr_matrix(adata_ADT.X)\n",
    "\n",
    "print(\"Saving output\")\n",
    "adata_RNA.write_h5ad(par['output_rna'], compression = \"gzip\")\n",
    "adata_ADT.write_h5ad(par['output_mod2'], compression = \"gzip\")"
   ]
  },
  {
   "cell_type": "markdown",
   "metadata": {},
   "source": [
    "# I. GEX modality"
   ]
  },
  {
   "cell_type": "markdown",
   "metadata": {},
   "source": [
    "## 1. QC metrics"
   ]
  },
  {
   "cell_type": "code",
   "execution_count": 4,
   "metadata": {},
   "outputs": [
    {
     "data": {
      "text/plain": [
       "14.992211"
      ]
     },
     "execution_count": 4,
     "metadata": {},
     "output_type": "execute_result"
    }
   ],
   "source": [
    "# pct_counts_mt\n",
    "mito_genes = adata_RNA.var_names.str.startswith('MT-')\n",
    "adata_RNA.obs['pct_counts_mt'] = (np.sum(adata_RNA[:, mito_genes].X, axis=1).A1 / np.sum(adata_RNA.X, axis=1).A1)*100\n",
    "adata_RNA.obs['pct_counts_mt'].max()"
   ]
  },
  {
   "cell_type": "code",
   "execution_count": 5,
   "metadata": {},
   "outputs": [
    {
     "data": {
      "text/plain": [
       "590.0"
      ]
     },
     "execution_count": 5,
     "metadata": {},
     "output_type": "execute_result"
    }
   ],
   "source": [
    "# UMI counts per cell\n",
    "# rows: n of cells = 7361; columns: n of genes = 36601\n",
    "# asarray convert matrix (7361, 1) to array (7361,)\n",
    "adata_RNA.obs['n_counts'] = np.asarray(np.sum(adata_RNA.X, axis = 1)).reshape(-1)\n",
    "adata_RNA.obs['n_counts'].min()"
   ]
  },
  {
   "cell_type": "code",
   "execution_count": 6,
   "metadata": {},
   "outputs": [
    {
     "data": {
      "text/plain": [
       "337"
      ]
     },
     "execution_count": 6,
     "metadata": {},
     "output_type": "execute_result"
    }
   ],
   "source": [
    "# n of genes per cell\n",
    "adata_RNA.obs['n_genes'] = np.asarray((adata_RNA.X > 0).sum(axis=1)).reshape(-1)\n",
    "adata_RNA.obs['n_genes'].min()"
   ]
  },
  {
   "cell_type": "code",
   "execution_count": 7,
   "metadata": {},
   "outputs": [
    {
     "data": {
      "text/plain": [
       "AnnData object with n_obs × n_vars = 6838 × 16659\n",
       "    obs: 'n_genes', 'percent_mito', 'n_counts', 'pct_counts_mt'\n",
       "    var: 'n_cells', 'highly_variable', 'feature_types'\n",
       "    uns: 'dataset_id', 'organism'"
      ]
     },
     "execution_count": 7,
     "metadata": {},
     "output_type": "execute_result"
    }
   ],
   "source": [
    "adata_RNA"
   ]
  },
  {
   "cell_type": "code",
   "execution_count": 12,
   "metadata": {},
   "outputs": [
    {
     "data": {
      "text/plain": [
       "(6838, 16659)"
      ]
     },
     "execution_count": 12,
     "metadata": {},
     "output_type": "execute_result"
    }
   ],
   "source": [
    "# Copy AnnData object\n",
    "\n",
    "adata_RNA_filtered = copy.copy(adata_RNA)\n",
    "adata_RNA_filtered.shape"
   ]
  },
  {
   "cell_type": "code",
   "execution_count": 13,
   "metadata": {},
   "outputs": [
    {
     "name": "stdout",
     "output_type": "stream",
     "text": [
      "Total number of cells: 6838\n",
      "Number of cells after min count filter: 6781\n",
      "Number of cells after max count filter: 6781\n",
      "Number of cells after MT filter: 6781\n"
     ]
    },
    {
     "name": "stderr",
     "output_type": "stream",
     "text": [
      "Trying to set attribute `.obs` of view, copying.\n"
     ]
    },
    {
     "name": "stdout",
     "output_type": "stream",
     "text": [
      "Number of cells after gene filter: 6765\n"
     ]
    }
   ],
   "source": [
    "# Filter cells according to identified QC thresholds:\n",
    "\n",
    "print('Total number of cells: {:d}'.format(adata_RNA_filtered.n_obs))\n",
    "\n",
    "sc.pp.filter_cells(adata_RNA_filtered, min_counts = 1500)\n",
    "\n",
    "print('Number of cells after min count filter: {:d}'.format(adata_RNA_filtered.n_obs))\n",
    "\n",
    "sc.pp.filter_cells(adata_RNA_filtered, max_counts = 40000)\n",
    "print('Number of cells after max count filter: {:d}'.format(adata_RNA_filtered.n_obs))\n",
    "\n",
    "adata_RNA_filtered = adata_RNA_filtered[adata_RNA_filtered.obs['pct_counts_mt'] < 20]\n",
    "print('Number of cells after MT filter: {:d}'.format(adata_RNA_filtered.n_obs))\n",
    "\n",
    "sc.pp.filter_ce     l999ls(adata_RNA_filtered, min_genes = 700)\n",
    "print('Number of cells after gene filter: {:d}'.format(adata_RNA_filtered.n_obs))"
   ]
  },
  {
   "cell_type": "code",
   "execution_count": 14,
   "metadata": {},
   "outputs": [
    {
     "name": "stdout",
     "output_type": "stream",
     "text": [
      "Total number of genes: 16659\n"
     ]
    }
   ],
   "source": [
    "# Filter genes\n",
    "\n",
    "print('Total number of genes: {:d}'.format(adata_RNA.n_vars))"
   ]
  },
  {
   "cell_type": "code",
   "execution_count": 15,
   "metadata": {},
   "outputs": [
    {
     "name": "stdout",
     "output_type": "stream",
     "text": [
      "Number of genes after cell filter: 12629\n"
     ]
    }
   ],
   "source": [
    "# Min 20 cells: filters out 0 count genes\n",
    "\n",
    "sc.pp.filter_genes(adata_RNA_filtered, min_cells=20)\n",
    "print('Number of genes after cell filter: {:d}'.format(adata_RNA_filtered.n_vars))"
   ]
  },
  {
   "cell_type": "code",
   "execution_count": 16,
   "metadata": {},
   "outputs": [],
   "source": [
    "adata_RNA.write('./adata_RNA.h5ad')\n",
    "adata_RNA_filtered.write('./adata_RNA_filtered.h5ad')"
   ]
  },
  {
   "cell_type": "markdown",
   "metadata": {},
   "source": [
    "## 2. Normalization (size factors)"
   ]
  },
  {
   "cell_type": "code",
   "execution_count": 17,
   "metadata": {},
   "outputs": [],
   "source": [
    "# Perform a clustering for scran normalization in clusters\n",
    "\n",
    "adata_pp = adata_RNA_filtered.copy()\n",
    "\n",
    "sc.pp.normalize_per_cell(adata_pp, counts_per_cell_after=1e6)\n",
    "sc.pp.log1p(adata_pp)\n",
    "sc.pp.pca(adata_pp, n_comps=15)\n",
    "sc.pp.neighbors(adata_pp)\n",
    "sc.tl.louvain(adata_pp, key_added='groups', resolution=0.5)"
   ]
  },
  {
   "cell_type": "code",
   "execution_count": 18,
   "metadata": {},
   "outputs": [],
   "source": [
    "# Preprocess variables for scran normalization\n",
    "\n",
    "input_groups = adata_pp.obs['groups']\n",
    "data_mat = adata_RNA_filtered.X.T\n",
    "io.mmwrite(\"data_mat.mtx\", data_mat, comment='', field=None, precision=None, symmetry=None)"
   ]
  },
  {
   "cell_type": "code",
   "execution_count": 19,
   "metadata": {},
   "outputs": [],
   "source": [
    "%%R -i input_groups -o size_factors\n",
    "\n",
    "data_mat <- readMM(\"./data_mat.mtx\")\n",
    "size_factors = calculateSumFactors(data_mat, clusters=input_groups, min.mean=0.1)"
   ]
  },
  {
   "cell_type": "code",
   "execution_count": 20,
   "metadata": {
    "scrolled": true
   },
   "outputs": [
    {
     "data": {
      "image/png": "[encoded data removed]",
      "text/plain": [
       "<Figure size 487.93x288 with 1 Axes>"
      ]
     },
     "metadata": {
      "needs_background": "light"
     },
     "output_type": "display_data"
    },
    {
     "data": {
      "image/png": "[encoded data removed]",
      "text/plain": [
       "<Figure size 487.93x288 with 1 Axes>"
      ]
     },
     "metadata": {
      "needs_background": "light"
     },
     "output_type": "display_data"
    },
    {
     "name": "stderr",
     "output_type": "stream",
     "text": [
      "/home/alina/Downloads/ENTER/envs/nips/lib/python3.8/site-packages/seaborn/distributions.py:2619: FutureWarning: `distplot` is a deprecated function and will be removed in a future version. Please adapt your code to use either `displot` (a figure-level function with similar flexibility) or `histplot` (an axes-level function for histograms).\n",
      "  warnings.warn(msg, FutureWarning)\n"
     ]
    },
    {
     "data": {
      "image/png": "[encoded data removed]",
      "text/plain": [
       "<Figure size 432x288 with 1 Axes>"
      ]
     },
     "metadata": {
      "needs_background": "light"
     },
     "output_type": "display_data"
    }
   ],
   "source": [
    "# Visualize the estimated size factors\n",
    "adata_RNA_filtered.obs['size_factors'] = size_factors\n",
    "\n",
    "sc.pl.scatter(adata_RNA_filtered, 'size_factors', 'n_counts')\n",
    "sc.pl.scatter(adata_RNA_filtered, 'size_factors', 'n_genes')\n",
    "\n",
    "sb.distplot(size_factors, bins=50, kde=False)\n",
    "plt.show()"
   ]
  },
  {
   "cell_type": "code",
   "execution_count": 21,
   "metadata": {},
   "outputs": [],
   "source": [
    "# Keep the count data in a counts layer\n",
    "adata_RNA_filtered.layers[\"counts\"] = adata_RNA_filtered.X.copy()"
   ]
  },
  {
   "cell_type": "code",
   "execution_count": 22,
   "metadata": {},
   "outputs": [],
   "source": [
    "# Normalize & Log-transform \n",
    "adata_RNA_filtered.X /= adata_RNA_filtered.obs['size_factors'].values[:,None]\n",
    "adata_RNA_filtered.layers[\"log_norm\"] = sc.pp.log1p(adata_RNA_filtered.X)"
   ]
  },
  {
   "cell_type": "code",
   "execution_count": 23,
   "metadata": {},
   "outputs": [],
   "source": [
    "adata_RNA_filtered.write(\"adata_RNA_filtered\")"
   ]
  },
  {
   "cell_type": "markdown",
   "metadata": {},
   "source": [
    "# II. ADT modality"
   ]
  },
  {
   "cell_type": "markdown",
   "metadata": {},
   "source": [
    "## 1. QC metrics"
   ]
  },
  {
   "cell_type": "code",
   "execution_count": 25,
   "metadata": {},
   "outputs": [],
   "source": [
    "# Delete last 10 characters in protein names \"_TotalSeqB\"\n",
    "# CD3_TotalSeqB -> CD3\n",
    "adata_ADT.var.index = [x[:-10] for x in adata_ADT.var.index.tolist()]"
   ]
  },
  {
   "cell_type": "code",
   "execution_count": 28,
   "metadata": {},
   "outputs": [
    {
     "data": {
      "text/plain": [
       "AnnData object with n_obs × n_vars = 6838 × 14\n",
       "    var: 'feature_types'\n",
       "    uns: 'dataset_id', 'organism'"
      ]
     },
     "execution_count": 28,
     "metadata": {},
     "output_type": "execute_result"
    }
   ],
   "source": [
    "adata_ADT"
   ]
  },
  {
   "cell_type": "code",
   "execution_count": 29,
   "metadata": {},
   "outputs": [
    {
     "data": {
      "text/plain": [
       "418.0"
      ]
     },
     "execution_count": 29,
     "metadata": {},
     "output_type": "execute_result"
    }
   ],
   "source": [
    "# ADT counts per cell\n",
    "\n",
    "adata_ADT.obs['total_counts'] = np.asarray(np.sum(adata_ADT.X, axis = 1)).reshape(-1)\n",
    "adata_ADT.obs['total_counts'].min()"
   ]
  },
  {
   "cell_type": "code",
   "execution_count": 31,
   "metadata": {},
   "outputs": [
    {
     "data": {
      "text/plain": [
       "12"
      ]
     },
     "execution_count": 31,
     "metadata": {},
     "output_type": "execute_result"
    }
   ],
   "source": [
    "# N of proteins per cell\n",
    "\n",
    "adata_ADT.obs['n_genes'] = np.asarray((adata_ADT.X > 0).sum(axis=1)).reshape(-1)\n",
    "adata_ADT.obs['n_genes'].min()"
   ]
  },
  {
   "cell_type": "code",
   "execution_count": 32,
   "metadata": {},
   "outputs": [
    {
     "data": {
      "text/plain": [
       "14"
      ]
     },
     "execution_count": 32,
     "metadata": {},
     "output_type": "execute_result"
    }
   ],
   "source": [
    "# ADT count of the 6 isotype controls summed up in each cell: [1; 100]\n",
    "\n",
    "# no isotype controls here"
   ]
  },
  {
   "cell_type": "code",
   "execution_count": 50,
   "metadata": {},
   "outputs": [
    {
     "data": {
      "text/plain": [
       "(6838, 14)"
      ]
     },
     "execution_count": 50,
     "metadata": {},
     "output_type": "execute_result"
    }
   ],
   "source": [
    "# Copy AnnData object\n",
    "\n",
    "adata_ADT_filtered = copy.copy(adata_ADT)\n",
    "adata_ADT.shape"
   ]
  },
  {
   "cell_type": "code",
   "execution_count": 51,
   "metadata": {},
   "outputs": [
    {
     "name": "stdout",
     "output_type": "stream",
     "text": [
      "Total number of cells: 6838\n",
      "Number of cells after min count filter: 5866\n",
      "Number of cells after max count filter: 5866\n",
      "Number of cells after protein number filter: 5866\n"
     ]
    }
   ],
   "source": [
    "# Filter cells according to identified QC thresholds:\n",
    "\n",
    "print('Total number of cells: {:d}'.format(adata_ADT_filtered.n_obs))\n",
    "\n",
    "sc.pp.filter_cells(adata_ADT_filtered, min_counts = 1100)\n",
    "\n",
    "print('Number of cells after min count filter: {:d}'.format(adata_ADT_filtered.n_obs))\n",
    "\n",
    "sc.pp.filter_cells(adata_ADT_filtered, max_counts = 24000)\n",
    "print('Number of cells after max count filter: {:d}'.format(adata_ADT_filtered.n_obs))\n",
    "\n",
    "sc.pp.filter_cells(adata_ADT_filtered, min_genes = 8)  # 60% of n_genes\n",
    "print('Number of cells after protein number filter: {:d}'.format(adata_ADT_filtered.n_obs))"
   ]
  },
  {
   "cell_type": "code",
   "execution_count": 52,
   "metadata": {},
   "outputs": [
    {
     "name": "stdout",
     "output_type": "stream",
     "text": [
      "Total number of genes: 14\n"
     ]
    }
   ],
   "source": [
    "# Filter genes\n",
    "\n",
    "print('Total number of genes: {:d}'.format(adata_ADT.n_vars))"
   ]
  },
  {
   "cell_type": "code",
   "execution_count": 53,
   "metadata": {},
   "outputs": [
    {
     "name": "stdout",
     "output_type": "stream",
     "text": [
      "Number of genes after cell filter: 14\n"
     ]
    }
   ],
   "source": [
    "# Min 20 cells: filters out 0 count genes\n",
    "\n",
    "sc.pp.filter_genes(adata_ADT_filtered, min_cells=20)\n",
    "print('Number of genes after cell filter: {:d}'.format(adata_ADT_filtered.n_vars))"
   ]
  },
  {
   "cell_type": "code",
   "execution_count": 54,
   "metadata": {},
   "outputs": [],
   "source": [
    "adata_ADT.write('./adata_ADT.h5ad')"
   ]
  },
  {
   "cell_type": "markdown",
   "metadata": {},
   "source": [
    "## 2. Normalization (CLR)"
   ]
  },
  {
   "cell_type": "code",
   "execution_count": 55,
   "metadata": {},
   "outputs": [],
   "source": [
    "# Keep the count data in a counts layer\n",
    "\n",
    "adata_ADT_filtered.layers[\"counts\"] = adata_ADT_filtered.X.copy()"
   ]
  },
  {
   "cell_type": "code",
   "execution_count": 62,
   "metadata": {},
   "outputs": [],
   "source": [
    "def CLR_transform(sparse):\n",
    "    '''\n",
    "    implements the CLR transform used in CITEseq (need to confirm in Seurat's code)\n",
    "    https://doi.org/10.1038/nmeth.4380\n",
    "    source: https://github.com/theislab/scanpy/pull/1117\n",
    "    '''\n",
    "    df = pd.DataFrame.sparse.from_spmatrix(sparse)\n",
    "    logn1 = np.log(df + 1)\n",
    "    T_clr = logn1.sub(logn1.mean(axis=1), axis=0)\n",
    "    return T_clr"
   ]
  },
  {
   "cell_type": "code",
   "execution_count": 64,
   "metadata": {},
   "outputs": [],
   "source": [
    "# Perform centre log ratio (CLR) transformation\n",
    "# Store transformed data in adata.X\n",
    "\n",
    "adata_ADT_filtered.X = CLR_transform(adata_ADT_filtered.X)"
   ]
  },
  {
   "cell_type": "code",
   "execution_count": 70,
   "metadata": {},
   "outputs": [],
   "source": [
    "adata_RNA_filtered.write(\"adata_RNA_filtered.h5ad\")"
   ]
  }
 ],
 "metadata": {
  "kernelspec": {
   "display_name": "Python 3 (ipykernel)",
   "language": "python",
   "name": "python3"
  },
  "language_info": {
   "codemirror_mode": {
    "name": "ipython",
    "version": 3
   },
   "file_extension": ".py",
   "mimetype": "text/x-python",
   "name": "python",
   "nbconvert_exporter": "python",
   "pygments_lexer": "ipython3",
   "version": "3.8.11"
  }
 },
 "nbformat": 4,
 "nbformat_minor": 4
}
